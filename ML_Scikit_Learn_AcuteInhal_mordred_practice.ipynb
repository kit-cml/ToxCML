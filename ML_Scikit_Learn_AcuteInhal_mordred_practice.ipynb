{
 "cells": [
  {
   "cell_type": "markdown",
   "metadata": {},
   "source": [
    "## 1. Import Module"
   ]
  },
  {
   "cell_type": "code",
   "execution_count": 1,
   "metadata": {},
   "outputs": [
    {
     "name": "stderr",
     "output_type": "stream",
     "text": [
      "Failed to find the pandas get_adjustment() function to patch\n",
      "Failed to patch pandas - PandasTools will have limited functionality\n"
     ]
    },
    {
     "name": "stdout",
     "output_type": "stream",
     "text": [
      "  * could not import Bokeh, plotting with Highcharts instead.\n",
      "- no local installation of highcharts found, using web version.\n",
      "- loading highcharts...\n"
     ]
    },
    {
     "data": {
      "text/html": [
       "\n",
       "<script src=\"http://code.highcharts.com/highcharts.js\"></script>\n",
       "<script src=\"http://code.highcharts.com/highcharts-more.js\"></script>\n",
       "<script src=\"http://code.highcharts.com/modules/heatmap.js\"></script>\n",
       "<script src=\"http://code.highcharts.com/modules/exporting.js\"></script>\n"
      ],
      "text/plain": [
       "<IPython.core.display.HTML object>"
      ]
     },
     "metadata": {},
     "output_type": "display_data"
    },
    {
     "name": "stdout",
     "output_type": "stream",
     "text": [
      "* SA scorer not available. RDKit's Contrib dir needs to be in the Python import path...\n",
      "tools.tools                                   (211209-10:18)\n",
      "- no local installation of JSME found, using web version.\n",
      "* SA scorer not available. RDKit's Contrib dir needs to be in the Python import path...\n",
      "> interactive IPython session.\n",
      "tools.sar                                     (211209-10:18)\n"
     ]
    }
   ],
   "source": [
    "import numpy as np\n",
    "import matplotlib.pyplot as plt\n",
    "from sklearn.decomposition import PCA\n",
    "from rdkit.Chem import PandasTools\n",
    "from sklearn.neighbors import KNeighborsClassifier\n",
    "import numpy as np\n",
    "import pandas as pd\n",
    "from rdkit import Chem\n",
    "from rdkit.Chem.Descriptors import MolLogP\n",
    "from sklearn.metrics import confusion_matrix,accuracy_score,f1_score\n",
    "from rdkit.Chem.AllChem import GetMorganFingerprintAsBitVect\n",
    "from rdkit.Chem import Descriptors\n",
    "import sys\n",
    "import multiprocessing\n",
    "from standardiser import break_bonds, neutralise, rules, unsalt\n",
    "from standardiser.utils import StandardiseException, sanity_check\n",
    "from rdkit.Chem import AllChem as Chem\n",
    "from rdkit.Chem import Draw\n",
    "from rdkit.Chem.Draw import IPythonConsole\n",
    "import joblib\n",
    "import sys\n",
    "def warn(*args, **kwargs):\n",
    "    pass  # to suppress sklearn warnings\n",
    "import warnings\n",
    "warnings.filterwarnings(\"ignore\")\n",
    "warnings.warn = warn\n",
    "from rdkit.Chem.Descriptors import MolLogP\n",
    "from rdkit.Chem import Descriptors\n",
    "from tools import tools\n",
    "from tools import  pipeline as p\n",
    "from tools import  sar\n",
    "from sklearn.metrics import cohen_kappa_score\n",
    "import csv\n",
    "from rdkit.Chem import MACCSkeys\n",
    "from sklearn.model_selection import ShuffleSplit\n",
    "import _pickle as cPickle\n",
    "from sklearn.model_selection import RepeatedStratifiedKFold\n",
    "from sklearn.model_selection import StratifiedShuffleSplit\n",
    "import bz2\n",
    "from glob import glob\n",
    "import _pickle as cPickle\n",
    "import pickle\n",
    "from sklearn.model_selection import train_test_split\n",
    "import seaborn as sns\n",
    "from sklearn.model_selection import train_test_split"
   ]
  },
  {
   "cell_type": "markdown",
   "metadata": {},
   "source": [
    "## 2. Load sdf file "
   ]
  },
  {
   "cell_type": "code",
   "execution_count": 3,
   "metadata": {},
   "outputs": [
    {
     "name": "stderr",
     "output_type": "stream",
     "text": [
      "Failed to patch pandas - unable to change molecule rendering\n"
     ]
    },
    {
     "data": {
      "text/plain": [
       "Index(['id', 'casrn', 'smiles (First)', 'Molecular weight', 'name', 'Outcome',\n",
       "       'Molecule (RDKit Mol) (InChI Code)', 'reference', 'molecule_form', 'ID',\n",
       "       'SMILES', 'Mol'],\n",
       "      dtype='object')"
      ]
     },
     "execution_count": 3,
     "metadata": {},
     "output_type": "execute_result"
    }
   ],
   "source": [
    "#Caminho do SDF\n",
    "file= \"E:/stoptox-master/stoptox-master/modeling/Projeto_2_Acute_Inhalation/data/train_set_toxic.sdf\"\n",
    "\n",
    "sdfInfo = dict(smilesName='SMILES',molColName='ROMol')\n",
    "moldf = PandasTools.LoadSDF(file,**sdfInfo)\n",
    "#Rename ROMol\n",
    "moldf = moldf.rename(columns={'ROMol': 'Mol'})\n",
    "#duplicatas by smiles\n",
    "moldf = moldf.drop_duplicates(subset=['SMILES'])\n",
    " RDKit\n",
    "moldf = moldf[pd.notnull(moldf['Mol'])]\n",
    "#Colunas no pandas\n",
    "moldf.keys()"
   ]
  },
  {
   "cell_type": "code",
   "execution_count": 7,
   "metadata": {},
   "outputs": [
    {
     "name": "stdout",
     "output_type": "stream",
     "text": [
      "(541, 4)\n",
      "<class 'pandas.core.frame.DataFrame'>\n",
      "Index: 541 entries, 0 to 540\n",
      "Data columns (total 4 columns):\n",
      " #   Column   Non-Null Count  Dtype \n",
      "---  ------   --------------  ----- \n",
      " 0   ID       541 non-null    object\n",
      " 1   Mol      541 non-null    object\n",
      " 2   SMILES   541 non-null    object\n",
      " 3   Outcome  541 non-null    int64 \n",
      "dtypes: int64(1), object(3)\n",
      "memory usage: 21.1+ KB\n"
     ]
    }
   ],
   "source": [
    "moldf = moldf[['ID','Mol', 'SMILES','Outcome']]\n",
    "moldf = moldf[(moldf['Outcome']== '0')|(moldf['Outcome']== '1')]\n",
    "print(moldf.shape)\n",
    "moldf.head()\n",
    "moldf.Outcome=pd.to_numeric(moldf.Outcome, errors='coerce')\n",
    "moldf.info()"
   ]
  },
  {
   "cell_type": "code",
   "execution_count": 8,
   "metadata": {},
   "outputs": [
    {
     "data": {
      "text/html": [
       "<div>\n",
       "<style scoped>\n",
       "    .dataframe tbody tr th:only-of-type {\n",
       "        vertical-align: middle;\n",
       "    }\n",
       "\n",
       "    .dataframe tbody tr th {\n",
       "        vertical-align: top;\n",
       "    }\n",
       "\n",
       "    .dataframe thead th {\n",
       "        text-align: right;\n",
       "    }\n",
       "</style>\n",
       "<table border=\"1\" class=\"dataframe\">\n",
       "  <thead>\n",
       "    <tr style=\"text-align: right;\">\n",
       "      <th></th>\n",
       "      <th>ID</th>\n",
       "      <th>Mol</th>\n",
       "      <th>SMILES</th>\n",
       "      <th>Outcome</th>\n",
       "    </tr>\n",
       "  </thead>\n",
       "  <tbody>\n",
       "    <tr>\n",
       "      <th>0</th>\n",
       "      <td></td>\n",
       "      <td>&lt;rdkit.Chem.rdchem.Mol object at 0x000002547E8...</td>\n",
       "      <td>CC(C)c1cccc2c(C(C)C)cccc12</td>\n",
       "      <td>0</td>\n",
       "    </tr>\n",
       "  </tbody>\n",
       "</table>\n",
       "</div>"
      ],
      "text/plain": [
       "  ID                                                Mol  \\\n",
       "0     <rdkit.Chem.rdchem.Mol object at 0x000002547E8...   \n",
       "\n",
       "                       SMILES  Outcome  \n",
       "0  CC(C)c1cccc2c(C(C)C)cccc12        0  "
      ]
     },
     "execution_count": 8,
     "metadata": {},
     "output_type": "execute_result"
    }
   ],
   "source": [
    "moldf.head(1)"
   ]
  },
  {
   "cell_type": "code",
   "execution_count": 9,
   "metadata": {},
   "outputs": [
    {
     "data": {
      "text/html": [
       "<div>\n",
       "<style scoped>\n",
       "    .dataframe tbody tr th:only-of-type {\n",
       "        vertical-align: middle;\n",
       "    }\n",
       "\n",
       "    .dataframe tbody tr th {\n",
       "        vertical-align: top;\n",
       "    }\n",
       "\n",
       "    .dataframe thead th {\n",
       "        text-align: right;\n",
       "    }\n",
       "</style>\n",
       "<table border=\"1\" class=\"dataframe\">\n",
       "  <thead>\n",
       "    <tr style=\"text-align: right;\">\n",
       "      <th></th>\n",
       "      <th>ID</th>\n",
       "      <th>Mol</th>\n",
       "      <th>SMILES</th>\n",
       "      <th>Outcome</th>\n",
       "      <th>RowID</th>\n",
       "    </tr>\n",
       "  </thead>\n",
       "  <tbody>\n",
       "    <tr>\n",
       "      <th>0</th>\n",
       "      <td></td>\n",
       "      <td>&lt;rdkit.Chem.rdchem.Mol object at 0x000002547E8...</td>\n",
       "      <td>CC(C)c1cccc2c(C(C)C)cccc12</td>\n",
       "      <td>0</td>\n",
       "      <td>0</td>\n",
       "    </tr>\n",
       "    <tr>\n",
       "      <th>491</th>\n",
       "      <td></td>\n",
       "      <td>&lt;rdkit.Chem.rdchem.Mol object at 0x000002547FA...</td>\n",
       "      <td>NC(=O)c1ccccc1N</td>\n",
       "      <td>0</td>\n",
       "      <td>491</td>\n",
       "    </tr>\n",
       "    <tr>\n",
       "      <th>492</th>\n",
       "      <td></td>\n",
       "      <td>&lt;rdkit.Chem.rdchem.Mol object at 0x000002547FA...</td>\n",
       "      <td>CCO[Si](OCC)(OCC)OCC</td>\n",
       "      <td>0</td>\n",
       "      <td>492</td>\n",
       "    </tr>\n",
       "    <tr>\n",
       "      <th>494</th>\n",
       "      <td></td>\n",
       "      <td>&lt;rdkit.Chem.rdchem.Mol object at 0x000002547FA...</td>\n",
       "      <td>FC(F)(F)C(Cl)(Cl)Cl</td>\n",
       "      <td>0</td>\n",
       "      <td>494</td>\n",
       "    </tr>\n",
       "    <tr>\n",
       "      <th>497</th>\n",
       "      <td></td>\n",
       "      <td>&lt;rdkit.Chem.rdchem.Mol object at 0x000002547FA...</td>\n",
       "      <td>CC(F)(F)Cl</td>\n",
       "      <td>0</td>\n",
       "      <td>497</td>\n",
       "    </tr>\n",
       "    <tr>\n",
       "      <th>...</th>\n",
       "      <td>...</td>\n",
       "      <td>...</td>\n",
       "      <td>...</td>\n",
       "      <td>...</td>\n",
       "      <td>...</td>\n",
       "    </tr>\n",
       "    <tr>\n",
       "      <th>281</th>\n",
       "      <td></td>\n",
       "      <td>&lt;rdkit.Chem.rdchem.Mol object at 0x000002547FA...</td>\n",
       "      <td>c1ccc2c(c1)CCNC2</td>\n",
       "      <td>1</td>\n",
       "      <td>281</td>\n",
       "    </tr>\n",
       "    <tr>\n",
       "      <th>284</th>\n",
       "      <td></td>\n",
       "      <td>&lt;rdkit.Chem.rdchem.Mol object at 0x000002547FA...</td>\n",
       "      <td>CC[Al](CC)CC</td>\n",
       "      <td>1</td>\n",
       "      <td>284</td>\n",
       "    </tr>\n",
       "    <tr>\n",
       "      <th>280</th>\n",
       "      <td></td>\n",
       "      <td>&lt;rdkit.Chem.rdchem.Mol object at 0x000002547FA...</td>\n",
       "      <td>C[N+](C)(C)CC1CO1</td>\n",
       "      <td>1</td>\n",
       "      <td>280</td>\n",
       "    </tr>\n",
       "    <tr>\n",
       "      <th>279</th>\n",
       "      <td></td>\n",
       "      <td>&lt;rdkit.Chem.rdchem.Mol object at 0x000002547FA...</td>\n",
       "      <td>CS</td>\n",
       "      <td>1</td>\n",
       "      <td>279</td>\n",
       "    </tr>\n",
       "    <tr>\n",
       "      <th>276</th>\n",
       "      <td></td>\n",
       "      <td>&lt;rdkit.Chem.rdchem.Mol object at 0x000002547FA...</td>\n",
       "      <td>CC1CO1</td>\n",
       "      <td>1</td>\n",
       "      <td>276</td>\n",
       "    </tr>\n",
       "  </tbody>\n",
       "</table>\n",
       "<p>300 rows × 5 columns</p>\n",
       "</div>"
      ],
      "text/plain": [
       "    ID                                                Mol  \\\n",
       "0       <rdkit.Chem.rdchem.Mol object at 0x000002547E8...   \n",
       "491     <rdkit.Chem.rdchem.Mol object at 0x000002547FA...   \n",
       "492     <rdkit.Chem.rdchem.Mol object at 0x000002547FA...   \n",
       "494     <rdkit.Chem.rdchem.Mol object at 0x000002547FA...   \n",
       "497     <rdkit.Chem.rdchem.Mol object at 0x000002547FA...   \n",
       "..  ..                                                ...   \n",
       "281     <rdkit.Chem.rdchem.Mol object at 0x000002547FA...   \n",
       "284     <rdkit.Chem.rdchem.Mol object at 0x000002547FA...   \n",
       "280     <rdkit.Chem.rdchem.Mol object at 0x000002547FA...   \n",
       "279     <rdkit.Chem.rdchem.Mol object at 0x000002547FA...   \n",
       "276     <rdkit.Chem.rdchem.Mol object at 0x000002547FA...   \n",
       "\n",
       "                         SMILES  Outcome  RowID  \n",
       "0    CC(C)c1cccc2c(C(C)C)cccc12        0      0  \n",
       "491             NC(=O)c1ccccc1N        0    491  \n",
       "492        CCO[Si](OCC)(OCC)OCC        0    492  \n",
       "494         FC(F)(F)C(Cl)(Cl)Cl        0    494  \n",
       "497                  CC(F)(F)Cl        0    497  \n",
       "..                          ...      ...    ...  \n",
       "281            c1ccc2c(c1)CCNC2        1    281  \n",
       "284                CC[Al](CC)CC        1    284  \n",
       "280           C[N+](C)(C)CC1CO1        1    280  \n",
       "279                          CS        1    279  \n",
       "276                      CC1CO1        1    276  \n",
       "\n",
       "[300 rows x 5 columns]"
      ]
     },
     "execution_count": 9,
     "metadata": {},
     "output_type": "execute_result"
    }
   ],
   "source": [
    "moldf= moldf.sort_values(['Outcome'], ascending=True)\n",
    "moldf['RowID'] = moldf.index\n",
    "moldf.head(300)"
   ]
  },
  {
   "cell_type": "code",
   "execution_count": 10,
   "metadata": {},
   "outputs": [
    {
     "data": {
      "image/png": "[encoded data removed]",
      "text/plain": [
       "<PIL.PngImagePlugin.PngImageFile image mode=RGB size=200x200 at 0x2547FB12370>"
      ]
     },
     "metadata": {},
     "output_type": "display_data"
    },
    {
     "name": "stdout",
     "output_type": "stream",
     "text": [
      "CC(C)c1cccc2c(C(C)C)cccc12\n"
     ]
    },
    {
     "data": {
      "image/png": "[encoded data removed]",
      "text/plain": [
       "<PIL.PngImagePlugin.PngImageFile image mode=RGB size=200x200 at 0x2547FB12490>"
      ]
     },
     "metadata": {},
     "output_type": "display_data"
    },
    {
     "name": "stdout",
     "output_type": "stream",
     "text": [
      "NC(=O)c1ccccc1N\n"
     ]
    },
    {
     "data": {
      "image/png": "[encoded data removed]",
      "text/plain": [
       "<PIL.PngImagePlugin.PngImageFile image mode=RGB size=200x200 at 0x2547FB31A30>"
      ]
     },
     "metadata": {},
     "output_type": "display_data"
    },
    {
     "name": "stdout",
     "output_type": "stream",
     "text": [
      "CCO[Si](OCC)(OCC)OCC\n"
     ]
    },
    {
     "data": {
      "image/png": "[encoded data removed]",
      "text/plain": [
       "<PIL.PngImagePlugin.PngImageFile image mode=RGB size=200x200 at 0x2547FB319D0>"
      ]
     },
     "metadata": {},
     "output_type": "display_data"
    },
    {
     "name": "stdout",
     "output_type": "stream",
     "text": [
      "FC(F)(F)C(Cl)(Cl)Cl\n"
     ]
    },
    {
     "data": {
      "image/png": "[encoded data removed]",
      "text/plain": [
       "<PIL.PngImagePlugin.PngImageFile image mode=RGB size=200x200 at 0x2547FB31AC0>"
      ]
     },
     "metadata": {},
     "output_type": "display_data"
    },
    {
     "name": "stdout",
     "output_type": "stream",
     "text": [
      "CC(F)(F)Cl\n"
     ]
    },
    {
     "data": {
      "image/png": "[encoded data removed]",
      "text/plain": [
       "<PIL.PngImagePlugin.PngImageFile image mode=RGB size=200x200 at 0x2547FB317C0>"
      ]
     },
     "metadata": {},
     "output_type": "display_data"
    },
    {
     "name": "stdout",
     "output_type": "stream",
     "text": [
      "CC(C)OC(=O)CCCCC(=O)OC(C)C\n"
     ]
    },
    {
     "data": {
      "image/png": "[encoded data removed]",
      "text/plain": [
       "<PIL.PngImagePlugin.PngImageFile image mode=RGB size=200x200 at 0x2547FB31A00>"
      ]
     },
     "metadata": {},
     "output_type": "display_data"
    },
    {
     "name": "stdout",
     "output_type": "stream",
     "text": [
      "CC1CC(=O)CC(C)(C)C1\n"
     ]
    },
    {
     "data": {
      "image/png": "[encoded data removed]",
      "text/plain": [
       "<PIL.PngImagePlugin.PngImageFile image mode=RGB size=200x200 at 0x2547FB31910>"
      ]
     },
     "metadata": {},
     "output_type": "display_data"
    },
    {
     "name": "stdout",
     "output_type": "stream",
     "text": [
      "C=C(CC(C)(C)c1ccccc1)c1ccccc1\n"
     ]
    },
    {
     "data": {
      "image/png": "[encoded data removed]",
      "text/plain": [
       "<PIL.PngImagePlugin.PngImageFile image mode=RGB size=200x200 at 0x2547FB318E0>"
      ]
     },
     "metadata": {},
     "output_type": "display_data"
    },
    {
     "name": "stdout",
     "output_type": "stream",
     "text": [
      "CCCCCCCCCCCCCCCCC\n"
     ]
    },
    {
     "data": {
      "image/png": "[encoded data removed]",
      "text/plain": [
       "<PIL.PngImagePlugin.PngImageFile image mode=RGB size=200x200 at 0x2547FB31A30>"
      ]
     },
     "metadata": {},
     "output_type": "display_data"
    },
    {
     "name": "stdout",
     "output_type": "stream",
     "text": [
      "CC1C2CC(CC2C2CCCC(O)C2)C1(C)C\n"
     ]
    }
   ],
   "source": [
    "from rdkit.Chem import Draw\n",
    "from IPython.display import display\n",
    "\n",
    "def display_molecules_in_column(moldf, num_mols):\n",
    "    for _, row in moldf.head(num_mols).iterrows():\n",
    "        mol = row['Mol']\n",
    "        smi = row['SMILES']\n",
    "        if mol is not None:\n",
    "            img = Draw.MolToImage(mol, size=(200, 200))\n",
    "            display(img)\n",
    "            print(smi)  # Prints the SMILES representation below the image\n",
    "\n",
    "# Display the first 10 molecules, each on a new row\n",
    "display_molecules_in_column(moldf, 10)\n"
   ]
  },
  {
   "cell_type": "markdown",
   "metadata": {},
   "source": [
    "## Data distribution"
   ]
  },
  {
   "cell_type": "code",
   "execution_count": 11,
   "metadata": {
    "scrolled": true
   },
   "outputs": [
    {
     "name": "stdout",
     "output_type": "stream",
     "text": [
      "Classes                          :  [0 1]\n",
      "Number of cpds in each class     :  [259 282]\n",
      "Total number of cpds             :  541\n"
     ]
    }
   ],
   "source": [
    "from sklearn.preprocessing import LabelEncoder\n",
    "le = LabelEncoder()\n",
    "\n",
    "\n",
    "outcomes=(np.unique(moldf['Outcome']))\n",
    "le.fit(list(set(outcomes)))\n",
    "y = le.transform( moldf['Outcome'] )\n",
    "\n",
    "\n",
    "\n",
    "print (\"Classes                          : \",(outcomes))\n",
    "print (\"Number of cpds in each class     : \",np.unique([len(y[y==smi]) for smi in y]))\n",
    "print (\"Total number of cpds             : \",len(y))\n",
    "\n",
    "S = moldf['Outcome']\n",
    "info = {}\n",
    "for i,cls in enumerate(S.unique()):\n",
    "    info.update({cls:i})\n",
    "    S = S.replace(cls,i)"
   ]
  },
  {
   "cell_type": "code",
   "execution_count": 12,
   "metadata": {},
   "outputs": [
    {
     "data": {
      "text/plain": [
       "{0: 0, 1: 1}"
      ]
     },
     "execution_count": 12,
     "metadata": {},
     "output_type": "execute_result"
    },
    {
     "data": {
      "image/png": "[encoded data removed]",
      "text/plain": [
       "<Figure size 432x288 with 1 Axes>"
      ]
     },
     "metadata": {
      "needs_background": "light"
     },
     "output_type": "display_data"
    }
   ],
   "source": [
    "ax = S.hist(bins=np.arange(-0.5,5))\n",
    "ax.set_xticks(range(0,5))\n",
    "info"
   ]
  },
  {
   "cell_type": "code",
   "execution_count": 14,
   "metadata": {},
   "outputs": [
    {
     "name": "stdout",
     "output_type": "stream",
     "text": [
      "Collecting mordred\n",
      "  Downloading mordred-1.2.0.tar.gz (128 kB)\n",
      "     -------------------------------------- 128.8/128.8 kB 7.9 MB/s eta 0:00:00\n",
      "  Preparing metadata (setup.py): started\n",
      "  Preparing metadata (setup.py): finished with status 'done'\n",
      "Requirement already satisfied: six==1.* in c:\\users\\user-pc\\anaconda3\\lib\\site-packages (from mordred) (1.16.0)\n",
      "Requirement already satisfied: numpy==1.* in c:\\users\\user-pc\\anaconda3\\lib\\site-packages (from mordred) (1.24.3)\n",
      "Requirement already satisfied: networkx==2.* in c:\\users\\user-pc\\anaconda3\\lib\\site-packages (from mordred) (2.7.1)\n",
      "Building wheels for collected packages: mordred\n",
      "  Building wheel for mordred (setup.py): started\n",
      "  Building wheel for mordred (setup.py): finished with status 'done'\n",
      "  Created wheel for mordred: filename=mordred-1.2.0-py3-none-any.whl size=176725 sha256=0af1203e49c853d5740e64def76f81a92fd489cc3c922d0c0ba087735caf7159\n",
      "  Stored in directory: c:\\users\\user-pc\\appdata\\local\\pip\\cache\\wheels\\05\\95\\d1\\9e913738f0e8362b3676917b953a60afd76d2b0b99ff8a71ec\n",
      "Successfully built mordred\n",
      "Installing collected packages: mordred\n",
      "Successfully installed mordred-1.2.0\n",
      "Note: you may need to restart the kernel to use updated packages.\n"
     ]
    },
    {
     "name": "stderr",
     "output_type": "stream",
     "text": [
      "WARNING: Ignoring invalid distribution -ensorflow-intel (c:\\users\\user-pc\\appdata\\roaming\\python\\python39\\site-packages)\n",
      "WARNING: Ignoring invalid distribution -rotobuf (c:\\users\\user-pc\\appdata\\roaming\\python\\python39\\site-packages)\n",
      "WARNING: Ignoring invalid distribution -ensorflow-intel (c:\\users\\user-pc\\appdata\\roaming\\python\\python39\\site-packages)\n",
      "WARNING: Ignoring invalid distribution -rotobuf (c:\\users\\user-pc\\appdata\\roaming\\python\\python39\\site-packages)\n",
      "WARNING: Ignoring invalid distribution -atplotlib (c:\\users\\user-pc\\anaconda3\\lib\\site-packages)\n",
      "WARNING: Ignoring invalid distribution -ensorflow-intel (c:\\users\\user-pc\\appdata\\roaming\\python\\python39\\site-packages)\n",
      "WARNING: Ignoring invalid distribution -rotobuf (c:\\users\\user-pc\\appdata\\roaming\\python\\python39\\site-packages)\n",
      "WARNING: Ignoring invalid distribution -atplotlib (c:\\users\\user-pc\\anaconda3\\lib\\site-packages)\n",
      "WARNING: Ignoring invalid distribution -ensorflow-intel (c:\\users\\user-pc\\appdata\\roaming\\python\\python39\\site-packages)\n",
      "WARNING: Ignoring invalid distribution -rotobuf (c:\\users\\user-pc\\appdata\\roaming\\python\\python39\\site-packages)\n"
     ]
    }
   ],
   "source": [
    "pip install mordred\n"
   ]
  },
  {
   "cell_type": "markdown",
   "metadata": {},
   "source": [
    "## 5.Modred calculation"
   ]
  },
  {
   "cell_type": "code",
   "execution_count": 13,
   "metadata": {},
   "outputs": [
    {
     "name": "stderr",
     "output_type": "stream",
     "text": [
      " 25%|██▍       | 134/541 [00:04<00:07, 56.97it/s]"
     ]
    },
    {
     "name": "stdout",
     "output_type": "stream",
     "text": [
      "C:\\Users\\USER-PC\\anaconda3\\lib\\site-packages\\numpy\\core\\fromnumeric.py:86: RuntimeWarning: overflow encountered in reduce\n",
      "  return ufunc.reduce(obj, axis, dtype, out, **passkwargs)\n",
      "C:\\Users\\USER-PC\\anaconda3\\lib\\site-packages\\numpy\\core\\fromnumeric.py:86: RuntimeWarning: overflow encountered in reduce\n",
      "  return ufunc.reduce(obj, axis, dtype, out, **passkwargs)\n"
     ]
    },
    {
     "name": "stderr",
     "output_type": "stream",
     "text": [
      " 32%|███▏      | 174/541 [00:05<00:06, 56.61it/s]"
     ]
    },
    {
     "name": "stdout",
     "output_type": "stream",
     "text": [
      "C:\\Users\\USER-PC\\anaconda3\\lib\\site-packages\\numpy\\core\\fromnumeric.py:86: RuntimeWarning: overflow encountered in reduce\n",
      "  return ufunc.reduce(obj, axis, dtype, out, **passkwargs)\n"
     ]
    },
    {
     "name": "stderr",
     "output_type": "stream",
     "text": [
      " 43%|████▎     | 231/541 [00:06<00:04, 76.09it/s]"
     ]
    },
    {
     "name": "stdout",
     "output_type": "stream",
     "text": [
      "C:\\Users\\USER-PC\\anaconda3\\lib\\site-packages\\numpy\\core\\fromnumeric.py:86: RuntimeWarning: overflow encountered in reduce\n",
      "  return ufunc.reduce(obj, axis, dtype, out, **passkwargs)\n"
     ]
    },
    {
     "name": "stderr",
     "output_type": "stream",
     "text": [
      "100%|██████████| 541/541 [00:09<00:00, 58.10it/s] \n"
     ]
    }
   ],
   "source": [
    "from sklearn.preprocessing import StandardScaler\n",
    "from rdkit import Chem\n",
    "from mordred import Calculator, descriptors\n",
    "\n",
    "# create descriptor calculator with all descriptors\n",
    "calc = Calculator(descriptors, ignore_3D=True)\n",
    "df = calc.pandas(moldf['Mol'])"
   ]
  },
  {
   "cell_type": "code",
   "execution_count": 17,
   "metadata": {},
   "outputs": [
    {
     "name": "stdout",
     "output_type": "stream",
     "text": [
      "Collecting fancyimpute\n",
      "  Downloading fancyimpute-0.7.0.tar.gz (25 kB)\n",
      "  Preparing metadata (setup.py): started\n",
      "  Preparing metadata (setup.py): finished with status 'done'\n",
      "Collecting knnimpute>=0.1.0 (from fancyimpute)\n",
      "  Downloading knnimpute-0.1.0.tar.gz (8.3 kB)\n",
      "  Preparing metadata (setup.py): started\n",
      "  Preparing metadata (setup.py): finished with status 'done'\n",
      "Requirement already satisfied: scikit-learn>=0.24.2 in c:\\users\\user-pc\\anaconda3\\lib\\site-packages (from fancyimpute) (1.3.0)\n",
      "Collecting cvxpy (from fancyimpute)\n",
      "  Downloading cvxpy-1.4.2-cp39-cp39-win_amd64.whl.metadata (9.0 kB)\n",
      "Collecting cvxopt (from fancyimpute)\n",
      "  Downloading cvxopt-1.3.2-cp39-cp39-win_amd64.whl.metadata (1.4 kB)\n",
      "Requirement already satisfied: pytest in c:\\users\\user-pc\\anaconda3\\lib\\site-packages (from fancyimpute) (7.1.1)\n",
      "Requirement already satisfied: nose in c:\\users\\user-pc\\anaconda3\\lib\\site-packages (from fancyimpute) (1.3.7)\n",
      "Requirement already satisfied: six in c:\\users\\user-pc\\anaconda3\\lib\\site-packages (from knnimpute>=0.1.0->fancyimpute) (1.16.0)\n",
      "Requirement already satisfied: numpy>=1.10 in c:\\users\\user-pc\\anaconda3\\lib\\site-packages (from knnimpute>=0.1.0->fancyimpute) (1.24.3)\n",
      "Requirement already satisfied: scipy>=1.5.0 in c:\\users\\user-pc\\anaconda3\\lib\\site-packages (from scikit-learn>=0.24.2->fancyimpute) (1.10.1)\n",
      "Requirement already satisfied: joblib>=1.1.1 in c:\\users\\user-pc\\anaconda3\\lib\\site-packages (from scikit-learn>=0.24.2->fancyimpute) (1.1.1)\n",
      "Requirement already satisfied: threadpoolctl>=2.0.0 in c:\\users\\user-pc\\anaconda3\\lib\\site-packages (from scikit-learn>=0.24.2->fancyimpute) (2.2.0)\n",
      "Collecting osqp>=0.6.2 (from cvxpy->fancyimpute)\n",
      "  Downloading osqp-0.6.5-cp39-cp39-win_amd64.whl.metadata (1.8 kB)\n",
      "Collecting ecos>=2 (from cvxpy->fancyimpute)\n",
      "  Downloading ecos-2.0.13-cp39-cp39-win_amd64.whl.metadata (8.2 kB)\n",
      "Collecting clarabel>=0.5.0 (from cvxpy->fancyimpute)\n",
      "  Downloading clarabel-0.7.1-cp37-abi3-win_amd64.whl.metadata (4.7 kB)\n",
      "Collecting scs>=3.0 (from cvxpy->fancyimpute)\n",
      "  Downloading scs-3.2.4.post1-cp39-cp39-win_amd64.whl.metadata (2.1 kB)\n",
      "Collecting pybind11 (from cvxpy->fancyimpute)\n",
      "  Downloading pybind11-2.12.0-py3-none-any.whl.metadata (9.5 kB)\n",
      "Requirement already satisfied: attrs>=19.2.0 in c:\\users\\user-pc\\anaconda3\\lib\\site-packages (from pytest->fancyimpute) (21.4.0)\n",
      "Requirement already satisfied: iniconfig in c:\\users\\user-pc\\anaconda3\\lib\\site-packages (from pytest->fancyimpute) (1.1.1)\n",
      "Requirement already satisfied: packaging in c:\\users\\user-pc\\anaconda3\\lib\\site-packages (from pytest->fancyimpute) (21.3)\n",
      "Requirement already satisfied: pluggy<2.0,>=0.12 in c:\\users\\user-pc\\anaconda3\\lib\\site-packages (from pytest->fancyimpute) (1.0.0)\n",
      "Requirement already satisfied: py>=1.8.2 in c:\\users\\user-pc\\anaconda3\\lib\\site-packages (from pytest->fancyimpute) (1.11.0)\n",
      "Requirement already satisfied: tomli>=1.0.0 in c:\\users\\user-pc\\anaconda3\\lib\\site-packages (from pytest->fancyimpute) (1.2.2)\n",
      "Requirement already satisfied: atomicwrites>=1.0 in c:\\users\\user-pc\\anaconda3\\lib\\site-packages (from pytest->fancyimpute) (1.4.0)\n",
      "Requirement already satisfied: colorama in c:\\users\\user-pc\\anaconda3\\lib\\site-packages (from pytest->fancyimpute) (0.4.4)\n",
      "Collecting qdldl (from osqp>=0.6.2->cvxpy->fancyimpute)\n",
      "  Downloading qdldl-0.1.7.post0-cp39-cp39-win_amd64.whl.metadata (1.8 kB)\n",
      "Requirement already satisfied: pyparsing!=3.0.5,>=2.0.2 in c:\\users\\user-pc\\anaconda3\\lib\\site-packages (from packaging->pytest->fancyimpute) (3.0.4)\n",
      "Downloading cvxopt-1.3.2-cp39-cp39-win_amd64.whl (12.8 MB)\n",
      "   ---------------------------------------- 12.8/12.8 MB 10.4 MB/s eta 0:00:00\n",
      "Downloading cvxpy-1.4.2-cp39-cp39-win_amd64.whl (1.0 MB)\n",
      "   ---------------------------------------- 1.0/1.0 MB 10.9 MB/s eta 0:00:00\n",
      "Downloading clarabel-0.7.1-cp37-abi3-win_amd64.whl (321 kB)\n",
      "   --------------------------------------- 321.5/321.5 kB 10.0 MB/s eta 0:00:00\n",
      "Downloading ecos-2.0.13-cp39-cp39-win_amd64.whl (72 kB)\n",
      "   ---------------------------------------- 72.0/72.0 kB 3.9 MB/s eta 0:00:00\n",
      "Downloading osqp-0.6.5-cp39-cp39-win_amd64.whl (293 kB)\n",
      "   ---------------------------------------- 293.1/293.1 kB 8.8 MB/s eta 0:00:00\n",
      "Downloading scs-3.2.4.post1-cp39-cp39-win_amd64.whl (8.4 MB)\n",
      "   ---------------------------------------- 8.4/8.4 MB 8.7 MB/s eta 0:00:00\n",
      "Downloading pybind11-2.12.0-py3-none-any.whl (234 kB)\n",
      "   ---------------------------------------- 235.0/235.0 kB 7.2 MB/s eta 0:00:00\n",
      "Downloading qdldl-0.1.7.post0-cp39-cp39-win_amd64.whl (85 kB)\n",
      "   ---------------------------------------- 85.1/85.1 kB 5.0 MB/s eta 0:00:00\n",
      "Building wheels for collected packages: fancyimpute, knnimpute\n",
      "  Building wheel for fancyimpute (setup.py): started\n",
      "  Building wheel for fancyimpute (setup.py): finished with status 'done'\n",
      "  Created wheel for fancyimpute: filename=fancyimpute-0.7.0-py3-none-any.whl size=29899 sha256=4805bba81bc9cf541c63144bcfa7a0bd1c5b5c2a19150ef70a43086e861df091\n",
      "  Stored in directory: c:\\users\\user-pc\\appdata\\local\\pip\\cache\\wheels\\f9\\fc\\6a\\b0406b906bce293abe23c3b6da5a72637d2d04146ef1125a0b\n",
      "  Building wheel for knnimpute (setup.py): started\n",
      "  Building wheel for knnimpute (setup.py): finished with status 'done'\n",
      "  Created wheel for knnimpute: filename=knnimpute-0.1.0-py3-none-any.whl size=11353 sha256=4bdb5ae7e769574f8ee002866b1c0f5ce83a224738b01ae073ab8f24288fa476\n",
      "  Stored in directory: c:\\users\\user-pc\\appdata\\local\\pip\\cache\\wheels\\88\\c4\\be\\e232c750d9bc360abf9a5e2cafe0d3e08e3605d2801bb11684\n",
      "Successfully built fancyimpute knnimpute\n",
      "Installing collected packages: pybind11, knnimpute, cvxopt, scs, qdldl, ecos, clarabel, osqp, cvxpy, fancyimpute\n",
      "Successfully installed clarabel-0.7.1 cvxopt-1.3.2 cvxpy-1.4.2 ecos-2.0.13 fancyimpute-0.7.0 knnimpute-0.1.0 osqp-0.6.5 pybind11-2.12.0 qdldl-0.1.7.post0 scs-3.2.4.post1\n",
      "Note: you may need to restart the kernel to use updated packages.\n"
     ]
    },
    {
     "name": "stderr",
     "output_type": "stream",
     "text": [
      "WARNING: Ignoring invalid distribution -ensorflow-intel (c:\\users\\user-pc\\appdata\\roaming\\python\\python39\\site-packages)\n",
      "WARNING: Ignoring invalid distribution -rotobuf (c:\\users\\user-pc\\appdata\\roaming\\python\\python39\\site-packages)\n",
      "WARNING: Ignoring invalid distribution -ensorflow-intel (c:\\users\\user-pc\\appdata\\roaming\\python\\python39\\site-packages)\n",
      "WARNING: Ignoring invalid distribution -rotobuf (c:\\users\\user-pc\\appdata\\roaming\\python\\python39\\site-packages)\n",
      "WARNING: Ignoring invalid distribution -atplotlib (c:\\users\\user-pc\\anaconda3\\lib\\site-packages)\n",
      "WARNING: Ignoring invalid distribution -ensorflow-intel (c:\\users\\user-pc\\appdata\\roaming\\python\\python39\\site-packages)\n",
      "WARNING: Ignoring invalid distribution -rotobuf (c:\\users\\user-pc\\appdata\\roaming\\python\\python39\\site-packages)\n",
      "WARNING: Ignoring invalid distribution -atplotlib (c:\\users\\user-pc\\anaconda3\\lib\\site-packages)\n",
      "WARNING: Ignoring invalid distribution -ensorflow-intel (c:\\users\\user-pc\\appdata\\roaming\\python\\python39\\site-packages)\n",
      "WARNING: Ignoring invalid distribution -rotobuf (c:\\users\\user-pc\\appdata\\roaming\\python\\python39\\site-packages)\n"
     ]
    }
   ],
   "source": [
    "pip install fancyimpute\n"
   ]
  },
  {
   "cell_type": "code",
   "execution_count": 14,
   "metadata": {},
   "outputs": [
    {
     "name": "stdout",
     "output_type": "stream",
     "text": [
      "(CVXPY) Jun 02 05:18:59 PM: Encountered unexpected exception importing solver CVXOPT:\n",
      "ImportError('DLL load failed while importing base: The specified module could not be found.')\n",
      "(CVXPY) Jun 02 05:18:59 PM: Encountered unexpected exception importing solver GLPK:\n",
      "ImportError('DLL load failed while importing base: The specified module could not be found.')\n",
      "(CVXPY) Jun 02 05:18:59 PM: Encountered unexpected exception importing solver GLPK_MI:\n",
      "ImportError('DLL load failed while importing base: The specified module could not be found.')\n",
      "Imputing row 1/541 with 0 missing, elapsed time: 0.402\n",
      "Imputing row 101/541 with 0 missing, elapsed time: 0.402\n",
      "Imputing row 201/541 with 0 missing, elapsed time: 0.403\n",
      "Imputing row 301/541 with 0 missing, elapsed time: 0.403\n",
      "Imputing row 401/541 with 0 missing, elapsed time: 0.404\n",
      "Imputing row 501/541 with 0 missing, elapsed time: 0.404\n"
     ]
    }
   ],
   "source": [
    "from fancyimpute import KNN\n",
    "import pandas as pd\n",
    "import numpy as np\n",
    "\n",
    "# Assuming 'df' is your original DataFrame\n",
    "df_numeric = df.select_dtypes(include=[float])  # Using Python's built-in float type\n",
    "\n",
    "# Now run fancyimpute KNN, it returns a np.array which I store as a pandas dataframe\n",
    "# Assuming the columns in df_numeric should be preserved for df_filled\n",
    "df_filled = pd.DataFrame(KNN(k=3).fit_transform(df_numeric), columns=df_numeric.columns, index=df_numeric.index)\n"
   ]
  },
  {
   "cell_type": "code",
   "execution_count": 15,
   "metadata": {},
   "outputs": [
    {
     "data": {
      "text/html": [
       "<div>\n",
       "<style scoped>\n",
       "    .dataframe tbody tr th:only-of-type {\n",
       "        vertical-align: middle;\n",
       "    }\n",
       "\n",
       "    .dataframe tbody tr th {\n",
       "        vertical-align: top;\n",
       "    }\n",
       "\n",
       "    .dataframe thead th {\n",
       "        text-align: right;\n",
       "    }\n",
       "</style>\n",
       "<table border=\"1\" class=\"dataframe\">\n",
       "  <thead>\n",
       "    <tr style=\"text-align: right;\">\n",
       "      <th></th>\n",
       "      <th>ID</th>\n",
       "      <th>Mol</th>\n",
       "      <th>SMILES</th>\n",
       "      <th>Outcome</th>\n",
       "      <th>RowID</th>\n",
       "      <th>Descriptors</th>\n",
       "    </tr>\n",
       "  </thead>\n",
       "  <tbody>\n",
       "    <tr>\n",
       "      <th>0</th>\n",
       "      <td></td>\n",
       "      <td>&lt;rdkit.Chem.rdchem.Mol object at 0x000002547E8...</td>\n",
       "      <td>CC(C)c1cccc2c(C(C)C)cccc12</td>\n",
       "      <td>0</td>\n",
       "      <td>0</td>\n",
       "      <td>[0.5659596548561933, 1.1875118998698118, 1.255...</td>\n",
       "    </tr>\n",
       "    <tr>\n",
       "      <th>491</th>\n",
       "      <td></td>\n",
       "      <td>&lt;rdkit.Chem.rdchem.Mol object at 0x000002547FA...</td>\n",
       "      <td>NC(=O)c1ccccc1N</td>\n",
       "      <td>0</td>\n",
       "      <td>491</td>\n",
       "      <td>[-0.18718971751636582, 0.5594893095428105, 0.6...</td>\n",
       "    </tr>\n",
       "    <tr>\n",
       "      <th>492</th>\n",
       "      <td></td>\n",
       "      <td>&lt;rdkit.Chem.rdchem.Mol object at 0x000002547FA...</td>\n",
       "      <td>CCO[Si](OCC)(OCC)OCC</td>\n",
       "      <td>0</td>\n",
       "      <td>492</td>\n",
       "      <td>[0.07758842050474492, 0.6354612702770022, 0.69...</td>\n",
       "    </tr>\n",
       "    <tr>\n",
       "      <th>494</th>\n",
       "      <td></td>\n",
       "      <td>&lt;rdkit.Chem.rdchem.Mol object at 0x000002547FA...</td>\n",
       "      <td>FC(F)(F)C(Cl)(Cl)Cl</td>\n",
       "      <td>0</td>\n",
       "      <td>494</td>\n",
       "      <td>[-0.6249143890319181, 0.6878726171195476, 0.74...</td>\n",
       "    </tr>\n",
       "    <tr>\n",
       "      <th>497</th>\n",
       "      <td></td>\n",
       "      <td>&lt;rdkit.Chem.rdchem.Mol object at 0x000002547FA...</td>\n",
       "      <td>CC(F)(F)Cl</td>\n",
       "      <td>0</td>\n",
       "      <td>497</td>\n",
       "      <td>[-0.9217807513882242, -0.4042712276941926, -0....</td>\n",
       "    </tr>\n",
       "  </tbody>\n",
       "</table>\n",
       "</div>"
      ],
      "text/plain": [
       "    ID                                                Mol  \\\n",
       "0       <rdkit.Chem.rdchem.Mol object at 0x000002547E8...   \n",
       "491     <rdkit.Chem.rdchem.Mol object at 0x000002547FA...   \n",
       "492     <rdkit.Chem.rdchem.Mol object at 0x000002547FA...   \n",
       "494     <rdkit.Chem.rdchem.Mol object at 0x000002547FA...   \n",
       "497     <rdkit.Chem.rdchem.Mol object at 0x000002547FA...   \n",
       "\n",
       "                         SMILES  Outcome  RowID  \\\n",
       "0    CC(C)c1cccc2c(C(C)C)cccc12        0      0   \n",
       "491             NC(=O)c1ccccc1N        0    491   \n",
       "492        CCO[Si](OCC)(OCC)OCC        0    492   \n",
       "494         FC(F)(F)C(Cl)(Cl)Cl        0    494   \n",
       "497                  CC(F)(F)Cl        0    497   \n",
       "\n",
       "                                           Descriptors  \n",
       "0    [0.5659596548561933, 1.1875118998698118, 1.255...  \n",
       "491  [-0.18718971751636582, 0.5594893095428105, 0.6...  \n",
       "492  [0.07758842050474492, 0.6354612702770022, 0.69...  \n",
       "494  [-0.6249143890319181, 0.6878726171195476, 0.74...  \n",
       "497  [-0.9217807513882242, -0.4042712276941926, -0....  "
      ]
     },
     "execution_count": 15,
     "metadata": {},
     "output_type": "execute_result"
    }
   ],
   "source": [
    "y= np.int32((S))\n",
    "X = np.array(df_filled)\n",
    "scaler = StandardScaler()\n",
    "x=  scaler.fit_transform(X)\n",
    "moldf['Descriptors'] = x.tolist()\n",
    "moldf.head()"
   ]
  },
  {
   "cell_type": "code",
   "execution_count": 16,
   "metadata": {},
   "outputs": [
    {
     "name": "stdout",
     "output_type": "stream",
     "text": [
      "(541, 739)\n"
     ]
    }
   ],
   "source": [
    "print(x.shape)"
   ]
  },
  {
   "cell_type": "code",
   "execution_count": 17,
   "metadata": {},
   "outputs": [
    {
     "name": "stdout",
     "output_type": "stream",
     "text": [
      "739\n"
     ]
    }
   ],
   "source": [
    "num_features = x.shape[1]\n",
    "print(num_features)\n"
   ]
  },
  {
   "cell_type": "code",
   "execution_count": 18,
   "metadata": {},
   "outputs": [
    {
     "name": "stdout",
     "output_type": "stream",
     "text": [
      "Fitting 2 folds for each of 32 candidates, totalling 64 fits\n"
     ]
    }
   ],
   "source": [
    "from sklearn.metrics import make_scorer, cohen_kappa_score\n",
    "from sklearn.model_selection import GridSearchCV, StratifiedShuffleSplit\n",
    "from sklearn.ensemble import RandomForestClassifier\n",
    "# Define your parameter grid as before\n",
    "paramgrid = {\n",
    "    \"max_features\": [\n",
    "        x.shape[1], x.shape[1] // 2, x.shape[1] // 4, x.shape[1] // 12, x.shape[1] // 10,\n",
    "        x.shape[1] // 7, x.shape[1] // 5, x.shape[1] // 3\n",
    "    ],\n",
    "    \"n_estimators\": [10, 100, 300, 500],\n",
    "}\n",
    "\n",
    "# Define the cross-validator as before\n",
    "cv = StratifiedShuffleSplit(n_splits=2, test_size=0.5, random_state=24)\n",
    "\n",
    "# Define the scoring function using Cohen's Kappa Score with quadratic weighting\n",
    "kappa_scorer = make_scorer(cohen_kappa_score, weights='quadratic')\n",
    "\n",
    "# Everything else remains the same in your GridSearchCV initialization and fitting\n",
    "model = GridSearchCV(estimator=RandomForestClassifier(class_weight='balanced'),\n",
    "                     param_grid=paramgrid,\n",
    "                     scoring=kappa_scorer,\n",
    "                     cv=cv,\n",
    "                     verbose=1,\n",
    "                     n_jobs=1)  # Use -1 to use all cores\n",
    "\n",
    "# Fit the model\n",
    "model.fit(x, y)\n",
    "\n",
    "# Get the best model\n",
    "best_model = model.best_estimator_\n",
    "\n",
    "# Optionally, fit the model with the best parameters (GridSearchCV automatically does this)\n",
    "# best_model.fit(x, y)\n"
   ]
  },
  {
   "cell_type": "code",
   "execution_count": 32,
   "metadata": {},
   "outputs": [
    {
     "name": "stdout",
     "output_type": "stream",
     "text": [
      "Fitting 2 folds for each of 36 candidates, totalling 72 fits\n"
     ]
    }
   ],
   "source": [
    "from xgboost import XGBClassifier\n",
    "from sklearn.model_selection import GridSearchCV, StratifiedShuffleSplit\n",
    "from sklearn.metrics import make_scorer, cohen_kappa_score\n",
    "\n",
    "# Define your parameter grid\n",
    "paramgrid = {\n",
    "    \"max_depth\": [3, 5, 7, 10],  # Common choices for tree depth\n",
    "    \"n_estimators\": [100, 200, 300],  # Number of trees\n",
    "    \"learning_rate\": [0.01, 0.1, 0.2]  # Step size shrinkage used to prevent overfitting\n",
    "}\n",
    "\n",
    "# Define the cross-validator\n",
    "cv = StratifiedShuffleSplit(n_splits=2, test_size=0.5, random_state=24)\n",
    "\n",
    "# Define the scoring function using Cohen's Kappa Score with quadratic weighting\n",
    "kappa_scorer = make_scorer(cohen_kappa_score, weights='quadratic')\n",
    "\n",
    "# Set up the GridSearchCV with XGBClassifier\n",
    "model = GridSearchCV(\n",
    "    estimator=XGBClassifier(use_label_encoder=False, eval_metric='mlogloss'),  # use_label_encoder=False and eval_metric='mlogloss' to avoid warnings\n",
    "    param_grid=paramgrid,\n",
    "    scoring=kappa_scorer,\n",
    "    cv=cv,\n",
    "    verbose=1,\n",
    "    n_jobs=1  # Use -1 to use all cores\n",
    ")\n",
    "\n",
    "# Fit the model\n",
    "model.fit(x, y)\n",
    "\n",
    "# Get the best model\n",
    "best_model = model.best_estimator_\n",
    "\n",
    "# Optionally, fit the model with the best parameters (GridSearchCV automatically does this)\n",
    "# best_model.fit(x, y)\n"
   ]
  },
  {
   "cell_type": "code",
   "execution_count": 35,
   "metadata": {},
   "outputs": [
    {
     "name": "stdout",
     "output_type": "stream",
     "text": [
      "Fitting 2 folds for each of 32 candidates, totalling 64 fits\n"
     ]
    }
   ],
   "source": [
    "from sklearn.svm import SVC\n",
    "from sklearn.model_selection import GridSearchCV, StratifiedShuffleSplit\n",
    "from sklearn.metrics import make_scorer, cohen_kappa_score\n",
    "\n",
    "# Define your parameter grid\n",
    "paramgrid = {\n",
    "    \"C\": [0.1, 1, 10, 100],  # Regularization parameter\n",
    "    \"kernel\": ['linear', 'poly', 'rbf', 'sigmoid'],  # Type of the kernel\n",
    "    \"gamma\": ['scale', 'auto']  # Kernel coefficient\n",
    "}\n",
    "\n",
    "# Define the cross-validator\n",
    "cv = StratifiedShuffleSplit(n_splits=2, test_size=0.5, random_state=24)\n",
    "\n",
    "# Define the scoring function using Cohen's Kappa Score with quadratic weighting\n",
    "kappa_scorer = make_scorer(cohen_kappa_score, weights='quadratic')\n",
    "\n",
    "# Set up the GridSearchCV with SVC\n",
    "model = GridSearchCV(\n",
    "    estimator=SVC(probability=True),  # probability=True if you need probability estimates\n",
    "    param_grid=paramgrid,\n",
    "    scoring=kappa_scorer,\n",
    "    cv=cv,\n",
    "    verbose=1,\n",
    "    n_jobs=1  # Use -1 to use all cores\n",
    ")\n",
    "\n",
    "# Fit the model\n",
    "model.fit(x, y)\n",
    "\n",
    "# Get the best model\n",
    "best_model = model.best_estimator_\n",
    "\n",
    "# Optionally, fit the model with the best parameters (GridSearchCV automatically does this)\n",
    "# best_model.fit(x, y)\n"
   ]
  },
  {
   "cell_type": "code",
   "execution_count": 36,
   "metadata": {},
   "outputs": [
    {
     "name": "stdout",
     "output_type": "stream",
     "text": [
      "Confusion Matrix for Fold 1:\n",
      "[[2 0]\n",
      " [1 1]]\n",
      "Confusion Matrix for Fold 2:\n",
      "[[0 2]\n",
      " [1 0]]\n",
      "Confusion Matrix for Fold 3:\n",
      "[[2 0]\n",
      " [0 1]]\n",
      "Confusion Matrix for Fold 4:\n",
      "[[1 0]\n",
      " [1 1]]\n",
      "Confusion Matrix for Fold 5:\n",
      "[[1 0]\n",
      " [0 2]]\n",
      "Overall CV Accuracy: 0.6833333333333333\n",
      "Overall CV AUC: 0.6\n",
      "Overall CV Precision: 0.8\n",
      "Overall CV Recall (Sensitivity): 0.6\n",
      "Overall CV F1 Score: 0.6666666666666666\n",
      "Overall CV Specificity: 0.8\n",
      "Overall CV PPV (Positive Predictive Value): 0.8\n",
      "Overall CV NPV (Negative Predictive Value): 0.6333333333333333\n",
      "Overall CV CCR (Correct Classification Rate): 0.7\n"
     ]
    }
   ],
   "source": [
    "from sklearn.model_selection import StratifiedKFold\n",
    "from sklearn.metrics import accuracy_score, roc_auc_score, confusion_matrix, precision_score, recall_score, f1_score\n",
    "import numpy as np\n",
    "#50\n",
    "# Assume x, y, and best_model are defined elsewhere\n",
    "#xgb KU\n",
    "# Set the seed for reproducibility\n",
    "seed = 42\n",
    "np.random.seed(seed)\n",
    "\n",
    "# Number of splits for cross-validation\n",
    "n_splits = 5\n",
    "\n",
    "# Prepare cross-validation\n",
    "cv = StratifiedKFold(n_splits=n_splits, shuffle=True, random_state=seed)\n",
    "\n",
    "# Lists to store results for various metrics\n",
    "accuracies = []\n",
    "auc_scores = []\n",
    "precisions = []\n",
    "recalls = []\n",
    "f1_scores = []\n",
    "specificities = []\n",
    "sensitivity_scores = []\n",
    "ppvs = []\n",
    "npvs = []\n",
    "ccrs = []\n",
    "confusion_matrices = []\n",
    "\n",
    "def calculate_ccr(sensitivity, specificity):\n",
    "    return (sensitivity + specificity) / 2\n",
    "\n",
    "# Cross-validation loop\n",
    "for train_index, test_index in cv.split(x, y):\n",
    "    # Split data\n",
    "    X_train, X_test = x[train_index], x[test_index]\n",
    "    y_train, y_test = y[train_index], y[test_index]\n",
    "    \n",
    "    # Fit the model\n",
    "    best_model.fit(X_train, y_train)\n",
    "    \n",
    "    # Predictions and predicted probabilities\n",
    "    y_pred = best_model.predict(X_test)\n",
    "    y_proba = best_model.predict_proba(X_test)[:, 1]  # Get probabilities for the positive class\n",
    "    \n",
    "    # Metrics calculation\n",
    "    accuracies.append(accuracy_score(y_test, y_pred))\n",
    "    auc_scores.append(roc_auc_score(y_test, y_proba))  # Binary class AUC\n",
    "    precisions.append(precision_score(y_test, y_pred, zero_division=0))\n",
    "    recalls.append(recall_score(y_test, y_pred))\n",
    "    f1_scores.append(f1_score(y_test, y_pred))\n",
    "    \n",
    "    # Confusion matrix\n",
    "    cm = confusion_matrix(y_test, y_pred)\n",
    "    confusion_matrices.append(cm)\n",
    "    \n",
    "    # Sensitivity and Specificity\n",
    "    tn, fp, fn, tp = cm.ravel()\n",
    "    sensitivity = tp / (tp + fn)\n",
    "    specificity = tn / (tn + fp)\n",
    "    sensitivity_scores.append(sensitivity)\n",
    "    specificities.append(specificity)\n",
    "    \n",
    "    # PPV and NPV\n",
    "    ppv = tp / (tp + fp) if (tp + fp) > 0 else 0\n",
    "    npv = tn / (tn + fn) if (tn + fn) > 0 else 0\n",
    "    ppvs.append(ppv)\n",
    "    npvs.append(npv)\n",
    "    \n",
    "    # CCR\n",
    "    ccr = calculate_ccr(sensitivity, specificity)\n",
    "    ccrs.append(ccr)\n",
    "\n",
    "# Displaying the results\n",
    "for i, cm in enumerate(confusion_matrices):\n",
    "    print(f\"Confusion Matrix for Fold {i+1}:\")\n",
    "    print(cm)\n",
    "    \n",
    "print(f'Overall CV Accuracy: {np.mean(accuracies)}')\n",
    "print(f'Overall CV AUC: {np.mean(auc_scores)}')\n",
    "print(f'Overall CV Precision: {np.mean(precisions)}')\n",
    "print(f'Overall CV Recall (Sensitivity): {np.mean(sensitivity_scores)}')\n",
    "print(f'Overall CV F1 Score: {np.mean(f1_scores)}')\n",
    "print(f'Overall CV Specificity: {np.mean(specificities)}')\n",
    "print(f'Overall CV PPV (Positive Predictive Value): {np.mean(ppvs)}')\n",
    "print(f'Overall CV NPV (Negative Predictive Value): {np.mean(npvs)}')\n",
    "print(f'Overall CV CCR (Correct Classification Rate): {np.mean(ccrs)}')\n"
   ]
  },
  {
   "cell_type": "markdown",
   "metadata": {},
   "source": [
    "#  7. Save model"
   ]
  },
  {
   "cell_type": "code",
   "execution_count": 37,
   "metadata": {},
   "outputs": [
    {
     "data": {
      "text/plain": [
       "['E:/stoptox-master/stoptox-master/modeling/Projeto_2_Acute_Inhalation/model/model_toxic/Modelo_inhalation_SVM_modred_toxic_KU_50.pkl']"
      ]
     },
     "execution_count": 37,
     "metadata": {},
     "output_type": "execute_result"
    }
   ],
   "source": [
    "import joblib\n",
    "joblib.dump(best_model, 'E:/stoptox-master/stoptox-master/modeling/Projeto_2_Acute_Inhalation/model/model_toxic/Modelo_inhalation_SVM_modred_toxic_KU_50.pkl',compress=9)"
   ]
  },
  {
   "cell_type": "code",
   "execution_count": null,
   "metadata": {},
   "outputs": [],
   "source": []
  }
 ],
 "metadata": {
  "kernelspec": {
   "display_name": "Python 3 (ipykernel)",
   "language": "python",
   "name": "python3"
  },
  "language_info": {
   "codemirror_mode": {
    "name": "ipython",
    "version": 3
   },
   "file_extension": ".py",
   "mimetype": "text/x-python",
   "name": "python",
   "nbconvert_exporter": "python",
   "pygments_lexer": "ipython3",
   "version": "3.9.12"
  }
 },
 "nbformat": 4,
 "nbformat_minor": 2
}
