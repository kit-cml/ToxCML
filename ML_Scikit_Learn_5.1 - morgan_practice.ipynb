{
 "cells": [
  {
   "cell_type": "markdown",
   "metadata": {},
   "source": [
    "## 1.Import Modul\n",
    "    \n",
    "         \n",
    "    "
   ]
  },
  {
   "cell_type": "code",
   "execution_count": 3,
   "metadata": {},
   "outputs": [],
   "source": [
    "import numpy as np\n",
    "import pandas as pd\n",
    "from rdkit import Chem\n",
    "from rdkit.Chem import PandasTools\n",
    "from rdkit.Chem.Descriptors import MolLogP\n",
    "from sklearn.metrics import confusion_matrix,accuracy_score,f1_score\n",
    "from rdkit.Chem.AllChem import GetMorganFingerprintAsBitVect\n",
    "from rdkit.Chem import Descriptors\n",
    "import sys\n",
    "import multiprocessing\n",
    "from standardiser import break_bonds, neutralise, rules, unsalt\n",
    "from standardiser.utils import StandardiseException, sanity_check\n",
    "%reload_ext autoreload\n",
    "%autoreload 2\n",
    "def warn(*args, **kwargs):\n",
    "    pass  # to suppress sklearn warnings\n",
    "import warnings\n",
    "warnings.filterwarnings(\"ignore\")\n",
    "warnings.warn = warn\n",
    "from rdkit.Chem import AllChem as Chem\n",
    "from rdkit.Chem import Draw\n",
    "from rdkit.Chem.Draw import IPythonConsole\n",
    "import sys\n",
    "from tools import tools\n",
    "from tools import  pipeline as p\n",
    "from tools import  sar\n",
    "from sklearn.metrics import cohen_kappa_score\n",
    "import csv\n",
    "from rdkit.Chem import MACCSkeys\n",
    "from sklearn.model_selection import ShuffleSplit\n",
    "import _pickle as cPickle\n",
    "from sklearn.model_selection import RepeatedStratifiedKFold\n",
    "from sklearn.model_selection import StratifiedShuffleSplit    \n",
    "import bz2\n",
    "from glob import glob\n",
    "import _pickle as cPickle\n",
    "import pickle\n",
    "# The next two lines are for optical reasons only. They can be safely disabled.\n",
    "Draw.DrawingOptions.atomLabelFontFace = \"DejaVu Sans\"\n",
    "Draw.DrawingOptions.atomLabelFontSize = 18\n",
    "\n",
    "\n"
   ]
  },
  {
   "cell_type": "markdown",
   "metadata": {},
   "source": [
    "## 2. Load sdf file \n"
   ]
  },
  {
   "cell_type": "code",
   "execution_count": 4,
   "metadata": {},
   "outputs": [
    {
     "name": "stderr",
     "output_type": "stream",
     "text": [
      "Failed to patch pandas - unable to change molecule rendering\n"
     ]
    },
    {
     "name": "stdout",
     "output_type": "stream",
     "text": [
      "(541, 12)\n",
      "(541, 12)\n"
     ]
    },
    {
     "data": {
      "text/plain": [
       "Index(['id', 'casrn', 'smiles (First)', 'Molecular weight', 'name', 'Outcome',\n",
       "       'Molecule (RDKit Mol) (InChI Code)', 'reference', 'molecule_form', 'ID',\n",
       "       'SMILES', 'Mol'],\n",
       "      dtype='object')"
      ]
     },
     "execution_count": 4,
     "metadata": {},
     "output_type": "execute_result"
    }
   ],
   "source": [
    "file = \"E:/stoptox-master/stoptox-master/modeling/Projeto_2_Acute_Inhalation/data/train_set_toxic.sdf\"\n",
    "sdfInfo = dict(smilesName='SMILES',molColName='ROMol')\n",
    "moldf = PandasTools.LoadSDF(file,**sdfInfo)\n",
    "print(moldf.shape)\n",
    "#Rename ROMol\n",
    "moldf = moldf.rename(columns={'ROMol': 'Mol'})\n",
    "#duplicatas by smiles\n",
    "moldf = moldf.drop_duplicates(subset=['SMILES'])\n",
    "#logP\n",
    "#moldf['logP'] = moldf['Mol'].apply(MolLogP)\n",
    "#Remove moléculas sem esrtutura no RDKit\n",
    "moldf = moldf[pd.notnull(moldf['Mol'])]\n",
    "print(moldf.shape)\n",
    "#Colunas no pandas\n",
    "moldf.keys()"
   ]
  },
  {
   "cell_type": "code",
   "execution_count": 5,
   "metadata": {},
   "outputs": [
    {
     "data": {
      "text/html": [
       "<div>\n",
       "<style scoped>\n",
       "    .dataframe tbody tr th:only-of-type {\n",
       "        vertical-align: middle;\n",
       "    }\n",
       "\n",
       "    .dataframe tbody tr th {\n",
       "        vertical-align: top;\n",
       "    }\n",
       "\n",
       "    .dataframe thead th {\n",
       "        text-align: right;\n",
       "    }\n",
       "</style>\n",
       "<table border=\"1\" class=\"dataframe\">\n",
       "  <thead>\n",
       "    <tr style=\"text-align: right;\">\n",
       "      <th></th>\n",
       "      <th>id</th>\n",
       "      <th>casrn</th>\n",
       "      <th>smiles (First)</th>\n",
       "      <th>Molecular weight</th>\n",
       "      <th>name</th>\n",
       "      <th>Outcome</th>\n",
       "      <th>Molecule (RDKit Mol) (InChI Code)</th>\n",
       "      <th>reference</th>\n",
       "      <th>molecule_form</th>\n",
       "      <th>ID</th>\n",
       "      <th>SMILES</th>\n",
       "      <th>Mol</th>\n",
       "    </tr>\n",
       "  </thead>\n",
       "  <tbody>\n",
       "    <tr>\n",
       "      <th>0</th>\n",
       "      <td>923</td>\n",
       "      <td>38640-62-9</td>\n",
       "      <td></td>\n",
       "      <td>212.3300018310547</td>\n",
       "      <td>1,2-bis(propan-2-yl)naphthalene</td>\n",
       "      <td>0</td>\n",
       "      <td>InChI=1S/C16H20/c1-11(2)13-7-5-10-16-14(12(3)4...</td>\n",
       "      <td>ECHA</td>\n",
       "      <td>A</td>\n",
       "      <td></td>\n",
       "      <td>CC(C)c1cccc2c(C(C)C)cccc12</td>\n",
       "      <td>&lt;rdkit.Chem.rdchem.Mol object at 0x0000021C601...</td>\n",
       "    </tr>\n",
       "    <tr>\n",
       "      <th>1</th>\n",
       "      <td>3244; 3245</td>\n",
       "      <td>592-41-6</td>\n",
       "      <td></td>\n",
       "      <td>84.15948486328125</td>\n",
       "      <td>hex-1-ene</td>\n",
       "      <td>0</td>\n",
       "      <td>InChI=1S/C6H12/c1-3-5-6-4-2/h3H,1,4-6H2,2H3</td>\n",
       "      <td>ECHA</td>\n",
       "      <td>V</td>\n",
       "      <td></td>\n",
       "      <td>C=CCCCC</td>\n",
       "      <td>&lt;rdkit.Chem.rdchem.Mol object at 0x0000021C601...</td>\n",
       "    </tr>\n",
       "    <tr>\n",
       "      <th>2</th>\n",
       "      <td>1143</td>\n",
       "      <td>2909-38-8</td>\n",
       "      <td></td>\n",
       "      <td>153.56576538085938</td>\n",
       "      <td>1-chloro-3-isocyanatobenzene</td>\n",
       "      <td>1</td>\n",
       "      <td>InChI=1S/C7H4ClNO/c8-6-2-1-3-7(4-6)9-5-10/h1-4H</td>\n",
       "      <td>ECHA</td>\n",
       "      <td>V</td>\n",
       "      <td></td>\n",
       "      <td>O=C=Nc1cccc(Cl)c1</td>\n",
       "      <td>&lt;rdkit.Chem.rdchem.Mol object at 0x0000021C600...</td>\n",
       "    </tr>\n",
       "    <tr>\n",
       "      <th>3</th>\n",
       "      <td>220768; 901830</td>\n",
       "      <td>1241-94-7</td>\n",
       "      <td>CCCCC(CC)CO[P](=O)(Oc1ccccc1)Oc2ccccc2</td>\n",
       "      <td>362.3997497558594</td>\n",
       "      <td>2-Ethylhexyl diphenyl phosphate</td>\n",
       "      <td>1</td>\n",
       "      <td>InChI=1S/C20H27O4P/c1-3-5-12-18(4-2)17-22-25(2...</td>\n",
       "      <td>ToxValDB</td>\n",
       "      <td>not specified</td>\n",
       "      <td></td>\n",
       "      <td>CCCCC(CC)COP(=O)(Oc1ccccc1)Oc1ccccc1</td>\n",
       "      <td>&lt;rdkit.Chem.rdchem.Mol object at 0x0000021C600...</td>\n",
       "    </tr>\n",
       "    <tr>\n",
       "      <th>4</th>\n",
       "      <td>3459</td>\n",
       "      <td>2935-90-2</td>\n",
       "      <td></td>\n",
       "      <td>120.17012023925781</td>\n",
       "      <td>methyl 3-sulfanylpropanoate</td>\n",
       "      <td>1</td>\n",
       "      <td>InChI=1S/C4H8O2S/c1-6-4(5)2-3-7/h7H,2-3H2,1H3</td>\n",
       "      <td>ECHA</td>\n",
       "      <td>V</td>\n",
       "      <td></td>\n",
       "      <td>COC(=O)CCS</td>\n",
       "      <td>&lt;rdkit.Chem.rdchem.Mol object at 0x0000021C600...</td>\n",
       "    </tr>\n",
       "    <tr>\n",
       "      <th>...</th>\n",
       "      <td>...</td>\n",
       "      <td>...</td>\n",
       "      <td>...</td>\n",
       "      <td>...</td>\n",
       "      <td>...</td>\n",
       "      <td>...</td>\n",
       "      <td>...</td>\n",
       "      <td>...</td>\n",
       "      <td>...</td>\n",
       "      <td>...</td>\n",
       "      <td>...</td>\n",
       "      <td>...</td>\n",
       "    </tr>\n",
       "    <tr>\n",
       "      <th>536</th>\n",
       "      <td>231090</td>\n",
       "      <td>13423-15-9</td>\n",
       "      <td>CC1CCOC1</td>\n",
       "      <td>86.1323013305664</td>\n",
       "      <td>Furan, tetrahydro-3-methyl-</td>\n",
       "      <td>0</td>\n",
       "      <td>InChI=1S/C5H10O/c1-5-2-3-6-4-5/h5H,2-4H2,1H3</td>\n",
       "      <td>ToxValDB</td>\n",
       "      <td>not specified</td>\n",
       "      <td></td>\n",
       "      <td>CC1CCOC1</td>\n",
       "      <td>&lt;rdkit.Chem.rdchem.Mol object at 0x0000021C602...</td>\n",
       "    </tr>\n",
       "    <tr>\n",
       "      <th>537</th>\n",
       "      <td>924337</td>\n",
       "      <td>54041-17-7</td>\n",
       "      <td>CC(C)N(C(=O)CO)c1ccc(F)cc1</td>\n",
       "      <td>211.23277282714844</td>\n",
       "      <td>Acetamide, N-(4-fluorophenyl)-2-hydroxy-N-(1-m...</td>\n",
       "      <td>1</td>\n",
       "      <td>InChI=1S/C11H14FNO2/c1-8(2)13(11(15)7-14)10-5-...</td>\n",
       "      <td>ToxValDB</td>\n",
       "      <td>not specified</td>\n",
       "      <td></td>\n",
       "      <td>CC(C)N(C(=O)CO)c1ccc(F)cc1</td>\n",
       "      <td>&lt;rdkit.Chem.rdchem.Mol object at 0x0000021C602...</td>\n",
       "    </tr>\n",
       "    <tr>\n",
       "      <th>538</th>\n",
       "      <td>2837</td>\n",
       "      <td>101-43-9</td>\n",
       "      <td></td>\n",
       "      <td>168.23284912109375</td>\n",
       "      <td>cyclohexyl 2-methylprop-2-enoate</td>\n",
       "      <td>0</td>\n",
       "      <td>InChI=1S/C10H16O2/c1-8(2)10(11)12-9-6-4-3-5-7-...</td>\n",
       "      <td>ECHA</td>\n",
       "      <td>V</td>\n",
       "      <td></td>\n",
       "      <td>C=C(C)C(=O)OC1CCCCC1</td>\n",
       "      <td>&lt;rdkit.Chem.rdchem.Mol object at 0x0000021C602...</td>\n",
       "    </tr>\n",
       "    <tr>\n",
       "      <th>539</th>\n",
       "      <td>429</td>\n",
       "      <td>99591-74-9</td>\n",
       "      <td></td>\n",
       "      <td>188.1795654296875</td>\n",
       "      <td>-</td>\n",
       "      <td>1</td>\n",
       "      <td>InChI=1S/C2H4O6S2/c3-9(4)2-10(5,6)8-1-7-9/h1-2H2</td>\n",
       "      <td>ECHA</td>\n",
       "      <td>A</td>\n",
       "      <td></td>\n",
       "      <td>O=S1(=O)CS(=O)(=O)OCO1</td>\n",
       "      <td>&lt;rdkit.Chem.rdchem.Mol object at 0x0000021C602...</td>\n",
       "    </tr>\n",
       "    <tr>\n",
       "      <th>540</th>\n",
       "      <td>798529</td>\n",
       "      <td>95-50-1</td>\n",
       "      <td>Clc1ccccc1Cl</td>\n",
       "      <td>147.001953125</td>\n",
       "      <td>1,2-Dichlorobenzene</td>\n",
       "      <td>1</td>\n",
       "      <td>InChI=1S/C6H4Cl2/c7-5-3-1-2-4-6(5)8/h1-4H</td>\n",
       "      <td>ToxValDB</td>\n",
       "      <td>not specified</td>\n",
       "      <td></td>\n",
       "      <td>Clc1ccccc1Cl</td>\n",
       "      <td>&lt;rdkit.Chem.rdchem.Mol object at 0x0000021C602...</td>\n",
       "    </tr>\n",
       "  </tbody>\n",
       "</table>\n",
       "<p>541 rows × 12 columns</p>\n",
       "</div>"
      ],
      "text/plain": [
       "                 id       casrn                          smiles (First)  \\\n",
       "0               923  38640-62-9                                           \n",
       "1        3244; 3245    592-41-6                                           \n",
       "2              1143   2909-38-8                                           \n",
       "3    220768; 901830   1241-94-7  CCCCC(CC)CO[P](=O)(Oc1ccccc1)Oc2ccccc2   \n",
       "4              3459   2935-90-2                                           \n",
       "..              ...         ...                                     ...   \n",
       "536          231090  13423-15-9                                CC1CCOC1   \n",
       "537          924337  54041-17-7              CC(C)N(C(=O)CO)c1ccc(F)cc1   \n",
       "538            2837    101-43-9                                           \n",
       "539             429  99591-74-9                                           \n",
       "540          798529     95-50-1                            Clc1ccccc1Cl   \n",
       "\n",
       "       Molecular weight                                               name  \\\n",
       "0     212.3300018310547                    1,2-bis(propan-2-yl)naphthalene   \n",
       "1     84.15948486328125                                          hex-1-ene   \n",
       "2    153.56576538085938                       1-chloro-3-isocyanatobenzene   \n",
       "3     362.3997497558594                    2-Ethylhexyl diphenyl phosphate   \n",
       "4    120.17012023925781                        methyl 3-sulfanylpropanoate   \n",
       "..                  ...                                                ...   \n",
       "536    86.1323013305664                        Furan, tetrahydro-3-methyl-   \n",
       "537  211.23277282714844  Acetamide, N-(4-fluorophenyl)-2-hydroxy-N-(1-m...   \n",
       "538  168.23284912109375                   cyclohexyl 2-methylprop-2-enoate   \n",
       "539   188.1795654296875                                                  -   \n",
       "540       147.001953125                                1,2-Dichlorobenzene   \n",
       "\n",
       "    Outcome                  Molecule (RDKit Mol) (InChI Code) reference  \\\n",
       "0         0  InChI=1S/C16H20/c1-11(2)13-7-5-10-16-14(12(3)4...      ECHA   \n",
       "1         0        InChI=1S/C6H12/c1-3-5-6-4-2/h3H,1,4-6H2,2H3      ECHA   \n",
       "2         1    InChI=1S/C7H4ClNO/c8-6-2-1-3-7(4-6)9-5-10/h1-4H      ECHA   \n",
       "3         1  InChI=1S/C20H27O4P/c1-3-5-12-18(4-2)17-22-25(2...  ToxValDB   \n",
       "4         1      InChI=1S/C4H8O2S/c1-6-4(5)2-3-7/h7H,2-3H2,1H3      ECHA   \n",
       "..      ...                                                ...       ...   \n",
       "536       0       InChI=1S/C5H10O/c1-5-2-3-6-4-5/h5H,2-4H2,1H3  ToxValDB   \n",
       "537       1  InChI=1S/C11H14FNO2/c1-8(2)13(11(15)7-14)10-5-...  ToxValDB   \n",
       "538       0  InChI=1S/C10H16O2/c1-8(2)10(11)12-9-6-4-3-5-7-...      ECHA   \n",
       "539       1   InChI=1S/C2H4O6S2/c3-9(4)2-10(5,6)8-1-7-9/h1-2H2      ECHA   \n",
       "540       1          InChI=1S/C6H4Cl2/c7-5-3-1-2-4-6(5)8/h1-4H  ToxValDB   \n",
       "\n",
       "     molecule_form ID                                SMILES  \\\n",
       "0                A               CC(C)c1cccc2c(C(C)C)cccc12   \n",
       "1                V                                  C=CCCCC   \n",
       "2                V                        O=C=Nc1cccc(Cl)c1   \n",
       "3    not specified     CCCCC(CC)COP(=O)(Oc1ccccc1)Oc1ccccc1   \n",
       "4                V                               COC(=O)CCS   \n",
       "..             ... ..                                   ...   \n",
       "536  not specified                                 CC1CCOC1   \n",
       "537  not specified               CC(C)N(C(=O)CO)c1ccc(F)cc1   \n",
       "538              V                     C=C(C)C(=O)OC1CCCCC1   \n",
       "539              A                   O=S1(=O)CS(=O)(=O)OCO1   \n",
       "540  not specified                             Clc1ccccc1Cl   \n",
       "\n",
       "                                                   Mol  \n",
       "0    <rdkit.Chem.rdchem.Mol object at 0x0000021C601...  \n",
       "1    <rdkit.Chem.rdchem.Mol object at 0x0000021C601...  \n",
       "2    <rdkit.Chem.rdchem.Mol object at 0x0000021C600...  \n",
       "3    <rdkit.Chem.rdchem.Mol object at 0x0000021C600...  \n",
       "4    <rdkit.Chem.rdchem.Mol object at 0x0000021C600...  \n",
       "..                                                 ...  \n",
       "536  <rdkit.Chem.rdchem.Mol object at 0x0000021C602...  \n",
       "537  <rdkit.Chem.rdchem.Mol object at 0x0000021C602...  \n",
       "538  <rdkit.Chem.rdchem.Mol object at 0x0000021C602...  \n",
       "539  <rdkit.Chem.rdchem.Mol object at 0x0000021C602...  \n",
       "540  <rdkit.Chem.rdchem.Mol object at 0x0000021C602...  \n",
       "\n",
       "[541 rows x 12 columns]"
      ]
     },
     "execution_count": 5,
     "metadata": {},
     "output_type": "execute_result"
    }
   ],
   "source": [
    "moldf"
   ]
  },
  {
   "cell_type": "code",
   "execution_count": 6,
   "metadata": {},
   "outputs": [],
   "source": [
    "moldf = moldf.rename(columns={'Label': 'Outcome'})"
   ]
  },
  {
   "cell_type": "code",
   "execution_count": 7,
   "metadata": {},
   "outputs": [
    {
     "data": {
      "text/html": [
       "<div>\n",
       "<style scoped>\n",
       "    .dataframe tbody tr th:only-of-type {\n",
       "        vertical-align: middle;\n",
       "    }\n",
       "\n",
       "    .dataframe tbody tr th {\n",
       "        vertical-align: top;\n",
       "    }\n",
       "\n",
       "    .dataframe thead th {\n",
       "        text-align: right;\n",
       "    }\n",
       "</style>\n",
       "<table border=\"1\" class=\"dataframe\">\n",
       "  <thead>\n",
       "    <tr style=\"text-align: right;\">\n",
       "      <th></th>\n",
       "      <th>id</th>\n",
       "      <th>casrn</th>\n",
       "      <th>smiles (First)</th>\n",
       "      <th>Molecular weight</th>\n",
       "      <th>name</th>\n",
       "      <th>Outcome</th>\n",
       "      <th>Molecule (RDKit Mol) (InChI Code)</th>\n",
       "      <th>reference</th>\n",
       "      <th>molecule_form</th>\n",
       "      <th>ID</th>\n",
       "      <th>SMILES</th>\n",
       "      <th>Mol</th>\n",
       "    </tr>\n",
       "  </thead>\n",
       "  <tbody>\n",
       "    <tr>\n",
       "      <th>0</th>\n",
       "      <td>923</td>\n",
       "      <td>38640-62-9</td>\n",
       "      <td></td>\n",
       "      <td>212.3300018310547</td>\n",
       "      <td>1,2-bis(propan-2-yl)naphthalene</td>\n",
       "      <td>0</td>\n",
       "      <td>InChI=1S/C16H20/c1-11(2)13-7-5-10-16-14(12(3)4...</td>\n",
       "      <td>ECHA</td>\n",
       "      <td>A</td>\n",
       "      <td></td>\n",
       "      <td>CC(C)c1cccc2c(C(C)C)cccc12</td>\n",
       "      <td>&lt;rdkit.Chem.rdchem.Mol object at 0x0000021C601...</td>\n",
       "    </tr>\n",
       "  </tbody>\n",
       "</table>\n",
       "</div>"
      ],
      "text/plain": [
       "    id       casrn smiles (First)   Molecular weight  \\\n",
       "0  923  38640-62-9                 212.3300018310547   \n",
       "\n",
       "                              name Outcome  \\\n",
       "0  1,2-bis(propan-2-yl)naphthalene       0   \n",
       "\n",
       "                   Molecule (RDKit Mol) (InChI Code) reference molecule_form  \\\n",
       "0  InChI=1S/C16H20/c1-11(2)13-7-5-10-16-14(12(3)4...      ECHA             A   \n",
       "\n",
       "  ID                      SMILES  \\\n",
       "0     CC(C)c1cccc2c(C(C)C)cccc12   \n",
       "\n",
       "                                                 Mol  \n",
       "0  <rdkit.Chem.rdchem.Mol object at 0x0000021C601...  "
      ]
     },
     "execution_count": 7,
     "metadata": {},
     "output_type": "execute_result"
    }
   ],
   "source": [
    "moldf.head(1)"
   ]
  },
  {
   "cell_type": "code",
   "execution_count": 8,
   "metadata": {},
   "outputs": [
    {
     "data": {
      "text/html": [
       "<div>\n",
       "<style scoped>\n",
       "    .dataframe tbody tr th:only-of-type {\n",
       "        vertical-align: middle;\n",
       "    }\n",
       "\n",
       "    .dataframe tbody tr th {\n",
       "        vertical-align: top;\n",
       "    }\n",
       "\n",
       "    .dataframe thead th {\n",
       "        text-align: right;\n",
       "    }\n",
       "</style>\n",
       "<table border=\"1\" class=\"dataframe\">\n",
       "  <thead>\n",
       "    <tr style=\"text-align: right;\">\n",
       "      <th></th>\n",
       "      <th>id</th>\n",
       "      <th>casrn</th>\n",
       "      <th>smiles (First)</th>\n",
       "      <th>Molecular weight</th>\n",
       "      <th>name</th>\n",
       "      <th>Outcome</th>\n",
       "      <th>Molecule (RDKit Mol) (InChI Code)</th>\n",
       "      <th>reference</th>\n",
       "      <th>molecule_form</th>\n",
       "      <th>ID</th>\n",
       "      <th>SMILES</th>\n",
       "      <th>Mol</th>\n",
       "      <th>RowID</th>\n",
       "    </tr>\n",
       "  </thead>\n",
       "  <tbody>\n",
       "    <tr>\n",
       "      <th>0</th>\n",
       "      <td>923</td>\n",
       "      <td>38640-62-9</td>\n",
       "      <td></td>\n",
       "      <td>212.3300018310547</td>\n",
       "      <td>1,2-bis(propan-2-yl)naphthalene</td>\n",
       "      <td>0</td>\n",
       "      <td>InChI=1S/C16H20/c1-11(2)13-7-5-10-16-14(12(3)4...</td>\n",
       "      <td>ECHA</td>\n",
       "      <td>A</td>\n",
       "      <td></td>\n",
       "      <td>CC(C)c1cccc2c(C(C)C)cccc12</td>\n",
       "      <td>&lt;rdkit.Chem.rdchem.Mol object at 0x0000021C601...</td>\n",
       "      <td>0</td>\n",
       "    </tr>\n",
       "    <tr>\n",
       "      <th>227</th>\n",
       "      <td>4109</td>\n",
       "      <td>93857-00-2</td>\n",
       "      <td></td>\n",
       "      <td>119.17137908935547</td>\n",
       "      <td>tripotassium propylsilanetris(olate)</td>\n",
       "      <td>0</td>\n",
       "      <td>InChI=1S/C3H10O3Si/c1-2-3-7(4,5)6/h4-6H,2-3H2,1H3</td>\n",
       "      <td>ECHA</td>\n",
       "      <td>V</td>\n",
       "      <td></td>\n",
       "      <td>CCC[Si](O)(O)O</td>\n",
       "      <td>&lt;rdkit.Chem.rdchem.Mol object at 0x0000021C602...</td>\n",
       "      <td>227</td>\n",
       "    </tr>\n",
       "    <tr>\n",
       "      <th>424</th>\n",
       "      <td>1203</td>\n",
       "      <td>872-50-4</td>\n",
       "      <td></td>\n",
       "      <td>99.13105773925781</td>\n",
       "      <td>1-methylpyrrolidin-2-one</td>\n",
       "      <td>0</td>\n",
       "      <td>InChI=1S/C5H9NO/c1-6-4-2-3-5(6)7/h2-4H2,1H3</td>\n",
       "      <td>ECHA</td>\n",
       "      <td>A</td>\n",
       "      <td></td>\n",
       "      <td>CN1CCCC1=O</td>\n",
       "      <td>&lt;rdkit.Chem.rdchem.Mol object at 0x0000021C602...</td>\n",
       "      <td>424</td>\n",
       "    </tr>\n",
       "    <tr>\n",
       "      <th>224</th>\n",
       "      <td>314292</td>\n",
       "      <td>75-01-4</td>\n",
       "      <td>ClC=C</td>\n",
       "      <td>62.49821853637695</td>\n",
       "      <td>Vinyl chloride</td>\n",
       "      <td>0</td>\n",
       "      <td>InChI=1S/C2H3Cl/c1-2-3/h2H,1H2</td>\n",
       "      <td>ToxValDB</td>\n",
       "      <td>not specified</td>\n",
       "      <td></td>\n",
       "      <td>C=CCl</td>\n",
       "      <td>&lt;rdkit.Chem.rdchem.Mol object at 0x0000021C602...</td>\n",
       "      <td>224</td>\n",
       "    </tr>\n",
       "    <tr>\n",
       "      <th>223</th>\n",
       "      <td>4169</td>\n",
       "      <td>1226911-69-8</td>\n",
       "      <td></td>\n",
       "      <td>188.2655487060547</td>\n",
       "      <td>unnamed [1226911-69-8]</td>\n",
       "      <td>0</td>\n",
       "      <td>InChI=1S/C13H16O/c1-11-5-7-13(8-6-11)10-12(2)4...</td>\n",
       "      <td>ECHA</td>\n",
       "      <td>A</td>\n",
       "      <td></td>\n",
       "      <td>CC(=Cc1ccc(C)cc1)CCC=O</td>\n",
       "      <td>&lt;rdkit.Chem.rdchem.Mol object at 0x0000021C602...</td>\n",
       "      <td>223</td>\n",
       "    </tr>\n",
       "    <tr>\n",
       "      <th>...</th>\n",
       "      <td>...</td>\n",
       "      <td>...</td>\n",
       "      <td>...</td>\n",
       "      <td>...</td>\n",
       "      <td>...</td>\n",
       "      <td>...</td>\n",
       "      <td>...</td>\n",
       "      <td>...</td>\n",
       "      <td>...</td>\n",
       "      <td>...</td>\n",
       "      <td>...</td>\n",
       "      <td>...</td>\n",
       "      <td>...</td>\n",
       "    </tr>\n",
       "    <tr>\n",
       "      <th>331</th>\n",
       "      <td>1879</td>\n",
       "      <td>51-03-6</td>\n",
       "      <td></td>\n",
       "      <td>338.4385070800781</td>\n",
       "      <td>5-{[2-(2-butoxyethoxy)ethoxy]methyl}-6-propyl-...</td>\n",
       "      <td>0</td>\n",
       "      <td>InChI=1S/C19H30O5/c1-3-5-7-20-8-9-21-10-11-22-...</td>\n",
       "      <td>ECHA</td>\n",
       "      <td>A</td>\n",
       "      <td></td>\n",
       "      <td>CCCCOCCOCCOCc1cc2c(cc1CCC)OCO2</td>\n",
       "      <td>&lt;rdkit.Chem.rdchem.Mol object at 0x0000021C602...</td>\n",
       "      <td>331</td>\n",
       "    </tr>\n",
       "    <tr>\n",
       "      <th>369</th>\n",
       "      <td>644</td>\n",
       "      <td>62037-80-3</td>\n",
       "      <td></td>\n",
       "      <td>329.0448303222656</td>\n",
       "      <td>-</td>\n",
       "      <td>0</td>\n",
       "      <td>InChI=1S/C6HF11O3/c7-2(1(18)19,4(10,11)12)20-6...</td>\n",
       "      <td>ECHA</td>\n",
       "      <td>A</td>\n",
       "      <td></td>\n",
       "      <td>O=C(O)C(F)(OC(F)(F)C(F)(F)C(F)(F)F)C(F)(F)F</td>\n",
       "      <td>&lt;rdkit.Chem.rdchem.Mol object at 0x0000021C602...</td>\n",
       "      <td>369</td>\n",
       "    </tr>\n",
       "    <tr>\n",
       "      <th>368</th>\n",
       "      <td>200168</td>\n",
       "      <td>105-45-3</td>\n",
       "      <td>COC(=O)CC(C)=O</td>\n",
       "      <td>116.11521911621094</td>\n",
       "      <td>Methyl acetoacetate</td>\n",
       "      <td>0</td>\n",
       "      <td>InChI=1S/C5H8O3/c1-4(6)3-5(7)8-2/h3H2,1-2H3</td>\n",
       "      <td>ToxValDB</td>\n",
       "      <td>not specified</td>\n",
       "      <td></td>\n",
       "      <td>COC(=O)CC(C)=O</td>\n",
       "      <td>&lt;rdkit.Chem.rdchem.Mol object at 0x0000021C602...</td>\n",
       "      <td>368</td>\n",
       "    </tr>\n",
       "    <tr>\n",
       "      <th>354</th>\n",
       "      <td>1237</td>\n",
       "      <td>482-89-3</td>\n",
       "      <td></td>\n",
       "      <td>262.2628173828125</td>\n",
       "      <td>2,2'-biindole-3,3'(1H,1'H)-dione</td>\n",
       "      <td>0</td>\n",
       "      <td>InChI=1S/C16H10N2O2/c19-15-9-5-1-3-7-11(9)17-1...</td>\n",
       "      <td>ECHA</td>\n",
       "      <td>A</td>\n",
       "      <td></td>\n",
       "      <td>O=C1C(=C2Nc3ccccc3C2=O)Nc2ccccc21</td>\n",
       "      <td>&lt;rdkit.Chem.rdchem.Mol object at 0x0000021C602...</td>\n",
       "      <td>354</td>\n",
       "    </tr>\n",
       "    <tr>\n",
       "      <th>359</th>\n",
       "      <td>3564</td>\n",
       "      <td>3710-30-3</td>\n",
       "      <td></td>\n",
       "      <td>110.19676208496094</td>\n",
       "      <td>octa-1,7-diene</td>\n",
       "      <td>0</td>\n",
       "      <td>InChI=1S/C8H14/c1-3-5-7-8-6-4-2/h3-4H,1-2,5-8H2</td>\n",
       "      <td>ECHA</td>\n",
       "      <td>V</td>\n",
       "      <td></td>\n",
       "      <td>C=CCCCCC=C</td>\n",
       "      <td>&lt;rdkit.Chem.rdchem.Mol object at 0x0000021C602...</td>\n",
       "      <td>359</td>\n",
       "    </tr>\n",
       "  </tbody>\n",
       "</table>\n",
       "<p>100 rows × 13 columns</p>\n",
       "</div>"
      ],
      "text/plain": [
       "         id         casrn  smiles (First)    Molecular weight  \\\n",
       "0       923    38640-62-9                   212.3300018310547   \n",
       "227    4109    93857-00-2                  119.17137908935547   \n",
       "424    1203      872-50-4                   99.13105773925781   \n",
       "224  314292       75-01-4           ClC=C   62.49821853637695   \n",
       "223    4169  1226911-69-8                   188.2655487060547   \n",
       "..      ...           ...             ...                 ...   \n",
       "331    1879       51-03-6                   338.4385070800781   \n",
       "369     644    62037-80-3                   329.0448303222656   \n",
       "368  200168      105-45-3  COC(=O)CC(C)=O  116.11521911621094   \n",
       "354    1237      482-89-3                   262.2628173828125   \n",
       "359    3564     3710-30-3                  110.19676208496094   \n",
       "\n",
       "                                                  name Outcome  \\\n",
       "0                      1,2-bis(propan-2-yl)naphthalene       0   \n",
       "227               tripotassium propylsilanetris(olate)       0   \n",
       "424                           1-methylpyrrolidin-2-one       0   \n",
       "224                                     Vinyl chloride       0   \n",
       "223                             unnamed [1226911-69-8]       0   \n",
       "..                                                 ...     ...   \n",
       "331  5-{[2-(2-butoxyethoxy)ethoxy]methyl}-6-propyl-...       0   \n",
       "369                                                  -       0   \n",
       "368                                Methyl acetoacetate       0   \n",
       "354                   2,2'-biindole-3,3'(1H,1'H)-dione       0   \n",
       "359                                     octa-1,7-diene       0   \n",
       "\n",
       "                     Molecule (RDKit Mol) (InChI Code) reference  \\\n",
       "0    InChI=1S/C16H20/c1-11(2)13-7-5-10-16-14(12(3)4...      ECHA   \n",
       "227  InChI=1S/C3H10O3Si/c1-2-3-7(4,5)6/h4-6H,2-3H2,1H3      ECHA   \n",
       "424        InChI=1S/C5H9NO/c1-6-4-2-3-5(6)7/h2-4H2,1H3      ECHA   \n",
       "224                     InChI=1S/C2H3Cl/c1-2-3/h2H,1H2  ToxValDB   \n",
       "223  InChI=1S/C13H16O/c1-11-5-7-13(8-6-11)10-12(2)4...      ECHA   \n",
       "..                                                 ...       ...   \n",
       "331  InChI=1S/C19H30O5/c1-3-5-7-20-8-9-21-10-11-22-...      ECHA   \n",
       "369  InChI=1S/C6HF11O3/c7-2(1(18)19,4(10,11)12)20-6...      ECHA   \n",
       "368        InChI=1S/C5H8O3/c1-4(6)3-5(7)8-2/h3H2,1-2H3  ToxValDB   \n",
       "354  InChI=1S/C16H10N2O2/c19-15-9-5-1-3-7-11(9)17-1...      ECHA   \n",
       "359    InChI=1S/C8H14/c1-3-5-7-8-6-4-2/h3-4H,1-2,5-8H2      ECHA   \n",
       "\n",
       "     molecule_form ID                                       SMILES  \\\n",
       "0                A                      CC(C)c1cccc2c(C(C)C)cccc12   \n",
       "227              V                                  CCC[Si](O)(O)O   \n",
       "424              A                                      CN1CCCC1=O   \n",
       "224  not specified                                           C=CCl   \n",
       "223              A                          CC(=Cc1ccc(C)cc1)CCC=O   \n",
       "..             ... ..                                          ...   \n",
       "331              A                  CCCCOCCOCCOCc1cc2c(cc1CCC)OCO2   \n",
       "369              A     O=C(O)C(F)(OC(F)(F)C(F)(F)C(F)(F)F)C(F)(F)F   \n",
       "368  not specified                                  COC(=O)CC(C)=O   \n",
       "354              A               O=C1C(=C2Nc3ccccc3C2=O)Nc2ccccc21   \n",
       "359              V                                      C=CCCCCC=C   \n",
       "\n",
       "                                                   Mol  RowID  \n",
       "0    <rdkit.Chem.rdchem.Mol object at 0x0000021C601...      0  \n",
       "227  <rdkit.Chem.rdchem.Mol object at 0x0000021C602...    227  \n",
       "424  <rdkit.Chem.rdchem.Mol object at 0x0000021C602...    424  \n",
       "224  <rdkit.Chem.rdchem.Mol object at 0x0000021C602...    224  \n",
       "223  <rdkit.Chem.rdchem.Mol object at 0x0000021C602...    223  \n",
       "..                                                 ...    ...  \n",
       "331  <rdkit.Chem.rdchem.Mol object at 0x0000021C602...    331  \n",
       "369  <rdkit.Chem.rdchem.Mol object at 0x0000021C602...    369  \n",
       "368  <rdkit.Chem.rdchem.Mol object at 0x0000021C602...    368  \n",
       "354  <rdkit.Chem.rdchem.Mol object at 0x0000021C602...    354  \n",
       "359  <rdkit.Chem.rdchem.Mol object at 0x0000021C602...    359  \n",
       "\n",
       "[100 rows x 13 columns]"
      ]
     },
     "execution_count": 8,
     "metadata": {},
     "output_type": "execute_result"
    }
   ],
   "source": [
    "moldf= moldf.sort_values(['Outcome'], ascending=True)\n",
    "moldf['RowID'] = moldf.index\n",
    "moldf.head(100)"
   ]
  },
  {
   "cell_type": "code",
   "execution_count": 10,
   "metadata": {},
   "outputs": [
    {
     "data": {
      "image/png": "[encoded data removed]",
      "text/plain": [
       "<PIL.PngImagePlugin.PngImageFile image mode=RGB size=200x200 at 0x21C5F7F1B50>"
      ]
     },
     "metadata": {},
     "output_type": "display_data"
    },
    {
     "name": "stdout",
     "output_type": "stream",
     "text": [
      "CC(C)c1cccc2c(C(C)C)cccc12\n"
     ]
    },
    {
     "data": {
      "image/png": "[encoded data removed]",
      "text/plain": [
       "<PIL.PngImagePlugin.PngImageFile image mode=RGB size=200x200 at 0x21C5F7F17C0>"
      ]
     },
     "metadata": {},
     "output_type": "display_data"
    },
    {
     "name": "stdout",
     "output_type": "stream",
     "text": [
      "CCC[Si](O)(O)O\n"
     ]
    },
    {
     "data": {
      "image/png": "[encoded data removed]",
      "text/plain": [
       "<PIL.PngImagePlugin.PngImageFile image mode=RGB size=200x200 at 0x21C39EF6CD0>"
      ]
     },
     "metadata": {},
     "output_type": "display_data"
    },
    {
     "name": "stdout",
     "output_type": "stream",
     "text": [
      "CN1CCCC1=O\n"
     ]
    },
    {
     "data": {
      "image/png": "[encoded data removed]",
      "text/plain": [
       "<PIL.PngImagePlugin.PngImageFile image mode=RGB size=200x200 at 0x21C5F7F12E0>"
      ]
     },
     "metadata": {},
     "output_type": "display_data"
    },
    {
     "name": "stdout",
     "output_type": "stream",
     "text": [
      "C=CCl\n"
     ]
    },
    {
     "data": {
      "image/png": "[encoded data removed]",
      "text/plain": [
       "<PIL.PngImagePlugin.PngImageFile image mode=RGB size=200x200 at 0x21C39EF6A60>"
      ]
     },
     "metadata": {},
     "output_type": "display_data"
    },
    {
     "name": "stdout",
     "output_type": "stream",
     "text": [
      "CC(=Cc1ccc(C)cc1)CCC=O\n"
     ]
    },
    {
     "data": {
      "image/png": "[encoded data removed]",
      "text/plain": [
       "<PIL.PngImagePlugin.PngImageFile image mode=RGB size=200x200 at 0x21C5F7F1790>"
      ]
     },
     "metadata": {},
     "output_type": "display_data"
    },
    {
     "name": "stdout",
     "output_type": "stream",
     "text": [
      "COc1ccc(CN2C(=O)c3ccc4c5ccc6c7c(ccc(c8ccc(c3c48)C2=O)c75)C(=O)N(Cc2ccc(OC)cc2)C6=O)cc1\n"
     ]
    },
    {
     "data": {
      "image/png": "[encoded data removed]",
      "text/plain": [
       "<PIL.PngImagePlugin.PngImageFile image mode=RGB size=200x200 at 0x21C5F9BDAF0>"
      ]
     },
     "metadata": {},
     "output_type": "display_data"
    },
    {
     "name": "stdout",
     "output_type": "stream",
     "text": [
      "CCC(C)Cl\n"
     ]
    },
    {
     "data": {
      "image/png": "[encoded data removed]",
      "text/plain": [
       "<PIL.PngImagePlugin.PngImageFile image mode=RGB size=200x200 at 0x21C5F7F16A0>"
      ]
     },
     "metadata": {},
     "output_type": "display_data"
    },
    {
     "name": "stdout",
     "output_type": "stream",
     "text": [
      "O=C1CCCCCN1C(=O)Nc1ccc(Cc2ccc(NC(=O)N3CCCCCC3=O)cc2)cc1\n"
     ]
    },
    {
     "data": {
      "image/png": "[encoded data removed]",
      "text/plain": [
       "<PIL.PngImagePlugin.PngImageFile image mode=RGB size=200x200 at 0x21C5F7F1790>"
      ]
     },
     "metadata": {},
     "output_type": "display_data"
    },
    {
     "name": "stdout",
     "output_type": "stream",
     "text": [
      "COCCOCCOCCOC\n"
     ]
    },
    {
     "data": {
      "image/png": "[encoded data removed]",
      "text/plain": [
       "<PIL.PngImagePlugin.PngImageFile image mode=RGB size=200x200 at 0x21C5F7E9C70>"
      ]
     },
     "metadata": {},
     "output_type": "display_data"
    },
    {
     "name": "stdout",
     "output_type": "stream",
     "text": [
      "Nc1ccccc1[N+](=O)[O-]\n"
     ]
    }
   ],
   "source": [
    "from rdkit import Chem\n",
    "from rdkit.Chem import Draw\n",
    "from IPython.display import display\n",
    "\n",
    "def display_molecules_in_column(moldf, num_mols):\n",
    "    for _, row in moldf.head(num_mols).iterrows():\n",
    "        smi = row['SMILES']\n",
    "        if smi is not None:\n",
    "            mol = Chem.MolFromSmiles(smi)  # Create Mol object from SMILES\n",
    "            if mol is not None:\n",
    "                img = Draw.MolToImage(mol, size=(200, 200))\n",
    "                display(img)\n",
    "                print(smi)  # Prints the SMILES representation below the image\n",
    "\n",
    "# Assuming 'df' is your DataFrame\n",
    "# Display the first 10 molecules, each on a new row\n",
    "display_molecules_in_column(moldf, 10)\n"
   ]
  },
  {
   "cell_type": "markdown",
   "metadata": {},
   "source": [
    "## 3.  data distribution"
   ]
  },
  {
   "cell_type": "code",
   "execution_count": 11,
   "metadata": {},
   "outputs": [
    {
     "name": "stdout",
     "output_type": "stream",
     "text": [
      "Classes                          :  ['0' '1']\n",
      "Number of cpds in each class     :  [259 282]\n",
      "Total number of cpds             :  541\n"
     ]
    }
   ],
   "source": [
    "from sklearn.preprocessing import LabelEncoder\n",
    "le = LabelEncoder()\n",
    "\n",
    "\n",
    "outcomes=(np.unique(moldf['Outcome']))\n",
    "le.fit(list(set(outcomes)))\n",
    "y = le.transform( moldf['Outcome'] )\n",
    "\n",
    "\n",
    "\n",
    "print (\"Classes                          : \",(outcomes))\n",
    "print (\"Number of cpds in each class     : \",np.unique([len(y[y==smi]) for smi in y]))\n",
    "print (\"Total number of cpds             : \",len(y))\n",
    "\n",
    "S = moldf['Outcome']\n",
    "info = {}\n",
    "for i,cls in enumerate(S.unique()):\n",
    "    info.update({cls:i})\n",
    "    S = S.replace(cls,i)"
   ]
  },
  {
   "cell_type": "code",
   "execution_count": 12,
   "metadata": {},
   "outputs": [
    {
     "data": {
      "text/plain": [
       "{'0': 0, '1': 1}"
      ]
     },
     "execution_count": 12,
     "metadata": {},
     "output_type": "execute_result"
    },
    {
     "data": {
      "image/png": "[encoded data removed]",
      "text/plain": [
       "<Figure size 432x288 with 1 Axes>"
      ]
     },
     "metadata": {
      "needs_background": "light"
     },
     "output_type": "display_data"
    }
   ],
   "source": [
    "ax = S.hist(bins=np.arange(-0.5,5))\n",
    "ax.set_xticks(range(0,5))\n",
    "info"
   ]
  },
  {
   "cell_type": "markdown",
   "metadata": {},
   "source": [
    "# 4. Morgan Descriptor"
   ]
  },
  {
   "cell_type": "code",
   "execution_count": 13,
   "metadata": {},
   "outputs": [],
   "source": [
    "nBits = 1024\n",
    "radius=2\n",
    "useFeatures= False\n",
    "\n",
    "calcfp = lambda mol: GetMorganFingerprintAsBitVect(mol,nBits=nBits,radius=radius, useFeatures=useFeatures)\n",
    "moldf['Descriptors'] = moldf.Mol.apply(calcfp)\n",
    "\n",
    "y= np.int32((S))\n",
    "x = np.array(list(moldf['Descriptors']))"
   ]
  },
  {
   "cell_type": "code",
   "execution_count": 14,
   "metadata": {},
   "outputs": [
    {
     "name": "stdout",
     "output_type": "stream",
     "text": [
      "[[0 1 0 ... 0 0 0]\n",
      " [0 0 0 ... 0 0 0]\n",
      " [0 0 0 ... 0 0 0]\n",
      " ...\n",
      " [0 1 0 ... 0 0 0]\n",
      " [0 0 0 ... 0 0 0]\n",
      " [0 0 0 ... 0 0 0]]\n"
     ]
    }
   ],
   "source": [
    "print(x)"
   ]
  },
  {
   "cell_type": "markdown",
   "metadata": {},
   "source": [
    "## 5. hyperparameter tuning with grid search"
   ]
  },
  {
   "cell_type": "code",
   "execution_count": 15,
   "metadata": {},
   "outputs": [
    {
     "name": "stdout",
     "output_type": "stream",
     "text": [
      "Fitting 5 folds for each of 32 candidates, totalling 160 fits\n"
     ]
    }
   ],
   "source": [
    "#Random Forest\n",
    "from sklearn.metrics import make_scorer, cohen_kappa_score\n",
    "from sklearn.model_selection import GridSearchCV, StratifiedShuffleSplit\n",
    "from sklearn.ensemble import RandomForestClassifier\n",
    "# Define your parameter grid as before\n",
    "paramgrid = {\n",
    "    \"max_features\": [\n",
    "        x.shape[1], x.shape[1] // 2, x.shape[1] // 4, x.shape[1] // 12, x.shape[1] // 10,\n",
    "        x.shape[1] // 7, x.shape[1] // 5, x.shape[1] // 3\n",
    "    ],\n",
    "    \"n_estimators\": [10, 100, 300, 500],\n",
    "}\n",
    "\n",
    "# Define the cross-validator as before\n",
    "cv = StratifiedShuffleSplit(n_splits=5, test_size=0.2, random_state=24)\n",
    "\n",
    "# Define the scoring function using Cohen's Kappa Score with quadratic weighting\n",
    "kappa_scorer = make_scorer(cohen_kappa_score, weights='quadratic')\n",
    "\n",
    "# Everything else remains the same in your GridSearchCV initialization and fitting\n",
    "model = GridSearchCV(estimator=RandomForestClassifier(class_weight='balanced'),\n",
    "                     param_grid=paramgrid,\n",
    "                     scoring=kappa_scorer,\n",
    "                     cv=cv,\n",
    "                     verbose=1,\n",
    "                     n_jobs=1)  # Use -1 to use all cores\n",
    "\n",
    "# Fit the model\n",
    "model.fit(x, y)\n",
    "\n",
    "# Get the best model\n",
    "best_model = model.best_estimator_\n",
    "\n",
    "# Optionally, fit the model with the best parameters (GridSearchCV automatically does this)\n",
    "# best_model.fit(x, y)\n"
   ]
  },
  {
   "cell_type": "code",
   "execution_count": 36,
   "metadata": {},
   "outputs": [
    {
     "name": "stdout",
     "output_type": "stream",
     "text": [
      "Fitting 2 folds for each of 36 candidates, totalling 72 fits\n"
     ]
    }
   ],
   "source": [
    "from xgboost import XGBClassifier\n",
    "from sklearn.model_selection import GridSearchCV, StratifiedShuffleSplit\n",
    "from sklearn.metrics import make_scorer, cohen_kappa_score\n",
    "\n",
    "# Define your parameter grid\n",
    "paramgrid = {\n",
    "    \"max_depth\": [3, 5, 7, 10],  # Common choices for tree depth\n",
    "    \"n_estimators\": [100, 200, 300],  # Number of trees\n",
    "    \"learning_rate\": [0.01, 0.1, 0.2]  # Step size shrinkage used to prevent overfitting\n",
    "}\n",
    "\n",
    "# Define the cross-validator\n",
    "cv = StratifiedShuffleSplit(n_splits=5, test_size=0.2, random_state=24)\n",
    "\n",
    "# Define the scoring function using Cohen's Kappa Score with quadratic weighting\n",
    "kappa_scorer = make_scorer(cohen_kappa_score, weights='quadratic')\n",
    "\n",
    "# Set up the GridSearchCV with XGBClassifier\n",
    "model = GridSearchCV(\n",
    "    estimator=XGBClassifier(use_label_encoder=False, eval_metric='mlogloss'),  # use_label_encoder=False and eval_metric='mlogloss' to avoid warnings\n",
    "    param_grid=paramgrid,\n",
    "    scoring=kappa_scorer,\n",
    "    cv=cv,\n",
    "    verbose=1,\n",
    "    n_jobs=1  # Use -1 to use all cores\n",
    ")\n",
    "\n",
    "# Fit the model\n",
    "model.fit(x, y)\n",
    "\n",
    "# Get the best model\n",
    "best_model = model.best_estimator_\n",
    "\n",
    "# Optionally, fit the model with the best parameters (GridSearchCV automatically does this)\n",
    "# best_model.fit(x, y)\n"
   ]
  },
  {
   "cell_type": "code",
   "execution_count": 39,
   "metadata": {},
   "outputs": [
    {
     "name": "stdout",
     "output_type": "stream",
     "text": [
      "Fitting 2 folds for each of 32 candidates, totalling 64 fits\n"
     ]
    }
   ],
   "source": [
    "from sklearn.svm import SVC\n",
    "from sklearn.model_selection import GridSearchCV, StratifiedShuffleSplit\n",
    "from sklearn.metrics import make_scorer, cohen_kappa_score\n",
    "\n",
    "# Define your parameter grid\n",
    "paramgrid = {\n",
    "    \"C\": [0.1, 1, 10, 100],  # Regularization parameter\n",
    "    \"kernel\": ['linear', 'poly', 'rbf', 'sigmoid'],  # Type of the kernel\n",
    "    \"gamma\": ['scale', 'auto']  # Kernel coefficient\n",
    "}\n",
    "\n",
    "# Define the cross-validator\n",
    "cv = StratifiedShuffleSplit(n_splits=5, test_size=0.2, random_state=24)\n",
    "\n",
    "# Define the scoring function using Cohen's Kappa Score with quadratic weighting\n",
    "kappa_scorer = make_scorer(cohen_kappa_score, weights='quadratic')\n",
    "\n",
    "# Set up the GridSearchCV with SVC\n",
    "model = GridSearchCV(\n",
    "    estimator=SVC(probability=True),  # probability=True if you need probability estimates\n",
    "    param_grid=paramgrid,\n",
    "    scoring=kappa_scorer,\n",
    "    cv=cv,\n",
    "    verbose=1,\n",
    "    n_jobs=1  # Use -1 to use all cores\n",
    ")\n",
    "\n",
    "# Fit the model\n",
    "model.fit(x, y)\n",
    "\n",
    "# Get the best model\n",
    "best_model = model.best_estimator_\n",
    "\n",
    "# Optionally, fit the model with the best parameters (GridSearchCV automatically does this)\n",
    "# best_model.fit(x, y)\n"
   ]
  },
  {
   "cell_type": "markdown",
   "metadata": {},
   "source": [
    "## 6. train with best model "
   ]
  },
  {
   "cell_type": "code",
   "execution_count": 16,
   "metadata": {},
   "outputs": [
    {
     "name": "stdout",
     "output_type": "stream",
     "text": [
      "Confusion Matrix for Fold 1:\n",
      "[[50  7]\n",
      " [24 28]]\n",
      "Confusion Matrix for Fold 2:\n",
      "[[37 20]\n",
      " [19 32]]\n",
      "Confusion Matrix for Fold 3:\n",
      "[[38 18]\n",
      " [27 25]]\n",
      "Confusion Matrix for Fold 4:\n",
      "[[41 15]\n",
      " [23 29]]\n",
      "Confusion Matrix for Fold 5:\n",
      "[[31 25]\n",
      " [16 36]]\n",
      "Overall CV Accuracy: 0.6412674142031941\n",
      "Overall CV AUC: 0.7042440069820101\n",
      "Overall CV Precision: 0.6492069615477927\n",
      "Overall CV Recall (Sensitivity): 0.5793363499245853\n",
      "Overall CV F1 Score: 0.6065375963907564\n",
      "Overall CV Specificity: 0.6981203007518797\n",
      "Overall CV PPV (Positive Predictive Value): 0.6492069615477927\n",
      "Overall CV NPV (Negative Predictive Value): 0.6442409628180905\n",
      "Overall CV CCR (Correct Classification Rate): 0.6387283253382325\n"
     ]
    }
   ],
   "source": [
    "from sklearn.model_selection import StratifiedKFold\n",
    "from sklearn.metrics import accuracy_score, roc_auc_score, confusion_matrix, precision_score, recall_score, f1_score\n",
    "import numpy as np\n",
    "\n",
    "# Assume x, y, and best_model are defined elsewhere\n",
    "#RF\n",
    "# Set the seed for reproducibility\n",
    "seed = 42\n",
    "np.random.seed(seed)\n",
    "\n",
    "# Number of splits for cross-validation\n",
    "n_splits = 5\n",
    "\n",
    "# Prepare cross-validation\n",
    "cv = StratifiedKFold(n_splits=n_splits, shuffle=True, random_state=seed)\n",
    "\n",
    "# Lists to store results for various metrics\n",
    "accuracies = []\n",
    "auc_scores = []\n",
    "precisions = []\n",
    "recalls = []\n",
    "f1_scores = []\n",
    "specificities = []\n",
    "sensitivity_scores = []\n",
    "ppvs = []\n",
    "npvs = []\n",
    "ccrs = []\n",
    "confusion_matrices = []\n",
    "\n",
    "def calculate_ccr(sensitivity, specificity):\n",
    "    return (sensitivity + specificity) / 2\n",
    "\n",
    "# Cross-validation loop\n",
    "for train_index, test_index in cv.split(x, y):\n",
    "    # Split data\n",
    "    X_train, X_test = x[train_index], x[test_index]\n",
    "    y_train, y_test = y[train_index], y[test_index]\n",
    "    \n",
    "    # Fit the model\n",
    "    best_model.fit(X_train, y_train)\n",
    "    \n",
    "    # Predictions and predicted probabilities\n",
    "    y_pred = best_model.predict(X_test)\n",
    "    y_proba = best_model.predict_proba(X_test)[:, 1]  # Get probabilities for the positive class\n",
    "    \n",
    "    # Metrics calculation\n",
    "    accuracies.append(accuracy_score(y_test, y_pred))\n",
    "    auc_scores.append(roc_auc_score(y_test, y_proba))  # Binary class AUC\n",
    "    precisions.append(precision_score(y_test, y_pred, zero_division=0))\n",
    "    recalls.append(recall_score(y_test, y_pred))\n",
    "    f1_scores.append(f1_score(y_test, y_pred))\n",
    "    \n",
    "    # Confusion matrix\n",
    "    cm = confusion_matrix(y_test, y_pred)\n",
    "    confusion_matrices.append(cm)\n",
    "    \n",
    "    # Sensitivity and Specificity\n",
    "    tn, fp, fn, tp = cm.ravel()\n",
    "    sensitivity = tp / (tp + fn)\n",
    "    specificity = tn / (tn + fp)\n",
    "    sensitivity_scores.append(sensitivity)\n",
    "    specificities.append(specificity)\n",
    "    \n",
    "    # PPV and NPV\n",
    "    ppv = tp / (tp + fp) if (tp + fp) > 0 else 0\n",
    "    npv = tn / (tn + fn) if (tn + fn) > 0 else 0\n",
    "    ppvs.append(ppv)\n",
    "    npvs.append(npv)\n",
    "    \n",
    "    # CCR\n",
    "    ccr = calculate_ccr(sensitivity, specificity)\n",
    "    ccrs.append(ccr)\n",
    "\n",
    "# Displaying the results\n",
    "for i, cm in enumerate(confusion_matrices):\n",
    "    print(f\"Confusion Matrix for Fold {i+1}:\")\n",
    "    print(cm)\n",
    "    \n",
    "print(f'Overall CV Accuracy: {np.mean(accuracies)}')\n",
    "print(f'Overall CV AUC: {np.mean(auc_scores)}')\n",
    "print(f'Overall CV Precision: {np.mean(precisions)}')\n",
    "print(f'Overall CV Recall (Sensitivity): {np.mean(sensitivity_scores)}')\n",
    "print(f'Overall CV F1 Score: {np.mean(f1_scores)}')\n",
    "print(f'Overall CV Specificity: {np.mean(specificities)}')\n",
    "print(f'Overall CV PPV (Positive Predictive Value): {np.mean(ppvs)}')\n",
    "print(f'Overall CV NPV (Negative Predictive Value): {np.mean(npvs)}')\n",
    "print(f'Overall CV CCR (Correct Classification Rate): {np.mean(ccrs)}')\n"
   ]
  },
  {
   "cell_type": "markdown",
   "metadata": {},
   "source": [
    "## 7. Save model"
   ]
  },
  {
   "cell_type": "code",
   "execution_count": 41,
   "metadata": {},
   "outputs": [
    {
     "data": {
      "text/plain": [
       "['E:/stoptox-master/stoptox-master/modeling/Projeto_2_Acute_Inhalation/model/model_toxic/Modelo_inhalation_SVM_morgan_toxic_train_KU_50.pkl']"
      ]
     },
     "execution_count": 41,
     "metadata": {},
     "output_type": "execute_result"
    }
   ],
   "source": [
    "import joblib\n",
    "joblib.dump(best_model, 'E:/stoptox-master/stoptox-master/modeling/Projeto_2_Acute_Inhalation/model/model_toxic/Modelo_inhalation_SVM_morgan_toxic_train_KU_50.pkl',compress=9)"
   ]
  },
  {
   "cell_type": "code",
   "execution_count": null,
   "metadata": {},
   "outputs": [],
   "source": []
  }
 ],
 "metadata": {
  "kernelspec": {
   "display_name": "Python 3 (ipykernel)",
   "language": "python",
   "name": "python3"
  },
  "language_info": {
   "codemirror_mode": {
    "name": "ipython",
    "version": 3
   },
   "file_extension": ".py",
   "mimetype": "text/x-python",
   "name": "python",
   "nbconvert_exporter": "python",
   "pygments_lexer": "ipython3",
   "version": "3.9.12"
  }
 },
 "nbformat": 4,
 "nbformat_minor": 2
}
