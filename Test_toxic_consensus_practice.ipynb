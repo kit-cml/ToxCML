{
 "cells": [
  {
   "cell_type": "markdown",
   "id": "da8cce66",
   "metadata": {},
   "source": [
    "# Import module"
   ]
  },
  {
   "cell_type": "code",
   "execution_count": 1,
   "id": "f9b9656e",
   "metadata": {},
   "outputs": [
    {
     "name": "stderr",
     "output_type": "stream",
     "text": [
      "Failed to find the pandas get_adjustment() function to patch\n",
      "Failed to patch pandas - PandasTools will have limited functionality\n"
     ]
    },
    {
     "name": "stdout",
     "output_type": "stream",
     "text": [
      "  * could not import Bokeh, plotting with Highcharts instead.\n",
      "- no local installation of highcharts found, using web version.\n",
      "- loading highcharts...\n"
     ]
    },
    {
     "data": {
      "text/html": [
       "\n",
       "<script src=\"http://code.highcharts.com/highcharts.js\"></script>\n",
       "<script src=\"http://code.highcharts.com/highcharts-more.js\"></script>\n",
       "<script src=\"http://code.highcharts.com/modules/heatmap.js\"></script>\n",
       "<script src=\"http://code.highcharts.com/modules/exporting.js\"></script>\n"
      ],
      "text/plain": [
       "<IPython.core.display.HTML object>"
      ]
     },
     "metadata": {},
     "output_type": "display_data"
    },
    {
     "name": "stdout",
     "output_type": "stream",
     "text": [
      "* SA scorer not available. RDKit's Contrib dir needs to be in the Python import path...\n",
      "tools.tools                                   (211209-10:18)\n",
      "- no local installation of JSME found, using web version.\n",
      "* SA scorer not available. RDKit's Contrib dir needs to be in the Python import path...\n",
      "> interactive IPython session.\n",
      "tools.sar                                     (211209-10:18)\n"
     ]
    }
   ],
   "source": [
    "import numpy as np\n",
    "import pandas as pd\n",
    "from rdkit import Chem\n",
    "from rdkit.Chem import PandasTools\n",
    "from rdkit.Chem.Descriptors import MolLogP\n",
    "from sklearn.metrics import confusion_matrix,accuracy_score,f1_score\n",
    "from rdkit.Chem.AllChem import GetMorganFingerprintAsBitVect\n",
    "from rdkit.Chem import Descriptors\n",
    "import sys\n",
    "import multiprocessing\n",
    "from standardiser import break_bonds, neutralise, rules, unsalt\n",
    "from standardiser.utils import StandardiseException, sanity_check\n",
    "%reload_ext autoreload\n",
    "%autoreload 2\n",
    "def warn(*args, **kwargs):\n",
    "    pass  # to suppress sklearn warnings\n",
    "import warnings\n",
    "warnings.filterwarnings(\"ignore\")\n",
    "warnings.warn = warn\n",
    "from rdkit.Chem import AllChem as Chem\n",
    "from rdkit.Chem import Draw\n",
    "from rdkit.Chem.Draw import IPythonConsole\n",
    "import sys\n",
    "from tools import tools\n",
    "from tools import  pipeline as p\n",
    "from tools import  sar\n",
    "from sklearn.metrics import cohen_kappa_score\n",
    "import csv\n",
    "from rdkit.Chem import MACCSkeys\n",
    "from sklearn.model_selection import ShuffleSplit\n",
    "import _pickle as cPickle\n",
    "from sklearn.model_selection import RepeatedStratifiedKFold\n",
    "from sklearn.model_selection import StratifiedShuffleSplit    \n",
    "import bz2\n",
    "from glob import glob\n",
    "import _pickle as cPickle\n",
    "import pickle\n",
    "# The next two lines are for optical reasons only. They can be safely disabled.\n",
    "Draw.DrawingOptions.atomLabelFontFace = \"DejaVu Sans\"\n",
    "Draw.DrawingOptions.atomLabelFontSize = 18\n",
    "\n",
    "\n"
   ]
  },
  {
   "cell_type": "markdown",
   "id": "d260e5b8",
   "metadata": {},
   "source": [
    "# Load sdf file"
   ]
  },
  {
   "cell_type": "code",
   "execution_count": 2,
   "id": "7818645c",
   "metadata": {},
   "outputs": [
    {
     "name": "stderr",
     "output_type": "stream",
     "text": [
      "Failed to patch pandas - unable to change molecule rendering\n"
     ]
    },
    {
     "name": "stdout",
     "output_type": "stream",
     "text": [
      "(136, 12)\n",
      "(136, 12)\n"
     ]
    },
    {
     "data": {
      "text/plain": [
       "Index(['id', 'casrn', 'smiles (First)', 'Molecular weight', 'name', 'Outcome',\n",
       "       'Molecule (RDKit Mol) (InChI Code)', 'reference', 'molecule_form', 'ID',\n",
       "       'SMILES', 'Mol'],\n",
       "      dtype='object')"
      ]
     },
     "execution_count": 2,
     "metadata": {},
     "output_type": "execute_result"
    }
   ],
   "source": [
    "\n",
    "file = \"E:/stoptox-master/stoptox-master/modeling/Projeto_2_Acute_Inhalation/data/test_set_toxic.sdf\"\n",
    "\n",
    "sdfInfo = dict(smilesName='SMILES',molColName='ROMol')\n",
    "moldf = PandasTools.LoadSDF(file,**sdfInfo)\n",
    "print(moldf.shape)\n",
    "#Rename ROMol\n",
    "moldf = moldf.rename(columns={'ROMol': 'Mol'})\n",
    "#duplicatas by smiles\n",
    "moldf = moldf.drop_duplicates(subset=['SMILES'])\n",
    "#logP\n",
    "#moldf['logP'] = moldf['Mol'].apply(MolLogP)\n",
    "#Remove moléculas sem esrtutura no RDKit\n",
    "moldf = moldf[pd.notnull(moldf['Mol'])]\n",
    "print(moldf.shape)\n",
    "#Colunas no pandas\n",
    "moldf.keys()"
   ]
  },
  {
   "cell_type": "code",
   "execution_count": 3,
   "id": "f9260701",
   "metadata": {},
   "outputs": [
    {
     "data": {
      "text/html": [
       "<div>\n",
       "<style scoped>\n",
       "    .dataframe tbody tr th:only-of-type {\n",
       "        vertical-align: middle;\n",
       "    }\n",
       "\n",
       "    .dataframe tbody tr th {\n",
       "        vertical-align: top;\n",
       "    }\n",
       "\n",
       "    .dataframe thead th {\n",
       "        text-align: right;\n",
       "    }\n",
       "</style>\n",
       "<table border=\"1\" class=\"dataframe\">\n",
       "  <thead>\n",
       "    <tr style=\"text-align: right;\">\n",
       "      <th></th>\n",
       "      <th>id</th>\n",
       "      <th>casrn</th>\n",
       "      <th>smiles (First)</th>\n",
       "      <th>Molecular weight</th>\n",
       "      <th>name</th>\n",
       "      <th>Outcome</th>\n",
       "      <th>Molecule (RDKit Mol) (InChI Code)</th>\n",
       "      <th>reference</th>\n",
       "      <th>molecule_form</th>\n",
       "      <th>ID</th>\n",
       "      <th>SMILES</th>\n",
       "      <th>Mol</th>\n",
       "    </tr>\n",
       "  </thead>\n",
       "  <tbody>\n",
       "    <tr>\n",
       "      <th>0</th>\n",
       "      <td>660</td>\n",
       "      <td>36635-56-0</td>\n",
       "      <td></td>\n",
       "      <td>213.2535400390625</td>\n",
       "      <td>-</td>\n",
       "      <td>0</td>\n",
       "      <td>InChI=1S/C9H11NO3S/c1-8-2-4-9(5-3-8)14(12,13)7...</td>\n",
       "      <td>ECHA</td>\n",
       "      <td>A</td>\n",
       "      <td></td>\n",
       "      <td>Cc1ccc(S(=O)(=O)CNC=O)cc1</td>\n",
       "      <td>&lt;rdkit.Chem.rdchem.Mol object at 0x000001FB9F7...</td>\n",
       "    </tr>\n",
       "    <tr>\n",
       "      <th>1</th>\n",
       "      <td>970</td>\n",
       "      <td>149-30-4</td>\n",
       "      <td></td>\n",
       "      <td>167.2512969970703</td>\n",
       "      <td>1,3-benzothiazole-2-thiol</td>\n",
       "      <td>0</td>\n",
       "      <td>InChI=1S/C7H5NS2/c9-7-8-5-3-1-2-4-6(5)10-7/h1-...</td>\n",
       "      <td>ECHA</td>\n",
       "      <td>A</td>\n",
       "      <td></td>\n",
       "      <td>S=c1[nH]c2ccccc2s1</td>\n",
       "      <td>&lt;rdkit.Chem.rdchem.Mol object at 0x000001FB9F7...</td>\n",
       "    </tr>\n",
       "    <tr>\n",
       "      <th>2</th>\n",
       "      <td>239691</td>\n",
       "      <td>15520-10-2</td>\n",
       "      <td>CC(CN)CCCN</td>\n",
       "      <td>116.20464324951172</td>\n",
       "      <td>2-Methylpentanediamine</td>\n",
       "      <td>1</td>\n",
       "      <td>InChI=1S/C6H16N2/c1-6(5-8)3-2-4-7/h6H,2-5,7-8H...</td>\n",
       "      <td>ToxValDB</td>\n",
       "      <td>not specified</td>\n",
       "      <td></td>\n",
       "      <td>CC(CN)CCCN</td>\n",
       "      <td>&lt;rdkit.Chem.rdchem.Mol object at 0x000001FB9F7...</td>\n",
       "    </tr>\n",
       "    <tr>\n",
       "      <th>3</th>\n",
       "      <td>1148</td>\n",
       "      <td>104-12-1</td>\n",
       "      <td></td>\n",
       "      <td>153.56576538085938</td>\n",
       "      <td>1-chloro-4-isocyanatobenzene</td>\n",
       "      <td>1</td>\n",
       "      <td>InChI=1S/C7H4ClNO/c8-6-1-3-7(4-2-6)9-5-10/h1-4H</td>\n",
       "      <td>ECHA</td>\n",
       "      <td>V</td>\n",
       "      <td></td>\n",
       "      <td>O=C=Nc1ccc(Cl)cc1</td>\n",
       "      <td>&lt;rdkit.Chem.rdchem.Mol object at 0x000001FB9F7...</td>\n",
       "    </tr>\n",
       "    <tr>\n",
       "      <th>4</th>\n",
       "      <td>256719; 904107; 904108; 904113; 904115</td>\n",
       "      <td>30674-80-7</td>\n",
       "      <td>CC(=C)C(=O)OCCN=C=O</td>\n",
       "      <td>155.15126037597656</td>\n",
       "      <td>2-Isocyanatoethyl methacrylate</td>\n",
       "      <td>1</td>\n",
       "      <td>InChI=1S/C7H9NO3/c1-6(2)7(10)11-4-3-8-5-9/h1,3...</td>\n",
       "      <td>ToxValDB</td>\n",
       "      <td>not specified</td>\n",
       "      <td></td>\n",
       "      <td>C=C(C)C(=O)OCCN=C=O</td>\n",
       "      <td>&lt;rdkit.Chem.rdchem.Mol object at 0x000001FB9F7...</td>\n",
       "    </tr>\n",
       "    <tr>\n",
       "      <th>...</th>\n",
       "      <td>...</td>\n",
       "      <td>...</td>\n",
       "      <td>...</td>\n",
       "      <td>...</td>\n",
       "      <td>...</td>\n",
       "      <td>...</td>\n",
       "      <td>...</td>\n",
       "      <td>...</td>\n",
       "      <td>...</td>\n",
       "      <td>...</td>\n",
       "      <td>...</td>\n",
       "      <td>...</td>\n",
       "    </tr>\n",
       "    <tr>\n",
       "      <th>131</th>\n",
       "      <td>352720; 924323</td>\n",
       "      <td>97-63-2</td>\n",
       "      <td>CCOC(=O)C(C)=C</td>\n",
       "      <td>114.14240264892578</td>\n",
       "      <td>Ethyl methacrylate</td>\n",
       "      <td>0</td>\n",
       "      <td>InChI=1S/C6H10O2/c1-4-8-6(7)5(2)3/h2,4H2,1,3H3</td>\n",
       "      <td>ToxValDB</td>\n",
       "      <td>not specified</td>\n",
       "      <td></td>\n",
       "      <td>C=C(C)C(=O)OCC</td>\n",
       "      <td>&lt;rdkit.Chem.rdchem.Mol object at 0x000001FB9F8...</td>\n",
       "    </tr>\n",
       "    <tr>\n",
       "      <th>132</th>\n",
       "      <td>205408</td>\n",
       "      <td>109-63-7</td>\n",
       "      <td>[B-]([O+](CC)CC)(F)(F)F</td>\n",
       "      <td>141.9278106689453</td>\n",
       "      <td>(Diethyl ether)trifluoroborane</td>\n",
       "      <td>1</td>\n",
       "      <td>InChI=1S/C4H10BF3O/c1-3-9(4-2)5(6,7)8/h3-4H2,1...</td>\n",
       "      <td>ToxValDB</td>\n",
       "      <td>not specified</td>\n",
       "      <td></td>\n",
       "      <td>CC[O+](CC)[B-](F)(F)F</td>\n",
       "      <td>&lt;rdkit.Chem.rdchem.Mol object at 0x000001FB9F8...</td>\n",
       "    </tr>\n",
       "    <tr>\n",
       "      <th>133</th>\n",
       "      <td>911342</td>\n",
       "      <td>3748-13-8</td>\n",
       "      <td>CC(=C)c1cccc(c1)C(C)=C</td>\n",
       "      <td>158.23956298828125</td>\n",
       "      <td>1,3-Diisopropenylbenzene</td>\n",
       "      <td>1</td>\n",
       "      <td>InChI=1S/C12H14/c1-9(2)11-6-5-7-12(8-11)10(3)4...</td>\n",
       "      <td>ToxValDB</td>\n",
       "      <td>not specified</td>\n",
       "      <td></td>\n",
       "      <td>C=C(C)c1cccc(C(=C)C)c1</td>\n",
       "      <td>&lt;rdkit.Chem.rdchem.Mol object at 0x000001FB9F8...</td>\n",
       "    </tr>\n",
       "    <tr>\n",
       "      <th>134</th>\n",
       "      <td>1401</td>\n",
       "      <td>14228-73-0</td>\n",
       "      <td></td>\n",
       "      <td>256.33795166015625</td>\n",
       "      <td>2-[({4-[(oxiran-2-ylmethoxy)methyl]cyclohexyl}...</td>\n",
       "      <td>0</td>\n",
       "      <td>InChI=1S/C14H24O4/c1-2-12(6-16-8-14-10-18-14)4...</td>\n",
       "      <td>ECHA</td>\n",
       "      <td>A</td>\n",
       "      <td></td>\n",
       "      <td>C1CC(COCC2CO2)CCC1COCC1CO1</td>\n",
       "      <td>&lt;rdkit.Chem.rdchem.Mol object at 0x000001FB9F8...</td>\n",
       "    </tr>\n",
       "    <tr>\n",
       "      <th>135</th>\n",
       "      <td>964; 965; 963; 962</td>\n",
       "      <td>2451-62-9</td>\n",
       "      <td></td>\n",
       "      <td>297.2640075683594</td>\n",
       "      <td>1,3,5-tris(oxiran-2-ylmethyl)-1,3,5-triazinane...</td>\n",
       "      <td>1</td>\n",
       "      <td>InChI=1S/C12H15N3O6/c16-10-13(1-7-4-19-7)11(17...</td>\n",
       "      <td>ECHA</td>\n",
       "      <td>A</td>\n",
       "      <td></td>\n",
       "      <td>O=c1n(CC2CO2)c(=O)n(CC2CO2)c(=O)n1CC1CO1</td>\n",
       "      <td>&lt;rdkit.Chem.rdchem.Mol object at 0x000001FB9F8...</td>\n",
       "    </tr>\n",
       "  </tbody>\n",
       "</table>\n",
       "<p>136 rows × 12 columns</p>\n",
       "</div>"
      ],
      "text/plain": [
       "                                         id       casrn  \\\n",
       "0                                       660  36635-56-0   \n",
       "1                                       970    149-30-4   \n",
       "2                                    239691  15520-10-2   \n",
       "3                                      1148    104-12-1   \n",
       "4    256719; 904107; 904108; 904113; 904115  30674-80-7   \n",
       "..                                      ...         ...   \n",
       "131                          352720; 924323     97-63-2   \n",
       "132                                  205408    109-63-7   \n",
       "133                                  911342   3748-13-8   \n",
       "134                                    1401  14228-73-0   \n",
       "135                      964; 965; 963; 962   2451-62-9   \n",
       "\n",
       "              smiles (First)    Molecular weight  \\\n",
       "0                              213.2535400390625   \n",
       "1                              167.2512969970703   \n",
       "2                 CC(CN)CCCN  116.20464324951172   \n",
       "3                             153.56576538085938   \n",
       "4        CC(=C)C(=O)OCCN=C=O  155.15126037597656   \n",
       "..                       ...                 ...   \n",
       "131           CCOC(=O)C(C)=C  114.14240264892578   \n",
       "132  [B-]([O+](CC)CC)(F)(F)F   141.9278106689453   \n",
       "133   CC(=C)c1cccc(c1)C(C)=C  158.23956298828125   \n",
       "134                           256.33795166015625   \n",
       "135                            297.2640075683594   \n",
       "\n",
       "                                                  name Outcome  \\\n",
       "0                                                    -       0   \n",
       "1                            1,3-benzothiazole-2-thiol       0   \n",
       "2                               2-Methylpentanediamine       1   \n",
       "3                         1-chloro-4-isocyanatobenzene       1   \n",
       "4                       2-Isocyanatoethyl methacrylate       1   \n",
       "..                                                 ...     ...   \n",
       "131                                 Ethyl methacrylate       0   \n",
       "132                     (Diethyl ether)trifluoroborane       1   \n",
       "133                           1,3-Diisopropenylbenzene       1   \n",
       "134  2-[({4-[(oxiran-2-ylmethoxy)methyl]cyclohexyl}...       0   \n",
       "135  1,3,5-tris(oxiran-2-ylmethyl)-1,3,5-triazinane...       1   \n",
       "\n",
       "                     Molecule (RDKit Mol) (InChI Code) reference  \\\n",
       "0    InChI=1S/C9H11NO3S/c1-8-2-4-9(5-3-8)14(12,13)7...      ECHA   \n",
       "1    InChI=1S/C7H5NS2/c9-7-8-5-3-1-2-4-6(5)10-7/h1-...      ECHA   \n",
       "2    InChI=1S/C6H16N2/c1-6(5-8)3-2-4-7/h6H,2-5,7-8H...  ToxValDB   \n",
       "3      InChI=1S/C7H4ClNO/c8-6-1-3-7(4-2-6)9-5-10/h1-4H      ECHA   \n",
       "4    InChI=1S/C7H9NO3/c1-6(2)7(10)11-4-3-8-5-9/h1,3...  ToxValDB   \n",
       "..                                                 ...       ...   \n",
       "131     InChI=1S/C6H10O2/c1-4-8-6(7)5(2)3/h2,4H2,1,3H3  ToxValDB   \n",
       "132  InChI=1S/C4H10BF3O/c1-3-9(4-2)5(6,7)8/h3-4H2,1...  ToxValDB   \n",
       "133  InChI=1S/C12H14/c1-9(2)11-6-5-7-12(8-11)10(3)4...  ToxValDB   \n",
       "134  InChI=1S/C14H24O4/c1-2-12(6-16-8-14-10-18-14)4...      ECHA   \n",
       "135  InChI=1S/C12H15N3O6/c16-10-13(1-7-4-19-7)11(17...      ECHA   \n",
       "\n",
       "     molecule_form ID                                    SMILES  \\\n",
       "0                A                    Cc1ccc(S(=O)(=O)CNC=O)cc1   \n",
       "1                A                           S=c1[nH]c2ccccc2s1   \n",
       "2    not specified                                   CC(CN)CCCN   \n",
       "3                V                            O=C=Nc1ccc(Cl)cc1   \n",
       "4    not specified                          C=C(C)C(=O)OCCN=C=O   \n",
       "..             ... ..                                       ...   \n",
       "131  not specified                               C=C(C)C(=O)OCC   \n",
       "132  not specified                        CC[O+](CC)[B-](F)(F)F   \n",
       "133  not specified                       C=C(C)c1cccc(C(=C)C)c1   \n",
       "134              A                   C1CC(COCC2CO2)CCC1COCC1CO1   \n",
       "135              A     O=c1n(CC2CO2)c(=O)n(CC2CO2)c(=O)n1CC1CO1   \n",
       "\n",
       "                                                   Mol  \n",
       "0    <rdkit.Chem.rdchem.Mol object at 0x000001FB9F7...  \n",
       "1    <rdkit.Chem.rdchem.Mol object at 0x000001FB9F7...  \n",
       "2    <rdkit.Chem.rdchem.Mol object at 0x000001FB9F7...  \n",
       "3    <rdkit.Chem.rdchem.Mol object at 0x000001FB9F7...  \n",
       "4    <rdkit.Chem.rdchem.Mol object at 0x000001FB9F7...  \n",
       "..                                                 ...  \n",
       "131  <rdkit.Chem.rdchem.Mol object at 0x000001FB9F8...  \n",
       "132  <rdkit.Chem.rdchem.Mol object at 0x000001FB9F8...  \n",
       "133  <rdkit.Chem.rdchem.Mol object at 0x000001FB9F8...  \n",
       "134  <rdkit.Chem.rdchem.Mol object at 0x000001FB9F8...  \n",
       "135  <rdkit.Chem.rdchem.Mol object at 0x000001FB9F8...  \n",
       "\n",
       "[136 rows x 12 columns]"
      ]
     },
     "execution_count": 3,
     "metadata": {},
     "output_type": "execute_result"
    }
   ],
   "source": [
    "moldf"
   ]
  },
  {
   "cell_type": "code",
   "execution_count": 4,
   "id": "9f2a43f9",
   "metadata": {},
   "outputs": [
    {
     "data": {
      "image/png": "[encoded data removed]",
      "text/plain": [
       "<PIL.PngImagePlugin.PngImageFile image mode=RGB size=200x200 at 0x1FB9F7CEAC0>"
      ]
     },
     "metadata": {},
     "output_type": "display_data"
    },
    {
     "name": "stdout",
     "output_type": "stream",
     "text": [
      "Cc1ccc(S(=O)(=O)CNC=O)cc1\n"
     ]
    },
    {
     "data": {
      "image/png": "[encoded data removed]",
      "text/plain": [
       "<PIL.PngImagePlugin.PngImageFile image mode=RGB size=200x200 at 0x1FB9F7D7EE0>"
      ]
     },
     "metadata": {},
     "output_type": "display_data"
    },
    {
     "name": "stdout",
     "output_type": "stream",
     "text": [
      "S=c1[nH]c2ccccc2s1\n"
     ]
    },
    {
     "data": {
      "image/png": "[encoded data removed]",
      "text/plain": [
       "<PIL.PngImagePlugin.PngImageFile image mode=RGB size=200x200 at 0x1FBA5D882B0>"
      ]
     },
     "metadata": {},
     "output_type": "display_data"
    },
    {
     "name": "stdout",
     "output_type": "stream",
     "text": [
      "CC(CN)CCCN\n"
     ]
    },
    {
     "data": {
      "image/png": "[encoded data removed]",
      "text/plain": [
       "<PIL.PngImagePlugin.PngImageFile image mode=RGB size=200x200 at 0x1FBA5D88430>"
      ]
     },
     "metadata": {},
     "output_type": "display_data"
    },
    {
     "name": "stdout",
     "output_type": "stream",
     "text": [
      "O=C=Nc1ccc(Cl)cc1\n"
     ]
    },
    {
     "data": {
      "image/png": "[encoded data removed]",
      "text/plain": [
       "<PIL.PngImagePlugin.PngImageFile image mode=RGB size=200x200 at 0x1FBA5D881F0>"
      ]
     },
     "metadata": {},
     "output_type": "display_data"
    },
    {
     "name": "stdout",
     "output_type": "stream",
     "text": [
      "C=C(C)C(=O)OCCN=C=O\n"
     ]
    },
    {
     "data": {
      "image/png": "[encoded data removed]",
      "text/plain": [
       "<PIL.PngImagePlugin.PngImageFile image mode=RGB size=200x200 at 0x1FBA5D880D0>"
      ]
     },
     "metadata": {},
     "output_type": "display_data"
    },
    {
     "name": "stdout",
     "output_type": "stream",
     "text": [
      "CCCCCCCCCCCCCCCCCCCCC\n"
     ]
    },
    {
     "data": {
      "image/png": "[encoded data removed]",
      "text/plain": [
       "<PIL.PngImagePlugin.PngImageFile image mode=RGB size=200x200 at 0x1FBA5D88160>"
      ]
     },
     "metadata": {},
     "output_type": "display_data"
    },
    {
     "name": "stdout",
     "output_type": "stream",
     "text": [
      "CC(O)CN(C)C\n"
     ]
    },
    {
     "data": {
      "image/png": "[encoded data removed]",
      "text/plain": [
       "<PIL.PngImagePlugin.PngImageFile image mode=RGB size=200x200 at 0x1FBA5D88490>"
      ]
     },
     "metadata": {},
     "output_type": "display_data"
    },
    {
     "name": "stdout",
     "output_type": "stream",
     "text": [
      "Clc1ccc(CNC2CCCC2)cc1\n"
     ]
    },
    {
     "data": {
      "image/png": "[encoded data removed]",
      "text/plain": [
       "<PIL.PngImagePlugin.PngImageFile image mode=RGB size=200x200 at 0x1FBA5D882B0>"
      ]
     },
     "metadata": {},
     "output_type": "display_data"
    },
    {
     "name": "stdout",
     "output_type": "stream",
     "text": [
      "CCOc1nc(F)cc2nc(SSc3nc4cc(F)nc(OCC)n4n3)nn12\n"
     ]
    },
    {
     "data": {
      "image/png": "[encoded data removed]",
      "text/plain": [
       "<PIL.PngImagePlugin.PngImageFile image mode=RGB size=200x200 at 0x1FBA5D884F0>"
      ]
     },
     "metadata": {},
     "output_type": "display_data"
    },
    {
     "name": "stdout",
     "output_type": "stream",
     "text": [
      "CCCO\n"
     ]
    }
   ],
   "source": [
    "from rdkit import Chem\n",
    "from rdkit.Chem import Draw\n",
    "from IPython.display import display\n",
    "\n",
    "def display_molecules_in_column(moldf, num_mols):\n",
    "    for _, row in moldf.head(num_mols).iterrows():\n",
    "        smi = row['SMILES']\n",
    "        if smi is not None:\n",
    "            mol = Chem.MolFromSmiles(smi)  # Create Mol object from SMILES\n",
    "            if mol is not None:\n",
    "                img = Draw.MolToImage(mol, size=(200, 200))\n",
    "                display(img)\n",
    "                print(smi)  # Prints the SMILES representation below the image\n",
    "\n",
    "# Assuming 'df' is your DataFrame\n",
    "# Display the first 10 molecules, each on a new row\n",
    "display_molecules_in_column(moldf, 10)\n"
   ]
  },
  {
   "cell_type": "markdown",
   "id": "a2350e1f",
   "metadata": {},
   "source": [
    "# Data distribution"
   ]
  },
  {
   "cell_type": "code",
   "execution_count": 5,
   "id": "72f9ab29",
   "metadata": {},
   "outputs": [],
   "source": [
    "moldf = moldf.rename(columns={'Label': 'Outcome'})"
   ]
  },
  {
   "cell_type": "code",
   "execution_count": 6,
   "id": "f80fa6c8",
   "metadata": {},
   "outputs": [
    {
     "name": "stdout",
     "output_type": "stream",
     "text": [
      "Classes                          :  ['0' '1']\n",
      "Number of cpds in each class     :  [60 76]\n",
      "Total number of cpds             :  136\n"
     ]
    }
   ],
   "source": [
    "from sklearn.preprocessing import LabelEncoder\n",
    "le = LabelEncoder()\n",
    "\n",
    "\n",
    "outcomes=(np.unique(moldf['Outcome']))\n",
    "le.fit(list(set(outcomes)))\n",
    "y = le.transform( moldf['Outcome'] )\n",
    "\n",
    "\n",
    "\n",
    "print (\"Classes                          : \",(outcomes))\n",
    "print (\"Number of cpds in each class     : \",np.unique([len(y[y==smi]) for smi in y]))\n",
    "print (\"Total number of cpds             : \",len(y))\n",
    "\n",
    "S = moldf['Outcome']\n",
    "info = {}\n",
    "for i,cls in enumerate(S.unique()):\n",
    "    info.update({cls:i})\n",
    "    S = S.replace(cls,i)"
   ]
  },
  {
   "cell_type": "code",
   "execution_count": 7,
   "id": "f517d9bb",
   "metadata": {},
   "outputs": [
    {
     "data": {
      "text/plain": [
       "{'0': 0, '1': 1}"
      ]
     },
     "execution_count": 7,
     "metadata": {},
     "output_type": "execute_result"
    },
    {
     "data": {
      "image/png": "[encoded data removed]",
      "text/plain": [
       "<Figure size 432x288 with 1 Axes>"
      ]
     },
     "metadata": {
      "needs_background": "light"
     },
     "output_type": "display_data"
    }
   ],
   "source": [
    "ax = S.hist(bins=np.arange(-0.5,5))\n",
    "ax.set_xticks(range(0,5))\n",
    "info"
   ]
  },
  {
   "cell_type": "markdown",
   "id": "b248d316",
   "metadata": {},
   "source": [
    "# Load Model"
   ]
  },
  {
   "cell_type": "code",
   "execution_count": 9,
   "id": "4f83041a",
   "metadata": {},
   "outputs": [],
   "source": [
    "import joblib\n",
    "rf_morgan = joblib.load('E:/stoptox-master/stoptox-master/modeling/Projeto_2_Acute_Inhalation/model/model_toxic/Modelo_inhalation_RF_morgan_toxic.pkl')  # Assume these are trained or loaded\n",
    "rf_maccs = joblib.load('E:/stoptox-master/stoptox-master/modeling/Projeto_2_Acute_Inhalation/model/model_toxic/Modelo_inhalation_RF_macckeys_toxic.pkl')\n",
    "rf_modred = joblib.load('E:/stoptox-master/stoptox-master/modeling/Projeto_2_Acute_Inhalation/model/model_toxic/Modelo_inhalation_RF_modred_toxic.pkl')\n"
   ]
  },
  {
   "cell_type": "markdown",
   "id": "a95424cb",
   "metadata": {},
   "source": [
    "# Import Module for Descriptor"
   ]
  },
  {
   "cell_type": "code",
   "execution_count": 15,
   "id": "d5b9122c",
   "metadata": {},
   "outputs": [],
   "source": [
    "import numpy as np\n",
    "import pandas as pd\n",
    "from rdkit import Chem\n",
    "from rdkit.Chem import AllChem, MACCSkeys\n",
    "from sklearn.ensemble import RandomForestClassifier\n",
    "from sklearn.preprocessing import StandardScaler\n",
    "from mordred import Calculator, descriptors\n",
    "from fancyimpute import KNN\n"
   ]
  },
  {
   "cell_type": "markdown",
   "id": "cd9bbabb",
   "metadata": {},
   "source": [
    "# Morgan and MACCS keys descriptor"
   ]
  },
  {
   "cell_type": "code",
   "execution_count": 10,
   "id": "6719eae8",
   "metadata": {},
   "outputs": [],
   "source": [
    "# Morgan fingerprints\n",
    "nBits = 1024\n",
    "radius = 2\n",
    "useFeatures = False\n",
    "moldf['Morgan_Descriptors'] = moldf['Mol'].apply(lambda mol: AllChem.GetMorganFingerprintAsBitVect(mol, nBits=nBits, radius=radius, useFeatures=useFeatures))\n",
    "\n",
    "# MACCS keys\n",
    "moldf['MACCS_Descriptors'] = moldf['Mol'].apply(lambda mol: MACCSkeys.GenMACCSKeys(mol))\n",
    "\n"
   ]
  },
  {
   "cell_type": "markdown",
   "id": "e76d0acd",
   "metadata": {},
   "source": [
    "# Modred Calculation"
   ]
  },
  {
   "cell_type": "code",
   "execution_count": 11,
   "id": "58ea55ab",
   "metadata": {},
   "outputs": [
    {
     "name": "stderr",
     "output_type": "stream",
     "text": [
      "100%|██████████| 136/136 [00:05<00:00, 25.08it/s]\n"
     ]
    }
   ],
   "source": [
    "from sklearn.preprocessing import StandardScaler\n",
    "from rdkit import Chem\n",
    "from mordred import Calculator, descriptors\n",
    "\n",
    "# create descriptor calculator with all descriptors\n",
    "calc = Calculator(descriptors, ignore_3D=True)\n",
    "df = calc.pandas(moldf['Mol'])"
   ]
  },
  {
   "cell_type": "code",
   "execution_count": 66,
   "id": "60b89711",
   "metadata": {},
   "outputs": [
    {
     "name": "stdout",
     "output_type": "stream",
     "text": [
      "Imputing row 1/11 with 0 missing, elapsed time: 0.001\n"
     ]
    }
   ],
   "source": [
    "from fancyimpute import KNN\n",
    "import pandas as pd\n",
    "import numpy as np\n",
    "\n",
    "# Assuming 'df' is your original DataFrame\n",
    "df_numeric = df.select_dtypes(include=[float])  # Using Python's built-in float type\n",
    "\n",
    "# Now run fancyimpute KNN, it returns a np.array which I store as a pandas dataframe\n",
    "# Assuming the columns in df_numeric should be preserved for df_filled\n",
    "df_filled = pd.DataFrame(KNN(k=3).fit_transform(df_numeric), columns=df_numeric.columns, index=df_numeric.index)\n"
   ]
  },
  {
   "cell_type": "code",
   "execution_count": 67,
   "id": "725c41c5",
   "metadata": {},
   "outputs": [],
   "source": [
    "X = np.array(df_filled)\n",
    "scaler = StandardScaler()\n",
    "x=  scaler.fit_transform(X)\n",
    "#moldf['Modred_Descriptor'] = x.tolist()"
   ]
  },
  {
   "cell_type": "code",
   "execution_count": 68,
   "id": "4af859df",
   "metadata": {},
   "outputs": [
    {
     "name": "stdout",
     "output_type": "stream",
     "text": [
      "(11, 564)\n"
     ]
    }
   ],
   "source": [
    "print(x.shape)"
   ]
  },
  {
   "cell_type": "code",
   "execution_count": 69,
   "id": "13afc999",
   "metadata": {},
   "outputs": [],
   "source": [
    "import pandas as pd\n",
    "\n",
    "def reduce_features_by_low_variance(X, num_features_to_keep=739):\n",
    "    # Ensure X is a DataFrame\n",
    "    if not isinstance(X, pd.DataFrame):\n",
    "        X = pd.DataFrame(X)  # Convert to DataFrame assuming X is 2D array-like\n",
    "\n",
    "    # Calculate variance of each feature\n",
    "    variances = X.var()\n",
    "    \n",
    "    # Sort features by variance (highest to lowest)\n",
    "    selected_features = variances.sort_values(ascending=False).head(num_features_to_keep).index\n",
    "    \n",
    "    # Select columns by selected feature names\n",
    "    X_reduced = X[selected_features]\n",
    "    \n",
    "    return X_reduced\n",
    "\n",
    "# Usage: Assuming X is a DataFrame or convertable to one\n",
    "X_reduced = reduce_features_by_low_variance(X, 521)\n"
   ]
  },
  {
   "cell_type": "code",
   "execution_count": 70,
   "id": "7ec32e41",
   "metadata": {},
   "outputs": [],
   "source": [
    "row_lists = X_reduced.apply(lambda x: x.tolist(), axis=1)\n"
   ]
  },
  {
   "cell_type": "code",
   "execution_count": 71,
   "id": "a8e66d6a",
   "metadata": {},
   "outputs": [],
   "source": [
    "moldf['Modred_Descriptor'] = row_lists"
   ]
  },
  {
   "cell_type": "code",
   "execution_count": 45,
   "id": "65ebf8e1",
   "metadata": {},
   "outputs": [
    {
     "data": {
      "text/html": [
       "<div>\n",
       "<style scoped>\n",
       "    .dataframe tbody tr th:only-of-type {\n",
       "        vertical-align: middle;\n",
       "    }\n",
       "\n",
       "    .dataframe tbody tr th {\n",
       "        vertical-align: top;\n",
       "    }\n",
       "\n",
       "    .dataframe thead th {\n",
       "        text-align: right;\n",
       "    }\n",
       "</style>\n",
       "<table border=\"1\" class=\"dataframe\">\n",
       "  <thead>\n",
       "    <tr style=\"text-align: right;\">\n",
       "      <th></th>\n",
       "      <th>id</th>\n",
       "      <th>casrn</th>\n",
       "      <th>smiles (First)</th>\n",
       "      <th>Molecular weight</th>\n",
       "      <th>name</th>\n",
       "      <th>Outcome</th>\n",
       "      <th>Molecule (RDKit Mol) (InChI Code)</th>\n",
       "      <th>reference</th>\n",
       "      <th>molecule_form</th>\n",
       "      <th>ID</th>\n",
       "      <th>SMILES</th>\n",
       "      <th>Mol</th>\n",
       "      <th>Morgan_Descriptors</th>\n",
       "      <th>MACCS_Descriptors</th>\n",
       "      <th>Mordred_Descriptors</th>\n",
       "      <th>Modred_Descriptors</th>\n",
       "      <th>Modred_Descriptor</th>\n",
       "    </tr>\n",
       "  </thead>\n",
       "  <tbody>\n",
       "    <tr>\n",
       "      <th>0</th>\n",
       "      <td>660</td>\n",
       "      <td>36635-56-0</td>\n",
       "      <td></td>\n",
       "      <td>213.2535400390625</td>\n",
       "      <td>-</td>\n",
       "      <td>0</td>\n",
       "      <td>InChI=1S/C9H11NO3S/c1-8-2-4-9(5-3-8)14(12,13)7...</td>\n",
       "      <td>ECHA</td>\n",
       "      <td>A</td>\n",
       "      <td></td>\n",
       "      <td>Cc1ccc(S(=O)(=O)CNC=O)cc1</td>\n",
       "      <td>&lt;rdkit.Chem.rdchem.Mol object at 0x0000021E27F...</td>\n",
       "      <td>[0, 0, 0, 0, 0, 0, 0, 0, 0, 0, 0, 0, 0, 0, 0, ...</td>\n",
       "      <td>[0, 0, 0, 0, 0, 0, 0, 0, 0, 0, 0, 0, 0, 0, 0, ...</td>\n",
       "      <td>[0.17227603801262906, 0.8886519059101542, 0.93...</td>\n",
       "      <td>[0.17227603801262906, 0.8886519059101542, 0.93...</td>\n",
       "      <td>[4349.509637945195, 8674.913158843581, 4309.82...</td>\n",
       "    </tr>\n",
       "    <tr>\n",
       "      <th>1</th>\n",
       "      <td>970</td>\n",
       "      <td>149-30-4</td>\n",
       "      <td></td>\n",
       "      <td>167.2512969970703</td>\n",
       "      <td>1,3-benzothiazole-2-thiol</td>\n",
       "      <td>0</td>\n",
       "      <td>InChI=1S/C7H5NS2/c9-7-8-5-3-1-2-4-6(5)10-7/h1-...</td>\n",
       "      <td>ECHA</td>\n",
       "      <td>A</td>\n",
       "      <td></td>\n",
       "      <td>S=c1[nH]c2ccccc2s1</td>\n",
       "      <td>&lt;rdkit.Chem.rdchem.Mol object at 0x0000021E315...</td>\n",
       "      <td>[0, 0, 0, 0, 0, 0, 0, 0, 0, 0, 0, 0, 0, 0, 0, ...</td>\n",
       "      <td>[0, 0, 0, 0, 0, 0, 0, 0, 0, 0, 0, 0, 0, 0, 0, ...</td>\n",
       "      <td>[-0.18271594369469454, 0.9650671746798422, 0.6...</td>\n",
       "      <td>[-0.18271594369469454, 0.9650671746798422, 0.6...</td>\n",
       "      <td>[0.0, 3223.993109736407, 466.677662953109, 0.0...</td>\n",
       "    </tr>\n",
       "    <tr>\n",
       "      <th>2</th>\n",
       "      <td>239691</td>\n",
       "      <td>15520-10-2</td>\n",
       "      <td>CC(CN)CCCN</td>\n",
       "      <td>116.20464324951172</td>\n",
       "      <td>2-Methylpentanediamine</td>\n",
       "      <td>1</td>\n",
       "      <td>InChI=1S/C6H16N2/c1-6(5-8)3-2-4-7/h6H,2-5,7-8H...</td>\n",
       "      <td>ToxValDB</td>\n",
       "      <td>not specified</td>\n",
       "      <td></td>\n",
       "      <td>CC(CN)CCCN</td>\n",
       "      <td>&lt;rdkit.Chem.rdchem.Mol object at 0x0000021E315...</td>\n",
       "      <td>[0, 1, 0, 0, 0, 0, 0, 0, 0, 0, 0, 0, 0, 0, 0, ...</td>\n",
       "      <td>[0, 0, 0, 0, 0, 0, 0, 0, 0, 0, 0, 0, 0, 0, 0, ...</td>\n",
       "      <td>[-0.5254753991580754, -0.44148053222262684, -0...</td>\n",
       "      <td>[-0.5254753991580754, -0.44148053222262684, -0...</td>\n",
       "      <td>[3379.4116499646852, 9898.293392995274, 5472.1...</td>\n",
       "    </tr>\n",
       "    <tr>\n",
       "      <th>3</th>\n",
       "      <td>1148</td>\n",
       "      <td>104-12-1</td>\n",
       "      <td></td>\n",
       "      <td>153.56576538085938</td>\n",
       "      <td>1-chloro-4-isocyanatobenzene</td>\n",
       "      <td>1</td>\n",
       "      <td>InChI=1S/C7H4ClNO/c8-6-1-3-7(4-2-6)9-5-10/h1-4H</td>\n",
       "      <td>ECHA</td>\n",
       "      <td>V</td>\n",
       "      <td></td>\n",
       "      <td>O=C=Nc1ccc(Cl)cc1</td>\n",
       "      <td>&lt;rdkit.Chem.rdchem.Mol object at 0x0000021E315...</td>\n",
       "      <td>[0, 0, 0, 0, 0, 0, 0, 0, 0, 0, 0, 0, 0, 0, 0, ...</td>\n",
       "      <td>[0, 0, 0, 0, 0, 0, 0, 0, 0, 0, 0, 0, 0, 0, 0, ...</td>\n",
       "      <td>[-0.23341754326911535, 0.3606583930911114, 0.3...</td>\n",
       "      <td>[-0.23341754326911535, 0.3606583930911114, 0.3...</td>\n",
       "      <td>[176.5938337215, 2906.485105267678, 669.731285...</td>\n",
       "    </tr>\n",
       "    <tr>\n",
       "      <th>4</th>\n",
       "      <td>256719; 904107; 904108; 904113; 904115</td>\n",
       "      <td>30674-80-7</td>\n",
       "      <td>CC(=C)C(=O)OCCN=C=O</td>\n",
       "      <td>155.15126037597656</td>\n",
       "      <td>2-Isocyanatoethyl methacrylate</td>\n",
       "      <td>1</td>\n",
       "      <td>InChI=1S/C7H9NO3/c1-6(2)7(10)11-4-3-8-5-9/h1,3...</td>\n",
       "      <td>ToxValDB</td>\n",
       "      <td>not specified</td>\n",
       "      <td></td>\n",
       "      <td>C=C(C)C(=O)OCCN=C=O</td>\n",
       "      <td>&lt;rdkit.Chem.rdchem.Mol object at 0x0000021E315...</td>\n",
       "      <td>[0, 0, 0, 0, 0, 0, 0, 0, 0, 0, 0, 0, 0, 1, 0, ...</td>\n",
       "      <td>[0, 0, 0, 0, 0, 0, 0, 0, 0, 0, 0, 0, 0, 0, 0, ...</td>\n",
       "      <td>[-0.21471011349678934, -0.05875499955955529, -...</td>\n",
       "      <td>[-0.21471011349678934, -0.05875499955955529, -...</td>\n",
       "      <td>[3429.7654986714906, 5624.892451913993, 3988.0...</td>\n",
       "    </tr>\n",
       "    <tr>\n",
       "      <th>...</th>\n",
       "      <td>...</td>\n",
       "      <td>...</td>\n",
       "      <td>...</td>\n",
       "      <td>...</td>\n",
       "      <td>...</td>\n",
       "      <td>...</td>\n",
       "      <td>...</td>\n",
       "      <td>...</td>\n",
       "      <td>...</td>\n",
       "      <td>...</td>\n",
       "      <td>...</td>\n",
       "      <td>...</td>\n",
       "      <td>...</td>\n",
       "      <td>...</td>\n",
       "      <td>...</td>\n",
       "      <td>...</td>\n",
       "      <td>...</td>\n",
       "    </tr>\n",
       "    <tr>\n",
       "      <th>131</th>\n",
       "      <td>352720; 924323</td>\n",
       "      <td>97-63-2</td>\n",
       "      <td>CCOC(=O)C(C)=C</td>\n",
       "      <td>114.14240264892578</td>\n",
       "      <td>Ethyl methacrylate</td>\n",
       "      <td>0</td>\n",
       "      <td>InChI=1S/C6H10O2/c1-4-8-6(7)5(2)3/h2,4H2,1,3H3</td>\n",
       "      <td>ToxValDB</td>\n",
       "      <td>not specified</td>\n",
       "      <td></td>\n",
       "      <td>C=C(C)C(=O)OCC</td>\n",
       "      <td>&lt;rdkit.Chem.rdchem.Mol object at 0x0000021E316...</td>\n",
       "      <td>[0, 0, 0, 0, 0, 0, 0, 0, 0, 0, 0, 0, 0, 0, 0, ...</td>\n",
       "      <td>[0, 0, 0, 0, 0, 0, 0, 0, 0, 0, 0, 0, 0, 0, 0, ...</td>\n",
       "      <td>[-0.5973710821116887, -0.1212806415544286, -0....</td>\n",
       "      <td>[-0.5973710821116887, -0.1212806415544286, -0....</td>\n",
       "      <td>[2773.7647803637346, 4631.056367748794, 3533.5...</td>\n",
       "    </tr>\n",
       "    <tr>\n",
       "      <th>132</th>\n",
       "      <td>205408</td>\n",
       "      <td>109-63-7</td>\n",
       "      <td>[B-]([O+](CC)CC)(F)(F)F</td>\n",
       "      <td>141.9278106689453</td>\n",
       "      <td>(Diethyl ether)trifluoroborane</td>\n",
       "      <td>1</td>\n",
       "      <td>InChI=1S/C4H10BF3O/c1-3-9(4-2)5(6,7)8/h3-4H2,1...</td>\n",
       "      <td>ToxValDB</td>\n",
       "      <td>not specified</td>\n",
       "      <td></td>\n",
       "      <td>CC[O+](CC)[B-](F)(F)F</td>\n",
       "      <td>&lt;rdkit.Chem.rdchem.Mol object at 0x0000021E316...</td>\n",
       "      <td>[0, 0, 0, 0, 0, 0, 0, 0, 0, 0, 0, 0, 0, 0, 0, ...</td>\n",
       "      <td>[0, 0, 0, 0, 0, 0, 0, 0, 0, 0, 0, 0, 0, 0, 0, ...</td>\n",
       "      <td>[-0.5357283255564811, 0.4861326875827931, 0.52...</td>\n",
       "      <td>[-0.5357283255564811, 0.4861326875827931, 0.52...</td>\n",
       "      <td>[0.0, 7094.922514657954, 1664.2588682182409, 0...</td>\n",
       "    </tr>\n",
       "    <tr>\n",
       "      <th>133</th>\n",
       "      <td>911342</td>\n",
       "      <td>3748-13-8</td>\n",
       "      <td>CC(=C)c1cccc(c1)C(C)=C</td>\n",
       "      <td>158.23956298828125</td>\n",
       "      <td>1,3-Diisopropenylbenzene</td>\n",
       "      <td>1</td>\n",
       "      <td>InChI=1S/C12H14/c1-9(2)11-6-5-7-12(8-11)10(3)4...</td>\n",
       "      <td>ToxValDB</td>\n",
       "      <td>not specified</td>\n",
       "      <td></td>\n",
       "      <td>C=C(C)c1cccc(C(=C)C)c1</td>\n",
       "      <td>&lt;rdkit.Chem.rdchem.Mol object at 0x0000021E316...</td>\n",
       "      <td>[0, 0, 0, 0, 0, 0, 0, 0, 0, 0, 0, 0, 0, 0, 0, ...</td>\n",
       "      <td>[0, 0, 0, 0, 0, 0, 0, 0, 0, 0, 0, 0, 0, 0, 0, ...</td>\n",
       "      <td>[-0.056679450416644586, 0.6820676018852742, 0....</td>\n",
       "      <td>[-0.056679450416644586, 0.6820676018852742, 0....</td>\n",
       "      <td>[4911.62747450049, 9374.669319592334, 6031.295...</td>\n",
       "    </tr>\n",
       "    <tr>\n",
       "      <th>134</th>\n",
       "      <td>1401</td>\n",
       "      <td>14228-73-0</td>\n",
       "      <td></td>\n",
       "      <td>256.33795166015625</td>\n",
       "      <td>2-[({4-[(oxiran-2-ylmethoxy)methyl]cyclohexyl}...</td>\n",
       "      <td>0</td>\n",
       "      <td>InChI=1S/C14H24O4/c1-2-12(6-16-8-14-10-18-14)4...</td>\n",
       "      <td>ECHA</td>\n",
       "      <td>A</td>\n",
       "      <td></td>\n",
       "      <td>C1CC(COCC2CO2)CCC1COCC1CO1</td>\n",
       "      <td>&lt;rdkit.Chem.rdchem.Mol object at 0x0000021E316...</td>\n",
       "      <td>[0, 0, 0, 0, 0, 0, 0, 0, 0, 0, 0, 0, 0, 0, 0, ...</td>\n",
       "      <td>[0, 0, 0, 0, 0, 0, 0, 0, 0, 0, 0, 0, 0, 0, 0, ...</td>\n",
       "      <td>[0.8593243411880346, 0.6451469466956423, 0.601...</td>\n",
       "      <td>[0.8593243411880346, 0.6451469466956423, 0.601...</td>\n",
       "      <td>[15158.922255550866, 19104.91896199795, 14294....</td>\n",
       "    </tr>\n",
       "    <tr>\n",
       "      <th>135</th>\n",
       "      <td>964; 965; 963; 962</td>\n",
       "      <td>2451-62-9</td>\n",
       "      <td></td>\n",
       "      <td>297.2640075683594</td>\n",
       "      <td>1,3,5-tris(oxiran-2-ylmethyl)-1,3,5-triazinane...</td>\n",
       "      <td>1</td>\n",
       "      <td>InChI=1S/C12H15N3O6/c16-10-13(1-7-4-19-7)11(17...</td>\n",
       "      <td>ECHA</td>\n",
       "      <td>A</td>\n",
       "      <td></td>\n",
       "      <td>O=c1n(CC2CO2)c(=O)n(CC2CO2)c(=O)n1CC1CO1</td>\n",
       "      <td>&lt;rdkit.Chem.rdchem.Mol object at 0x0000021E316...</td>\n",
       "      <td>[0, 0, 0, 0, 0, 0, 0, 0, 0, 0, 0, 0, 0, 0, 0, ...</td>\n",
       "      <td>[0, 0, 0, 0, 0, 0, 0, 0, 0, 0, 0, 0, 0, 0, 0, ...</td>\n",
       "      <td>[1.2356952477511418, 1.4945229041287726, 1.471...</td>\n",
       "      <td>[1.2356952477511418, 1.4945229041287726, 1.471...</td>\n",
       "      <td>[13206.39764208014, 14411.233108598088, 14501....</td>\n",
       "    </tr>\n",
       "  </tbody>\n",
       "</table>\n",
       "<p>136 rows × 17 columns</p>\n",
       "</div>"
      ],
      "text/plain": [
       "                                         id       casrn  \\\n",
       "0                                       660  36635-56-0   \n",
       "1                                       970    149-30-4   \n",
       "2                                    239691  15520-10-2   \n",
       "3                                      1148    104-12-1   \n",
       "4    256719; 904107; 904108; 904113; 904115  30674-80-7   \n",
       "..                                      ...         ...   \n",
       "131                          352720; 924323     97-63-2   \n",
       "132                                  205408    109-63-7   \n",
       "133                                  911342   3748-13-8   \n",
       "134                                    1401  14228-73-0   \n",
       "135                      964; 965; 963; 962   2451-62-9   \n",
       "\n",
       "              smiles (First)    Molecular weight  \\\n",
       "0                              213.2535400390625   \n",
       "1                              167.2512969970703   \n",
       "2                 CC(CN)CCCN  116.20464324951172   \n",
       "3                             153.56576538085938   \n",
       "4        CC(=C)C(=O)OCCN=C=O  155.15126037597656   \n",
       "..                       ...                 ...   \n",
       "131           CCOC(=O)C(C)=C  114.14240264892578   \n",
       "132  [B-]([O+](CC)CC)(F)(F)F   141.9278106689453   \n",
       "133   CC(=C)c1cccc(c1)C(C)=C  158.23956298828125   \n",
       "134                           256.33795166015625   \n",
       "135                            297.2640075683594   \n",
       "\n",
       "                                                  name Outcome  \\\n",
       "0                                                    -       0   \n",
       "1                            1,3-benzothiazole-2-thiol       0   \n",
       "2                               2-Methylpentanediamine       1   \n",
       "3                         1-chloro-4-isocyanatobenzene       1   \n",
       "4                       2-Isocyanatoethyl methacrylate       1   \n",
       "..                                                 ...     ...   \n",
       "131                                 Ethyl methacrylate       0   \n",
       "132                     (Diethyl ether)trifluoroborane       1   \n",
       "133                           1,3-Diisopropenylbenzene       1   \n",
       "134  2-[({4-[(oxiran-2-ylmethoxy)methyl]cyclohexyl}...       0   \n",
       "135  1,3,5-tris(oxiran-2-ylmethyl)-1,3,5-triazinane...       1   \n",
       "\n",
       "                     Molecule (RDKit Mol) (InChI Code) reference  \\\n",
       "0    InChI=1S/C9H11NO3S/c1-8-2-4-9(5-3-8)14(12,13)7...      ECHA   \n",
       "1    InChI=1S/C7H5NS2/c9-7-8-5-3-1-2-4-6(5)10-7/h1-...      ECHA   \n",
       "2    InChI=1S/C6H16N2/c1-6(5-8)3-2-4-7/h6H,2-5,7-8H...  ToxValDB   \n",
       "3      InChI=1S/C7H4ClNO/c8-6-1-3-7(4-2-6)9-5-10/h1-4H      ECHA   \n",
       "4    InChI=1S/C7H9NO3/c1-6(2)7(10)11-4-3-8-5-9/h1,3...  ToxValDB   \n",
       "..                                                 ...       ...   \n",
       "131     InChI=1S/C6H10O2/c1-4-8-6(7)5(2)3/h2,4H2,1,3H3  ToxValDB   \n",
       "132  InChI=1S/C4H10BF3O/c1-3-9(4-2)5(6,7)8/h3-4H2,1...  ToxValDB   \n",
       "133  InChI=1S/C12H14/c1-9(2)11-6-5-7-12(8-11)10(3)4...  ToxValDB   \n",
       "134  InChI=1S/C14H24O4/c1-2-12(6-16-8-14-10-18-14)4...      ECHA   \n",
       "135  InChI=1S/C12H15N3O6/c16-10-13(1-7-4-19-7)11(17...      ECHA   \n",
       "\n",
       "     molecule_form ID                                    SMILES  \\\n",
       "0                A                    Cc1ccc(S(=O)(=O)CNC=O)cc1   \n",
       "1                A                           S=c1[nH]c2ccccc2s1   \n",
       "2    not specified                                   CC(CN)CCCN   \n",
       "3                V                            O=C=Nc1ccc(Cl)cc1   \n",
       "4    not specified                          C=C(C)C(=O)OCCN=C=O   \n",
       "..             ... ..                                       ...   \n",
       "131  not specified                               C=C(C)C(=O)OCC   \n",
       "132  not specified                        CC[O+](CC)[B-](F)(F)F   \n",
       "133  not specified                       C=C(C)c1cccc(C(=C)C)c1   \n",
       "134              A                   C1CC(COCC2CO2)CCC1COCC1CO1   \n",
       "135              A     O=c1n(CC2CO2)c(=O)n(CC2CO2)c(=O)n1CC1CO1   \n",
       "\n",
       "                                                   Mol  \\\n",
       "0    <rdkit.Chem.rdchem.Mol object at 0x0000021E27F...   \n",
       "1    <rdkit.Chem.rdchem.Mol object at 0x0000021E315...   \n",
       "2    <rdkit.Chem.rdchem.Mol object at 0x0000021E315...   \n",
       "3    <rdkit.Chem.rdchem.Mol object at 0x0000021E315...   \n",
       "4    <rdkit.Chem.rdchem.Mol object at 0x0000021E315...   \n",
       "..                                                 ...   \n",
       "131  <rdkit.Chem.rdchem.Mol object at 0x0000021E316...   \n",
       "132  <rdkit.Chem.rdchem.Mol object at 0x0000021E316...   \n",
       "133  <rdkit.Chem.rdchem.Mol object at 0x0000021E316...   \n",
       "134  <rdkit.Chem.rdchem.Mol object at 0x0000021E316...   \n",
       "135  <rdkit.Chem.rdchem.Mol object at 0x0000021E316...   \n",
       "\n",
       "                                    Morgan_Descriptors  \\\n",
       "0    [0, 0, 0, 0, 0, 0, 0, 0, 0, 0, 0, 0, 0, 0, 0, ...   \n",
       "1    [0, 0, 0, 0, 0, 0, 0, 0, 0, 0, 0, 0, 0, 0, 0, ...   \n",
       "2    [0, 1, 0, 0, 0, 0, 0, 0, 0, 0, 0, 0, 0, 0, 0, ...   \n",
       "3    [0, 0, 0, 0, 0, 0, 0, 0, 0, 0, 0, 0, 0, 0, 0, ...   \n",
       "4    [0, 0, 0, 0, 0, 0, 0, 0, 0, 0, 0, 0, 0, 1, 0, ...   \n",
       "..                                                 ...   \n",
       "131  [0, 0, 0, 0, 0, 0, 0, 0, 0, 0, 0, 0, 0, 0, 0, ...   \n",
       "132  [0, 0, 0, 0, 0, 0, 0, 0, 0, 0, 0, 0, 0, 0, 0, ...   \n",
       "133  [0, 0, 0, 0, 0, 0, 0, 0, 0, 0, 0, 0, 0, 0, 0, ...   \n",
       "134  [0, 0, 0, 0, 0, 0, 0, 0, 0, 0, 0, 0, 0, 0, 0, ...   \n",
       "135  [0, 0, 0, 0, 0, 0, 0, 0, 0, 0, 0, 0, 0, 0, 0, ...   \n",
       "\n",
       "                                     MACCS_Descriptors  \\\n",
       "0    [0, 0, 0, 0, 0, 0, 0, 0, 0, 0, 0, 0, 0, 0, 0, ...   \n",
       "1    [0, 0, 0, 0, 0, 0, 0, 0, 0, 0, 0, 0, 0, 0, 0, ...   \n",
       "2    [0, 0, 0, 0, 0, 0, 0, 0, 0, 0, 0, 0, 0, 0, 0, ...   \n",
       "3    [0, 0, 0, 0, 0, 0, 0, 0, 0, 0, 0, 0, 0, 0, 0, ...   \n",
       "4    [0, 0, 0, 0, 0, 0, 0, 0, 0, 0, 0, 0, 0, 0, 0, ...   \n",
       "..                                                 ...   \n",
       "131  [0, 0, 0, 0, 0, 0, 0, 0, 0, 0, 0, 0, 0, 0, 0, ...   \n",
       "132  [0, 0, 0, 0, 0, 0, 0, 0, 0, 0, 0, 0, 0, 0, 0, ...   \n",
       "133  [0, 0, 0, 0, 0, 0, 0, 0, 0, 0, 0, 0, 0, 0, 0, ...   \n",
       "134  [0, 0, 0, 0, 0, 0, 0, 0, 0, 0, 0, 0, 0, 0, 0, ...   \n",
       "135  [0, 0, 0, 0, 0, 0, 0, 0, 0, 0, 0, 0, 0, 0, 0, ...   \n",
       "\n",
       "                                   Mordred_Descriptors  \\\n",
       "0    [0.17227603801262906, 0.8886519059101542, 0.93...   \n",
       "1    [-0.18271594369469454, 0.9650671746798422, 0.6...   \n",
       "2    [-0.5254753991580754, -0.44148053222262684, -0...   \n",
       "3    [-0.23341754326911535, 0.3606583930911114, 0.3...   \n",
       "4    [-0.21471011349678934, -0.05875499955955529, -...   \n",
       "..                                                 ...   \n",
       "131  [-0.5973710821116887, -0.1212806415544286, -0....   \n",
       "132  [-0.5357283255564811, 0.4861326875827931, 0.52...   \n",
       "133  [-0.056679450416644586, 0.6820676018852742, 0....   \n",
       "134  [0.8593243411880346, 0.6451469466956423, 0.601...   \n",
       "135  [1.2356952477511418, 1.4945229041287726, 1.471...   \n",
       "\n",
       "                                    Modred_Descriptors  \\\n",
       "0    [0.17227603801262906, 0.8886519059101542, 0.93...   \n",
       "1    [-0.18271594369469454, 0.9650671746798422, 0.6...   \n",
       "2    [-0.5254753991580754, -0.44148053222262684, -0...   \n",
       "3    [-0.23341754326911535, 0.3606583930911114, 0.3...   \n",
       "4    [-0.21471011349678934, -0.05875499955955529, -...   \n",
       "..                                                 ...   \n",
       "131  [-0.5973710821116887, -0.1212806415544286, -0....   \n",
       "132  [-0.5357283255564811, 0.4861326875827931, 0.52...   \n",
       "133  [-0.056679450416644586, 0.6820676018852742, 0....   \n",
       "134  [0.8593243411880346, 0.6451469466956423, 0.601...   \n",
       "135  [1.2356952477511418, 1.4945229041287726, 1.471...   \n",
       "\n",
       "                                     Modred_Descriptor  \n",
       "0    [4349.509637945195, 8674.913158843581, 4309.82...  \n",
       "1    [0.0, 3223.993109736407, 466.677662953109, 0.0...  \n",
       "2    [3379.4116499646852, 9898.293392995274, 5472.1...  \n",
       "3    [176.5938337215, 2906.485105267678, 669.731285...  \n",
       "4    [3429.7654986714906, 5624.892451913993, 3988.0...  \n",
       "..                                                 ...  \n",
       "131  [2773.7647803637346, 4631.056367748794, 3533.5...  \n",
       "132  [0.0, 7094.922514657954, 1664.2588682182409, 0...  \n",
       "133  [4911.62747450049, 9374.669319592334, 6031.295...  \n",
       "134  [15158.922255550866, 19104.91896199795, 14294....  \n",
       "135  [13206.39764208014, 14411.233108598088, 14501....  \n",
       "\n",
       "[136 rows x 17 columns]"
      ]
     },
     "execution_count": 45,
     "metadata": {},
     "output_type": "execute_result"
    }
   ],
   "source": [
    "moldf"
   ]
  },
  {
   "cell_type": "markdown",
   "id": "0fda7001",
   "metadata": {},
   "source": [
    "# Model Evaluation "
   ]
  },
  {
   "cell_type": "code",
   "execution_count": 20,
   "id": "41b25f84",
   "metadata": {},
   "outputs": [],
   "source": [
    "from sklearn.metrics import confusion_matrix, accuracy_score, roc_auc_score, f1_score, classification_report\n"
   ]
  },
  {
   "cell_type": "code",
   "execution_count": 12,
   "id": "25492087",
   "metadata": {},
   "outputs": [],
   "source": [
    "y_true = moldf['Outcome'].astype(int)  # Ensure it's of integer type, suitable for metrics calculation\n"
   ]
  },
  {
   "cell_type": "code",
   "execution_count": 13,
   "id": "a04a96f6",
   "metadata": {},
   "outputs": [
    {
     "name": "stdout",
     "output_type": "stream",
     "text": [
      "    ID                                    SMILES  Predictions\n",
      "0                      Cc1ccc(S(=O)(=O)CNC=O)cc1            1\n",
      "1                             S=c1[nH]c2ccccc2s1            0\n",
      "2                                     CC(CN)CCCN            1\n",
      "3                              O=C=Nc1ccc(Cl)cc1            1\n",
      "4                            C=C(C)C(=O)OCCN=C=O            1\n",
      "..  ..                                       ...          ...\n",
      "131                               C=C(C)C(=O)OCC            1\n",
      "132                        CC[O+](CC)[B-](F)(F)F            1\n",
      "133                       C=C(C)c1cccc(C(=C)C)c1            1\n",
      "134                   C1CC(COCC2CO2)CCC1COCC1CO1            0\n",
      "135     O=c1n(CC2CO2)c(=O)n(CC2CO2)c(=O)n1CC1CO1            0\n",
      "\n",
      "[136 rows x 3 columns]\n"
     ]
    }
   ],
   "source": [
    "# Consensus with probability average \n",
    "\n",
    "def predict_with_models_probabilities(moldf):\n",
    "    # Assuming `predict_proba` method is available and returns probabilities for the positive class\n",
    "    morgan_probs = rf_morgan.predict_proba(np.array(list(moldf['Morgan_Descriptors'].values)))[:, 1]  # Probabilities for class 1\n",
    "    maccs_probs = rf_maccs.predict_proba(np.array(list(moldf['MACCS_Descriptors'].values)))[:, 1]  # Probabilities for class 1\n",
    "    modred_probs = rf_modred.predict_proba(np.array(list(moldf['Modred_Descriptor'].values)))[:, 1]  # Probabilities for class 1\n",
    "\n",
    "    # Calculate the mean probability across all models\n",
    "    mean_probs = np.mean([morgan_probs, maccs_probs, modred_probs], axis=0)\n",
    "   # mean_probs = np.mean([morgan_probs, maccs_probs], axis=0)\n",
    "  #  mean_probs = np.mean([morgan_probs, modred_probs], axis=0)\n",
    "    # Convert mean probabilities to final class predictions (e.g., threshold at 0.5)\n",
    "    final_predictions = (mean_probs > 0.5).astype(int)\n",
    "    \n",
    "    return final_predictions\n",
    "\n",
    "# Run prediction\n",
    "final_predictions = predict_with_models_probabilities(moldf)\n",
    "moldf['Predictions'] = final_predictions\n",
    "\n",
    "print(moldf[['ID', 'SMILES', 'Predictions']])"
   ]
  },
  {
   "cell_type": "code",
   "execution_count": 126,
   "id": "82953396",
   "metadata": {},
   "outputs": [
    {
     "data": {
      "text/html": [
       "<div>\n",
       "<style scoped>\n",
       "    .dataframe tbody tr th:only-of-type {\n",
       "        vertical-align: middle;\n",
       "    }\n",
       "\n",
       "    .dataframe tbody tr th {\n",
       "        vertical-align: top;\n",
       "    }\n",
       "\n",
       "    .dataframe thead th {\n",
       "        text-align: right;\n",
       "    }\n",
       "</style>\n",
       "<table border=\"1\" class=\"dataframe\">\n",
       "  <thead>\n",
       "    <tr style=\"text-align: right;\">\n",
       "      <th></th>\n",
       "      <th>name</th>\n",
       "      <th>Outcome</th>\n",
       "      <th>SMILES</th>\n",
       "      <th>ID</th>\n",
       "      <th>Mol</th>\n",
       "      <th>Morgan_Descriptors</th>\n",
       "      <th>MACCS_Descriptors</th>\n",
       "      <th>Predictions</th>\n",
       "    </tr>\n",
       "  </thead>\n",
       "  <tbody>\n",
       "    <tr>\n",
       "      <th>0</th>\n",
       "      <td>3-azidosulfonylbenzoic acid</td>\n",
       "      <td>0</td>\n",
       "      <td>[N-]=[N+]=NS(=O)(=O)c1cccc(C(=O)O)c1</td>\n",
       "      <td></td>\n",
       "      <td>&lt;rdkit.Chem.rdchem.Mol object at 0x00000248AD7...</td>\n",
       "      <td>[0, 0, 0, 0, 0, 0, 0, 0, 0, 0, 0, 0, 0, 0, 0, ...</td>\n",
       "      <td>[0, 0, 0, 0, 0, 0, 0, 0, 0, 0, 0, 0, 0, 0, 0, ...</td>\n",
       "      <td>0</td>\n",
       "    </tr>\n",
       "    <tr>\n",
       "      <th>1</th>\n",
       "      <td>sodium;5-[2-chloro-4-(trifluoromethyl)phenoxy]...</td>\n",
       "      <td>0</td>\n",
       "      <td>O=C([O-])c1cc(Oc2ccc(C(F)(F)F)cc2Cl)ccc1[N+](=...</td>\n",
       "      <td></td>\n",
       "      <td>&lt;rdkit.Chem.rdchem.Mol object at 0x00000248AD7...</td>\n",
       "      <td>[0, 0, 0, 0, 0, 0, 0, 0, 0, 0, 0, 0, 0, 0, 0, ...</td>\n",
       "      <td>[0, 0, 0, 0, 0, 0, 0, 0, 0, 0, 0, 0, 0, 0, 0, ...</td>\n",
       "      <td>0</td>\n",
       "    </tr>\n",
       "    <tr>\n",
       "      <th>2</th>\n",
       "      <td>2-cyclohexyl-6-[(3-cyclohexyl-2-hydroxy-5-meth...</td>\n",
       "      <td>0</td>\n",
       "      <td>Cc1cc(Cc2cc(C)cc(C3CCCCC3)c2O)c(O)c(C2CCCCC2)c1</td>\n",
       "      <td></td>\n",
       "      <td>&lt;rdkit.Chem.rdchem.Mol object at 0x00000248AD7...</td>\n",
       "      <td>[0, 0, 1, 1, 1, 0, 0, 0, 0, 0, 0, 0, 0, 0, 0, ...</td>\n",
       "      <td>[0, 0, 0, 0, 0, 0, 0, 0, 0, 0, 0, 0, 0, 0, 0, ...</td>\n",
       "      <td>0</td>\n",
       "    </tr>\n",
       "    <tr>\n",
       "      <th>3</th>\n",
       "      <td>4-chloro-1-methylpiperidine;hydrochloride</td>\n",
       "      <td>1</td>\n",
       "      <td>CN1CCC(Cl)CC1.Cl</td>\n",
       "      <td></td>\n",
       "      <td>&lt;rdkit.Chem.rdchem.Mol object at 0x00000248AD7...</td>\n",
       "      <td>[0, 0, 0, 0, 0, 0, 0, 0, 0, 0, 0, 0, 0, 0, 0, ...</td>\n",
       "      <td>[0, 0, 0, 0, 0, 0, 0, 0, 0, 0, 0, 0, 0, 0, 0, ...</td>\n",
       "      <td>1</td>\n",
       "    </tr>\n",
       "    <tr>\n",
       "      <th>4</th>\n",
       "      <td>1-(diaminomethylidene)-2-(2-methylphenyl)guani...</td>\n",
       "      <td>0</td>\n",
       "      <td>Cc1ccccc1N=C(N)N=C(N)N</td>\n",
       "      <td></td>\n",
       "      <td>&lt;rdkit.Chem.rdchem.Mol object at 0x00000248AD7...</td>\n",
       "      <td>[0, 0, 0, 0, 0, 0, 0, 0, 0, 0, 0, 0, 0, 0, 0, ...</td>\n",
       "      <td>[0, 0, 0, 0, 0, 0, 0, 0, 0, 0, 0, 0, 0, 0, 0, ...</td>\n",
       "      <td>1</td>\n",
       "    </tr>\n",
       "    <tr>\n",
       "      <th>...</th>\n",
       "      <td>...</td>\n",
       "      <td>...</td>\n",
       "      <td>...</td>\n",
       "      <td>...</td>\n",
       "      <td>...</td>\n",
       "      <td>...</td>\n",
       "      <td>...</td>\n",
       "      <td>...</td>\n",
       "    </tr>\n",
       "    <tr>\n",
       "      <th>729</th>\n",
       "      <td>2-butyloctanoic acid</td>\n",
       "      <td>0</td>\n",
       "      <td>CCCCCCC(CCCC)C(=O)O</td>\n",
       "      <td></td>\n",
       "      <td>&lt;rdkit.Chem.rdchem.Mol object at 0x00000248AED...</td>\n",
       "      <td>[0, 1, 0, 0, 0, 0, 0, 0, 0, 0, 0, 0, 0, 0, 0, ...</td>\n",
       "      <td>[0, 0, 0, 0, 0, 0, 0, 0, 0, 0, 0, 0, 0, 0, 0, ...</td>\n",
       "      <td>0</td>\n",
       "    </tr>\n",
       "    <tr>\n",
       "      <th>730</th>\n",
       "      <td>propan-2-olate;titanium(4+)</td>\n",
       "      <td>0</td>\n",
       "      <td>CC(C)[O-].CC(C)[O-].CC(C)[O-].CC(C)[O-].[Ti+4]</td>\n",
       "      <td></td>\n",
       "      <td>&lt;rdkit.Chem.rdchem.Mol object at 0x00000248AED...</td>\n",
       "      <td>[0, 1, 0, 0, 0, 1, 0, 0, 0, 0, 0, 0, 0, 0, 0, ...</td>\n",
       "      <td>[0, 0, 0, 0, 0, 1, 0, 0, 0, 0, 0, 0, 0, 0, 0, ...</td>\n",
       "      <td>1</td>\n",
       "    </tr>\n",
       "    <tr>\n",
       "      <th>731</th>\n",
       "      <td>dichloro(phenyl)arsane</td>\n",
       "      <td>1</td>\n",
       "      <td>Cl[As](Cl)c1ccccc1</td>\n",
       "      <td></td>\n",
       "      <td>&lt;rdkit.Chem.rdchem.Mol object at 0x00000248AED...</td>\n",
       "      <td>[0, 0, 0, 0, 0, 1, 0, 0, 0, 0, 0, 0, 0, 0, 0, ...</td>\n",
       "      <td>[0, 0, 0, 1, 0, 0, 0, 0, 0, 0, 0, 0, 0, 0, 0, ...</td>\n",
       "      <td>1</td>\n",
       "    </tr>\n",
       "    <tr>\n",
       "      <th>732</th>\n",
       "      <td>1,1-dichloroprop-1-ene</td>\n",
       "      <td>0</td>\n",
       "      <td>CC=C(Cl)Cl</td>\n",
       "      <td></td>\n",
       "      <td>&lt;rdkit.Chem.rdchem.Mol object at 0x00000248AED...</td>\n",
       "      <td>[0, 0, 0, 0, 0, 0, 0, 0, 0, 0, 0, 0, 0, 0, 0, ...</td>\n",
       "      <td>[0, 0, 0, 0, 0, 0, 0, 0, 0, 0, 0, 0, 0, 0, 0, ...</td>\n",
       "      <td>1</td>\n",
       "    </tr>\n",
       "    <tr>\n",
       "      <th>733</th>\n",
       "      <td>methanamine</td>\n",
       "      <td>1</td>\n",
       "      <td>CN</td>\n",
       "      <td></td>\n",
       "      <td>&lt;rdkit.Chem.rdchem.Mol object at 0x00000248AED...</td>\n",
       "      <td>[0, 0, 0, 0, 0, 0, 0, 0, 0, 0, 0, 0, 0, 0, 0, ...</td>\n",
       "      <td>[0, 0, 0, 0, 0, 0, 0, 0, 0, 0, 0, 0, 0, 0, 0, ...</td>\n",
       "      <td>1</td>\n",
       "    </tr>\n",
       "  </tbody>\n",
       "</table>\n",
       "<p>734 rows × 8 columns</p>\n",
       "</div>"
      ],
      "text/plain": [
       "                                                  name Outcome  \\\n",
       "0                          3-azidosulfonylbenzoic acid       0   \n",
       "1    sodium;5-[2-chloro-4-(trifluoromethyl)phenoxy]...       0   \n",
       "2    2-cyclohexyl-6-[(3-cyclohexyl-2-hydroxy-5-meth...       0   \n",
       "3            4-chloro-1-methylpiperidine;hydrochloride       1   \n",
       "4    1-(diaminomethylidene)-2-(2-methylphenyl)guani...       0   \n",
       "..                                                 ...     ...   \n",
       "729                               2-butyloctanoic acid       0   \n",
       "730                        propan-2-olate;titanium(4+)       0   \n",
       "731                             dichloro(phenyl)arsane       1   \n",
       "732                             1,1-dichloroprop-1-ene       0   \n",
       "733                                        methanamine       1   \n",
       "\n",
       "                                                SMILES ID  \\\n",
       "0                 [N-]=[N+]=NS(=O)(=O)c1cccc(C(=O)O)c1      \n",
       "1    O=C([O-])c1cc(Oc2ccc(C(F)(F)F)cc2Cl)ccc1[N+](=...      \n",
       "2      Cc1cc(Cc2cc(C)cc(C3CCCCC3)c2O)c(O)c(C2CCCCC2)c1      \n",
       "3                                     CN1CCC(Cl)CC1.Cl      \n",
       "4                               Cc1ccccc1N=C(N)N=C(N)N      \n",
       "..                                                 ... ..   \n",
       "729                                CCCCCCC(CCCC)C(=O)O      \n",
       "730     CC(C)[O-].CC(C)[O-].CC(C)[O-].CC(C)[O-].[Ti+4]      \n",
       "731                                 Cl[As](Cl)c1ccccc1      \n",
       "732                                         CC=C(Cl)Cl      \n",
       "733                                                 CN      \n",
       "\n",
       "                                                   Mol  \\\n",
       "0    <rdkit.Chem.rdchem.Mol object at 0x00000248AD7...   \n",
       "1    <rdkit.Chem.rdchem.Mol object at 0x00000248AD7...   \n",
       "2    <rdkit.Chem.rdchem.Mol object at 0x00000248AD7...   \n",
       "3    <rdkit.Chem.rdchem.Mol object at 0x00000248AD7...   \n",
       "4    <rdkit.Chem.rdchem.Mol object at 0x00000248AD7...   \n",
       "..                                                 ...   \n",
       "729  <rdkit.Chem.rdchem.Mol object at 0x00000248AED...   \n",
       "730  <rdkit.Chem.rdchem.Mol object at 0x00000248AED...   \n",
       "731  <rdkit.Chem.rdchem.Mol object at 0x00000248AED...   \n",
       "732  <rdkit.Chem.rdchem.Mol object at 0x00000248AED...   \n",
       "733  <rdkit.Chem.rdchem.Mol object at 0x00000248AED...   \n",
       "\n",
       "                                    Morgan_Descriptors  \\\n",
       "0    [0, 0, 0, 0, 0, 0, 0, 0, 0, 0, 0, 0, 0, 0, 0, ...   \n",
       "1    [0, 0, 0, 0, 0, 0, 0, 0, 0, 0, 0, 0, 0, 0, 0, ...   \n",
       "2    [0, 0, 1, 1, 1, 0, 0, 0, 0, 0, 0, 0, 0, 0, 0, ...   \n",
       "3    [0, 0, 0, 0, 0, 0, 0, 0, 0, 0, 0, 0, 0, 0, 0, ...   \n",
       "4    [0, 0, 0, 0, 0, 0, 0, 0, 0, 0, 0, 0, 0, 0, 0, ...   \n",
       "..                                                 ...   \n",
       "729  [0, 1, 0, 0, 0, 0, 0, 0, 0, 0, 0, 0, 0, 0, 0, ...   \n",
       "730  [0, 1, 0, 0, 0, 1, 0, 0, 0, 0, 0, 0, 0, 0, 0, ...   \n",
       "731  [0, 0, 0, 0, 0, 1, 0, 0, 0, 0, 0, 0, 0, 0, 0, ...   \n",
       "732  [0, 0, 0, 0, 0, 0, 0, 0, 0, 0, 0, 0, 0, 0, 0, ...   \n",
       "733  [0, 0, 0, 0, 0, 0, 0, 0, 0, 0, 0, 0, 0, 0, 0, ...   \n",
       "\n",
       "                                     MACCS_Descriptors  Predictions  \n",
       "0    [0, 0, 0, 0, 0, 0, 0, 0, 0, 0, 0, 0, 0, 0, 0, ...            0  \n",
       "1    [0, 0, 0, 0, 0, 0, 0, 0, 0, 0, 0, 0, 0, 0, 0, ...            0  \n",
       "2    [0, 0, 0, 0, 0, 0, 0, 0, 0, 0, 0, 0, 0, 0, 0, ...            0  \n",
       "3    [0, 0, 0, 0, 0, 0, 0, 0, 0, 0, 0, 0, 0, 0, 0, ...            1  \n",
       "4    [0, 0, 0, 0, 0, 0, 0, 0, 0, 0, 0, 0, 0, 0, 0, ...            1  \n",
       "..                                                 ...          ...  \n",
       "729  [0, 0, 0, 0, 0, 0, 0, 0, 0, 0, 0, 0, 0, 0, 0, ...            0  \n",
       "730  [0, 0, 0, 0, 0, 1, 0, 0, 0, 0, 0, 0, 0, 0, 0, ...            1  \n",
       "731  [0, 0, 0, 1, 0, 0, 0, 0, 0, 0, 0, 0, 0, 0, 0, ...            1  \n",
       "732  [0, 0, 0, 0, 0, 0, 0, 0, 0, 0, 0, 0, 0, 0, 0, ...            1  \n",
       "733  [0, 0, 0, 0, 0, 0, 0, 0, 0, 0, 0, 0, 0, 0, 0, ...            1  \n",
       "\n",
       "[734 rows x 8 columns]"
      ]
     },
     "execution_count": 126,
     "metadata": {},
     "output_type": "execute_result"
    }
   ],
   "source": [
    "moldf"
   ]
  },
  {
   "cell_type": "markdown",
   "id": "f5e65989",
   "metadata": {},
   "source": [
    "# Metrics performance"
   ]
  },
  {
   "cell_type": "code",
   "execution_count": 14,
   "id": "4b072bb8",
   "metadata": {},
   "outputs": [
    {
     "name": "stdout",
     "output_type": "stream",
     "text": [
      "Confusion Matrix:\n",
      "[[45 15]\n",
      " [20 56]]\n",
      "Accuracy: 0.7426470588235294\n",
      "AUC Score: 0.743421052631579\n",
      "F1 Score: 0.7619047619047618\n",
      "Sensitivity: 0.7368421052631579\n",
      "Specificity: 0.75\n",
      "CCR (Correct Classification Rate): 0.743421052631579\n",
      "PPV (Positive Predictive Value): 0.7887323943661971\n",
      "NPV (Negative Predictive Value): 0.6923076923076923\n"
     ]
    }
   ],
   "source": [
    "from sklearn.metrics import confusion_matrix, accuracy_score, roc_auc_score, f1_score\n",
    "\n",
    "# Assuming y_true and final_predictions are defined\n",
    "conf_matrix = confusion_matrix(y_true, final_predictions)\n",
    "print(\"Confusion Matrix:\")\n",
    "print(conf_matrix)\n",
    "\n",
    "accuracy = accuracy_score(y_true, final_predictions)\n",
    "print(\"Accuracy:\", accuracy)\n",
    "\n",
    "# Assuming you have probabilities (modify if you only have labels)\n",
    "# For labels only:\n",
    "auc_score = roc_auc_score(y_true, final_predictions)\n",
    "print(\"AUC Score:\", auc_score)\n",
    "\n",
    "f1 = f1_score(y_true, final_predictions, average='binary')  # For binary classification\n",
    "print(\"F1 Score:\", f1)\n",
    "\n",
    "tn, fp, fn, tp = conf_matrix.ravel()\n",
    "sensitivity = tp / (tp + fn)\n",
    "specificity = tn / (tn + fp)\n",
    "print(\"Sensitivity:\", sensitivity)\n",
    "print(\"Specificity:\", specificity)\n",
    "\n",
    "# Correct Classification Rate (CCR)\n",
    "ccr = (sensitivity + specificity) / 2\n",
    "print(\"CCR (Correct Classification Rate):\", ccr)\n",
    "\n",
    "# Positive Predictive Value (PPV)\n",
    "ppv = tp / (tp + fp)\n",
    "print(\"PPV (Positive Predictive Value):\", ppv)\n",
    "\n",
    "# Negative Predictive Value (NPV)\n",
    "npv = tn / (tn + fn)\n",
    "print(\"NPV (Negative Predictive Value):\", npv)\n"
   ]
  },
  {
   "cell_type": "code",
   "execution_count": null,
   "id": "d5f84bb9",
   "metadata": {},
   "outputs": [],
   "source": []
  }
 ],
 "metadata": {
  "kernelspec": {
   "display_name": "Python 3 (ipykernel)",
   "language": "python",
   "name": "python3"
  },
  "language_info": {
   "codemirror_mode": {
    "name": "ipython",
    "version": 3
   },
   "file_extension": ".py",
   "mimetype": "text/x-python",
   "name": "python",
   "nbconvert_exporter": "python",
   "pygments_lexer": "ipython3",
   "version": "3.9.12"
  }
 },
 "nbformat": 4,
 "nbformat_minor": 5
}
